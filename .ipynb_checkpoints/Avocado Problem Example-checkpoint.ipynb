{
 "cells": [
  {
   "cell_type": "markdown",
   "metadata": {
    "_uuid": "48850fc364346318a5428d9b045c8aca0f61a2d9"
   },
   "source": [
    "## Table of Content\n",
    "\n",
    "1. [Problem Statement](#section1)<br>\n",
    "2. [Data Loading and Description](#section2)<br>\n",
    "3. [Exploratory Data Analysis](#section3)<br>\n",
    "    - 3.1 [Type of Avocado vs Average Price](#section301)<br>\n",
    "    - 3.2 [Total Volume vs Small, Large and XLarge](#section302)<br>\n",
    "    - 3.3 [Total Bags vs Small Bags, Large Bags and XLarge Bags](#section303)<br>\n",
    "    - 3.4 [Region Vs Year distribution](#section304)<br>\n",
    "    - 3.5 [Region Vs AveragePrice distribution](#section305)<br>\n",
    "4. [Classifying Type of Avocado](#section4)<br>\n",
    "    - 4.1 [Using Logistic Regression](#section401)<br>\n",
    "    - 4.2 [Using Random forest classifier](#section402)<br>\n",
    "5. [Predicting Average Price of Avocado](#section5)<br>\n",
    "    - 5.1 [Using Linear Regression model](#section501)<br>\n",
    "    - 5.2 [Model Evaluation for Linear Regression Model](#section502)<br>\n",
    "    - 5.3 [Evaluation of Linear Regression Model using different columns](#section503)<br>\n",
    "    - 5.4 [Using Random Forest Regressor](#section504)<br>\n",
    "    - 5.5 [Model Evaluation for Random Forest Regressor](#section505)<br>\n",
    "6. [Conclusion](#section6)<br>"
   ]
  },
  {
   "cell_type": "markdown",
   "metadata": {
    "_uuid": "185036c8ecc13887e3cb316df1c1a23793ebde80"
   },
   "source": [
    "<a id=section1></a> \n",
    "## 1. Problem Statement !\n",
    "\n",
    "\"The __Avocado__ dataset we are classifying __Organic & Conventional Type__ and prediting the __Average price__ using Regression model from year __2015, 2016, 2017 and 2018 data.__\"\n"
   ]
  },
  {
   "cell_type": "markdown",
   "metadata": {
    "_uuid": "f5d77daaa39d510498446dd5d0677160a1e40fcd"
   },
   "source": [
    "<a id=section2></a> \n",
    "## 2. Data Loading and Description\n",
    "The Avocado dataset includes consumption of fruit in different regions of USA from 2015 till 2018 years of data.\n",
    "* We have two types of Avocado available\n",
    "1. Organic (Healthy)\n",
    "2. Conventional"
   ]
  },
  {
   "cell_type": "code",
   "execution_count": null,
   "metadata": {
    "_uuid": "bd90ef6f2cf62f6ea69696e7429103876f95a3ba"
   },
   "outputs": [],
   "source": [
    "import numpy as np\n",
    "import pandas as pd\n",
    "import seaborn as sns\n",
    "import matplotlib.pyplot as plt\n",
    "\n",
    "import os\n",
    "print(os.listdir(\"../input\"))\n",
    "\n",
    "from matplotlib import pyplot\n",
    "\n",
    "from sklearn import metrics\n",
    "from sklearn.preprocessing import StandardScaler\n",
    "from sklearn.preprocessing import LabelEncoder\n",
    "\n",
    "import warnings                                                                 \n",
    "warnings.filterwarnings('ignore') \n",
    "\n",
    "# allow plots to appear directly in the notebook\n",
    "%matplotlib inline\n",
    "\n",
    "from subprocess import check_output\n",
    "from sklearn.metrics import accuracy_score\n",
    "from sklearn.metrics import confusion_matrix\n",
    "from sklearn.model_selection import train_test_split\n",
    "\n",
    "from sklearn.linear_model import LogisticRegression\n",
    "from sklearn.linear_model import LinearRegression\n",
    "\n",
    "from sklearn.ensemble import RandomForestClassifier\n",
    "from sklearn.ensemble import RandomForestRegressor"
   ]
  },
  {
   "cell_type": "code",
   "execution_count": null,
   "metadata": {
    "_uuid": "c2d61fc260d00d0d5420689f62d97096b6b7b140"
   },
   "outputs": [],
   "source": [
    "#data = pd.read_csv('https://raw.githubusercontent.com/insaid2018/Term-2/master/Projects/avocado.csv', index_col=0)\n",
    "data = pd.read_csv(\"../input/avocado.csv\")\n",
    "data.drop(\"Unnamed: 0\", axis=1,inplace=True)\n",
    "names = ['Date', 'AveragePrice', 'TotalVolume', 'Small', 'Large', 'XLarge', 'TotalBags', 'SmallBags', 'LargeBags', 'XLargeBags', 'Type', 'Year' ,'Region']\n",
    "data = data.rename(columns=dict(zip(data.columns, names)))\n",
    "data.head()"
   ]
  },
  {
   "cell_type": "markdown",
   "metadata": {
    "_uuid": "8218c9103b15f258f9d3259abf1572ffb2ea4c4d"
   },
   "source": [
    "We can see there is no null values. We have 18249 records.<br>\n",
    "No need to add values on the provided data."
   ]
  },
  {
   "cell_type": "code",
   "execution_count": null,
   "metadata": {
    "_uuid": "583174573d56719bf8eadb89331a0ac96bd6655a"
   },
   "outputs": [],
   "source": [
    "data.info()"
   ]
  },
  {
   "cell_type": "code",
   "execution_count": null,
   "metadata": {
    "_uuid": "23adad0db9dba2f424d0730fbedf5fe081f8decf"
   },
   "outputs": [],
   "source": [
    "data.describe(include='all')"
   ]
  },
  {
   "cell_type": "markdown",
   "metadata": {
    "_uuid": "7bb81fa84496eb97bedd28bc514897bf385851b6"
   },
   "source": [
    "## 3. Exploratory Data Analysis"
   ]
  },
  {
   "cell_type": "code",
   "execution_count": null,
   "metadata": {
    "_uuid": "f7cdd771194a0c42e234be47b9dc898012d1110e"
   },
   "outputs": [],
   "source": [
    "data.Type.unique()"
   ]
  },
  {
   "cell_type": "code",
   "execution_count": null,
   "metadata": {
    "_uuid": "7cf35808510957b6ed0c809e6c3549f3e956c2b5"
   },
   "outputs": [],
   "source": [
    "data.Year.unique()"
   ]
  },
  {
   "cell_type": "markdown",
   "metadata": {
    "_uuid": "4acc2fed4fcc4c68dadab4ae9172be4cc1f346db"
   },
   "source": [
    "From the data we have four years of data, we can use different years for analysis.<br>\n",
    "we can divide our whole dataset into Organic and Conventional types."
   ]
  },
  {
   "cell_type": "markdown",
   "metadata": {
    "_uuid": "8c95e5235853e63134f2618bc389610acb2f319c"
   },
   "source": [
    "### 3.1. Type of Avocado vs Average Price "
   ]
  },
  {
   "cell_type": "code",
   "execution_count": null,
   "metadata": {
    "_uuid": "d79369a0f0f50929d938caa375cda3d5a4160443"
   },
   "outputs": [],
   "source": [
    "sns.boxplot(y=\"Type\", x=\"AveragePrice\", data=data, palette = 'pink')"
   ]
  },
  {
   "cell_type": "markdown",
   "metadata": {
    "_uuid": "3e68b44cf8a2c1a82729e46c6fd5e61cba970e04"
   },
   "source": [
    "From the above boxplot we can say that Organic fruit price is more as compared to conventional fruit."
   ]
  },
  {
   "cell_type": "code",
   "execution_count": null,
   "metadata": {
    "_uuid": "fd14fb65dd9779d02f6f807463d49c3af82e43d4"
   },
   "outputs": [],
   "source": [
    "label = LabelEncoder()\n",
    "dicts = {}\n",
    "\n",
    "label.fit(data.Type.drop_duplicates()) \n",
    "dicts['Type'] = list(label.classes_)\n",
    "data.Type = label.transform(data.Type)"
   ]
  },
  {
   "cell_type": "code",
   "execution_count": null,
   "metadata": {
    "_uuid": "59ef1c3690b5d47c5a2dcf3529577558c06488b5"
   },
   "outputs": [],
   "source": [
    "cols = ['AveragePrice','Type','Year','TotalVolume','TotalBags']\n",
    "cm = np.corrcoef(data[cols].values.T)\n",
    "sns.set(font_scale = 1.7)\n",
    "hm = sns.heatmap(cm,cbar = True, annot = True,square = True, fmt = '.2f', annot_kws = {'size':15}, yticklabels = cols, xticklabels = cols)"
   ]
  },
  {
   "cell_type": "markdown",
   "metadata": {
    "_uuid": "31e34bd104f336de3f81c3f03ec6a52ba3fc21e5"
   },
   "source": [
    "We can see there is a strong relation between TotalBags and TotalVolume ie, 0.96 and also Type and AveragePrice ie, 0.62.<br> Other than that there is weak realation."
   ]
  },
  {
   "cell_type": "markdown",
   "metadata": {
    "_uuid": "9334909de84eb9a356fbac03f70a69013f4dfcfe"
   },
   "source": [
    "### 3.2. Total Volume vs Small, Large and XLarge"
   ]
  },
  {
   "cell_type": "code",
   "execution_count": null,
   "metadata": {
    "_uuid": "28cc21c488b8ebea6549823f2cb31b349be3446b"
   },
   "outputs": [],
   "source": [
    "sns.pairplot(data, x_vars=['Small', 'Large', 'XLarge'], y_vars='TotalVolume', size=5, aspect=1, kind='reg')"
   ]
  },
  {
   "cell_type": "markdown",
   "metadata": {
    "_uuid": "d6f5d2e486ebeba048aa664b30612c823c00058b"
   },
   "source": [
    "### 3.3. Total Bags vs Small Bags, Large Bags and XLarge Bags"
   ]
  },
  {
   "cell_type": "code",
   "execution_count": null,
   "metadata": {
    "_uuid": "0b34df0cbaa3f3b065bfe4d2c9857640e1d68c10"
   },
   "outputs": [],
   "source": [
    "sns.pairplot(data, x_vars=['SmallBags', 'LargeBags', 'XLargeBags'], y_vars='TotalBags', size=5, aspect=1, kind='reg')"
   ]
  },
  {
   "cell_type": "markdown",
   "metadata": {
    "_uuid": "346c3421f16da5fabb9f5b606d65bc6cd80fdce7"
   },
   "source": [
    "There is a strong co-relation between TotalVolume Vs Small and TotalBags Vs SmallBags.<br>\n",
    "We can say weak co-relation between TotalVolume Vs XLarge and TotalBags Vs XLargeBags.<br>\n",
    "Large and LargeBags comes in the middle."
   ]
  },
  {
   "cell_type": "markdown",
   "metadata": {
    "_uuid": "a22dbfbfae098e39484eb3c03f7c7dbcb235b812"
   },
   "source": [
    "### 3.4. Region Vs Year distribution\n",
    "From the graph we can say that in year 2017 the HartfordSpringfield region being the maximum consumption of Avocado."
   ]
  },
  {
   "cell_type": "code",
   "execution_count": null,
   "metadata": {
    "_uuid": "3ac7fb431811161de922d081c3824a5964eaa742"
   },
   "outputs": [],
   "source": [
    "plt.figure(figsize=(12,20))\n",
    "sns.set_style('whitegrid')\n",
    "sns.pointplot(x='AveragePrice',y='Region',data=data, hue='Year',join=False)\n",
    "plt.xticks(np.linspace(1,2,5))\n",
    "plt.xlabel('Region',{'fontsize' : 'large'})\n",
    "plt.ylabel('AveragePrice',{'fontsize':'large'})\n",
    "plt.title(\"Yearly Average Price in Each Region\",{'fontsize':20})"
   ]
  },
  {
   "cell_type": "markdown",
   "metadata": {
    "_uuid": "b74df68a888a5e28a71f60d39dc0bb18b2b68c13"
   },
   "source": [
    "### 3.5. Region Vs AveragePrice distribution\n",
    "From the graph we can say that Organic Type Avocado prices are high in HartfordSpringfield and Sanfrancisco region.<br>\n",
    "For Conventional Type we have an average price < 1.50$."
   ]
  },
  {
   "cell_type": "code",
   "execution_count": null,
   "metadata": {
    "_uuid": "cadfcd9f69328bbaa201ee544e669ca81bfa1fd3"
   },
   "outputs": [],
   "source": [
    "plt.figure(figsize=(12,20))\n",
    "sns.set_style('whitegrid')\n",
    "sns.pointplot(x='AveragePrice', y='Region', data=data, hue='Type',join=False)\n",
    "plt.xticks(np.linspace(1,2,5))\n",
    "plt.xlabel('Region',{'fontsize' : 'large'})\n",
    "plt.ylabel('AveragePrice',{'fontsize':'large'})\n",
    "plt.title(\"Type Average Price in Each Region\",{'fontsize':20})"
   ]
  },
  {
   "cell_type": "markdown",
   "metadata": {
    "_uuid": "d6784832840943b2e34bd33be23140384ec0732b"
   },
   "source": [
    "## 4. Classifying Type of Avocado"
   ]
  },
  {
   "cell_type": "markdown",
   "metadata": {
    "_uuid": "aa1cd1039980ec42b55e25ceda4d473b4080c6f5"
   },
   "source": [
    "### 4.1. Using Logistic Regression"
   ]
  },
  {
   "cell_type": "code",
   "execution_count": null,
   "metadata": {
    "_uuid": "3a8d12b54ca65e542d1e7f01ec3c978757862cd8"
   },
   "outputs": [],
   "source": [
    "X=data[['AveragePrice', 'Small', 'Large', 'XLarge', 'SmallBags', 'LargeBags', 'XLargeBags']] #feature columns\n",
    "y=data.Type #predictor variable\n",
    "\n",
    "X_train, X_test, y_train, y_test = train_test_split(X, y, test_size=0.20, random_state=1)\n",
    "\n",
    "print(\"X Train Shape \",X_train.shape)\n",
    "print(\"Y Train Shape \",y_train.shape)\n",
    "\n",
    "print(\"X Test Shape \",X_test.shape)\n",
    "print(\"Y Test Shape \",y_test.shape)"
   ]
  },
  {
   "cell_type": "code",
   "execution_count": null,
   "metadata": {
    "_uuid": "763c541a54ef898da97d622528f05e7cfb7b9e21"
   },
   "outputs": [],
   "source": [
    "#Logistic Regression model\n",
    "logreg = LogisticRegression()\n",
    "logreg.fit(X_train,y_train)\n",
    "\n",
    "y_pred_train = logreg.predict(X_train)  \n",
    "y_pred_test = logreg.predict(X_test)  \n",
    "\n",
    "#Acuuracy score\n",
    "print('Accuracy score for Logistic Regression test data is:', accuracy_score(y_test,y_pred_test))\n",
    "\n",
    "print('----------------------------------------------------------------------------------------')\n",
    "\n",
    "#Confusion matrix\n",
    "from sklearn.metrics import confusion_matrix\n",
    "confusion_matrix = pd.DataFrame(confusion_matrix(y_test, y_pred_test))\n",
    "confusion_matrix.index = ['organic','Conventional']\n",
    "confusion_matrix.columns = ['Predicted organic','Predicted Conventional']\n",
    "print(\"Confusion matrix for logistic regression model\")\n",
    "print(confusion_matrix)\n",
    "\n",
    "print('----------------------------------------------------------------------------------------')\n",
    "\n",
    "#AUC ROC Curve\n",
    "probs = logreg.predict_proba(X_test)\n",
    "preds = probs[:,1]\n",
    "fpr, tpr, threshold = metrics.roc_curve(y_test, preds)\n",
    "roc_auc = metrics.auc(fpr, tpr)\n",
    "plt.title('Receiver Operating Characteristic')\n",
    "plt.plot(fpr, tpr, 'b', label = 'AUC = %0.2f' % roc_auc)\n",
    "plt.legend(loc = 'lower right')\n",
    "plt.plot([0, 1], [0, 1],'r--')\n",
    "plt.xlim([0, 1])\n",
    "plt.ylim([0, 1])\n",
    "plt.ylabel('True Positive Rate')\n",
    "plt.xlabel('False Positive Rate')\n",
    "plt.show()"
   ]
  },
  {
   "cell_type": "markdown",
   "metadata": {
    "_uuid": "9e34a2e0e73da75b224676c99ca9891b895d014f"
   },
   "source": [
    "### 4.2. Using Random forest classifier"
   ]
  },
  {
   "cell_type": "code",
   "execution_count": null,
   "metadata": {
    "_uuid": "94c4804dc22440b6286932eda52b6f2d0981cb1a"
   },
   "outputs": [],
   "source": [
    "#Randomforest classifier\n",
    "rfclass = RandomForestClassifier(random_state = 0)\n",
    "rfclass.fit(X_train, y_train)\n",
    "\n",
    "y_pred_train = rfclass.predict(X_train)\n",
    "y_pred_test = rfclass.predict(X_test)\n",
    "\n",
    "#Accuracy score\n",
    "print('Accuracy score for test data using Random Forest :', accuracy_score(y_test,y_pred_test))\n",
    "\n",
    "print('----------------------------------------------------------------------------------------')\n",
    "\n",
    "#Confusion matrix\n",
    "from sklearn.metrics import confusion_matrix\n",
    "confusion_matrix = pd.DataFrame(confusion_matrix(y_test, y_pred_test))\n",
    "confusion_matrix.index = ['organic','Conventional']\n",
    "confusion_matrix.columns = ['Predicted organic','Predicted Conventional']\n",
    "print(\"Confusion matrix for Random forest model\")\n",
    "print(confusion_matrix)\n",
    "\n",
    "print('----------------------------------------------------------------------------------------')\n",
    "\n",
    "#AUC ROC Curve\n",
    "probs = rfclass.predict_proba(X_test)\n",
    "preds = probs[:,1]\n",
    "fpr, tpr, threshold = metrics.roc_curve(y_test, preds)\n",
    "roc_auc = metrics.auc(fpr, tpr)\n",
    "\n",
    "plt.title('Receiver Operating Characteristic')\n",
    "plt.plot(fpr, tpr, 'b', label = 'AUC = %0.2f' % roc_auc)\n",
    "plt.legend(loc = 'lower right')\n",
    "plt.plot([0, 1], [0, 1],'r--')\n",
    "plt.xlim([0, 1])\n",
    "plt.ylim([0, 1])\n",
    "plt.ylabel('True Positive Rate')\n",
    "plt.xlabel('False Positive Rate')\n",
    "plt.show()"
   ]
  },
  {
   "cell_type": "markdown",
   "metadata": {
    "_uuid": "e570d849f17d259cd467d52fc18973dcb1a87676"
   },
   "source": [
    "### 5. Predicting Average Price of Avocado"
   ]
  },
  {
   "cell_type": "code",
   "execution_count": null,
   "metadata": {
    "_uuid": "348c023a681109fb439170ec446ce022b83d5577"
   },
   "outputs": [],
   "source": [
    "data.drop(['Date', 'TotalVolume', 'TotalBags', 'Region', 'Year'], axis = 1,inplace = True)"
   ]
  },
  {
   "cell_type": "code",
   "execution_count": null,
   "metadata": {
    "_uuid": "667705cf49ae4bac1608bb272ab8d6dd37953eae"
   },
   "outputs": [],
   "source": [
    "data.columns"
   ]
  },
  {
   "cell_type": "markdown",
   "metadata": {
    "_uuid": "fcfd5bef07419968241fecfc2f9765a2a209d6cc"
   },
   "source": [
    "We are calculting Average price of Avocado considering columns:<br> __['AveragePrice', 'Small', 'Large', 'XLarge', 'SmallBags', 'LargeBags', 'XLargeBags', 'Type']__ <br>"
   ]
  },
  {
   "cell_type": "code",
   "execution_count": null,
   "metadata": {
    "_uuid": "edf1d9e1b15899703e7d174a5c8a833c29616248"
   },
   "outputs": [],
   "source": [
    "scaler = StandardScaler().fit(data)\n",
    "data_avocado_scaler = scaler.transform(data)\n",
    "data_avocado = pd.DataFrame(data_avocado_scaler)\n",
    "data_avocado.columns = ['AveragePrice', 'Small', 'Large', 'XLarge', 'SmallBags', 'LargeBags', 'XLargeBags', 'Type']\n",
    "data_avocado.head()"
   ]
  },
  {
   "cell_type": "code",
   "execution_count": null,
   "metadata": {
    "_uuid": "404d5e886666d7a929126841a5e6812e824952e5"
   },
   "outputs": [],
   "source": [
    "feature_cols = ['Small', 'Large', 'XLarge', 'SmallBags', 'LargeBags', 'XLargeBags', 'Type']\n",
    "X = data_avocado[feature_cols]"
   ]
  },
  {
   "cell_type": "code",
   "execution_count": null,
   "metadata": {
    "_uuid": "79f6198fa1084b2edfc30b63b60fb1e4b09bb2b7"
   },
   "outputs": [],
   "source": [
    "y = data_avocado.AveragePrice"
   ]
  },
  {
   "cell_type": "code",
   "execution_count": null,
   "metadata": {
    "_uuid": "5a960dee87e6b09652eba5d160d00826906e7af1"
   },
   "outputs": [],
   "source": [
    "def split(X,y):\n",
    "    return train_test_split(X, y, test_size=0.20, random_state=1)"
   ]
  },
  {
   "cell_type": "code",
   "execution_count": null,
   "metadata": {
    "_uuid": "c44f0280c8641cbc0a0d5c74eb0bcb2ca8c67e73"
   },
   "outputs": [],
   "source": [
    "X_train, X_test, y_train, y_test=split(X,y)\n",
    "print('Train cases as below')\n",
    "print('X_train shape: ',X_train.shape)\n",
    "print('y_train shape: ',y_train.shape)\n",
    "print('\\nTest cases as below')\n",
    "print('X_test shape: ',X_test.shape)\n",
    "print('y_test shape: ',y_test.shape)"
   ]
  },
  {
   "cell_type": "markdown",
   "metadata": {
    "_uuid": "ab052cedb8c16ecd8af9dd8adb8eaf475265c2af"
   },
   "source": [
    "### 5.1. Using Linear Regression model"
   ]
  },
  {
   "cell_type": "code",
   "execution_count": null,
   "metadata": {
    "_uuid": "5a46d433893404fb204f4e78f277a1502f3ab791"
   },
   "outputs": [],
   "source": [
    "def linear_reg( X, y, gridsearch = False):\n",
    "    \n",
    "    X_train, X_test, y_train, y_test = split(X,y)\n",
    "    \n",
    "    from sklearn.linear_model import LinearRegression\n",
    "    linreg = LinearRegression()\n",
    "    \n",
    "    if not(gridsearch):\n",
    "        linreg.fit(X_train, y_train) \n",
    "\n",
    "    else:\n",
    "        from sklearn.model_selection import GridSearchCV\n",
    "        parameters = {'normalize':[True,False], 'copy_X':[True, False]}\n",
    "        linreg = GridSearchCV(linreg,parameters, cv = 10)\n",
    "        linreg.fit(X_train, y_train)                                                           # fit the model to the training data (learn the coefficients)\n",
    "        print(\"Mean cross-validated score of the best_estimator : \", linreg.best_score_)  \n",
    "        \n",
    "        y_pred_test = linreg.predict(X_test)                                                   # make predictions on the testing set\n",
    "\n",
    "        RMSE_test = (metrics.mean_squared_error(y_test, y_pred_test))                          # compute the RMSE of our predictions\n",
    "        print('RMSE for the test set is {}'.format(RMSE_test))\n",
    "\n",
    "    return linreg"
   ]
  },
  {
   "cell_type": "code",
   "execution_count": null,
   "metadata": {
    "_uuid": "a53c04995c9d333c8c7b5876e0af57185f490124"
   },
   "outputs": [],
   "source": [
    "linreg = linear_reg(X,y)"
   ]
  },
  {
   "cell_type": "code",
   "execution_count": null,
   "metadata": {
    "_uuid": "99de72b2248e7795d535c098f29966e45c6f1f4b"
   },
   "outputs": [],
   "source": [
    "linreg.score(X,y)"
   ]
  },
  {
   "cell_type": "code",
   "execution_count": null,
   "metadata": {
    "_uuid": "bd4076989eef23a06e402edd971e18e2d4de1fc4"
   },
   "outputs": [],
   "source": [
    "print('Intercept:',linreg.intercept_)                                           # print the intercept \n",
    "print('Coefficients:',linreg.coef_)"
   ]
  },
  {
   "cell_type": "code",
   "execution_count": null,
   "metadata": {
    "_uuid": "e34dc3ec1f1979617172f5aef9b60d8574e3f6d1"
   },
   "outputs": [],
   "source": [
    "feature_cols.insert(0,'Intercept')\n",
    "coef = linreg.coef_.tolist()\n",
    "coef.insert(0, linreg.intercept_)"
   ]
  },
  {
   "cell_type": "code",
   "execution_count": null,
   "metadata": {
    "_uuid": "161c4a2a8d45e13c53efa84d16e162e3d6b1f697"
   },
   "outputs": [],
   "source": [
    "eq1 = zip(feature_cols, coef)\n",
    "\n",
    "for c1,c2 in eq1:\n",
    "    print(c1,c2)"
   ]
  },
  {
   "cell_type": "markdown",
   "metadata": {
    "_uuid": "c56f3544dbadacf56e9caf1f0f6baef110c43c27"
   },
   "source": [
    "__Y = -0.002 - (Small `*` 0.313) + (Large `*` 0.320) - (XLarge `*` 0.123) + (SmallBags `*` 0.061) - (LargeBags `*` 0.073) + (XLargeBags `*` 0.076) + Type `*` 0.605__\n",
    "<br>\n",
    "From the above equation __XLarge__ and __LargeBags__ are being __negative__. ie. If the value of __XLarge__ and __LargeBags__ decreases, the __Y__ value will increase and vise-versa."
   ]
  },
  {
   "cell_type": "code",
   "execution_count": null,
   "metadata": {
    "_uuid": "7a6fb4efa6cb1e23d312509706b4c51b1f13a817"
   },
   "outputs": [],
   "source": [
    "y_pred_train = linreg.predict(X_train)"
   ]
  },
  {
   "cell_type": "code",
   "execution_count": null,
   "metadata": {
    "_uuid": "6f6c30f3a4079b79ec323149743767d49418cc04"
   },
   "outputs": [],
   "source": [
    "y_pred_test = linreg.predict(X_test)"
   ]
  },
  {
   "cell_type": "markdown",
   "metadata": {
    "_uuid": "56eafd2c7eb0aea70598f2950197a67c6b2a5ef5"
   },
   "source": [
    "Calculating __Mean Absolute error__, __Mean Squared error__, __Root Mean Squared error__"
   ]
  },
  {
   "cell_type": "code",
   "execution_count": null,
   "metadata": {
    "_uuid": "af63614159bcd840c7b5279e19df665ea10b436b"
   },
   "outputs": [],
   "source": [
    "MAE_train = metrics.mean_absolute_error(y_train, y_pred_train)\n",
    "MAE_test = metrics.mean_absolute_error(y_test, y_pred_test)\n",
    "\n",
    "print('MAE for training set is {}'.format(MAE_train))\n",
    "print('MAE for test set is {}'.format(MAE_test))\n",
    "\n",
    "print('----------------------------------------------------------------------------------------')\n",
    "\n",
    "MSE_train = metrics.mean_squared_error(y_train, y_pred_train)\n",
    "MSE_test = metrics.mean_squared_error(y_test, y_pred_test)\n",
    "\n",
    "print('MSE for training set is {}'.format(MSE_train))\n",
    "print('MSE for test set is {}'.format(MSE_test))\n",
    "\n",
    "print('----------------------------------------------------------------------------------------')\n",
    "\n",
    "RMSE_train = np.sqrt( metrics.mean_squared_error(y_train, y_pred_train))\n",
    "RMSE_test = np.sqrt(metrics.mean_squared_error(y_test, y_pred_test))\n",
    "\n",
    "print('RMSE for training set is {}'.format(RMSE_train))\n",
    "print('RMSE for test set is {}'.format(RMSE_test))"
   ]
  },
  {
   "cell_type": "markdown",
   "metadata": {
    "_uuid": "436e29a3e0fd66fb87de652ea6091d1fe11b8664"
   },
   "source": [
    "If we compare RMSE and MSE value, we can conclude that RMSE is greater than MSE. "
   ]
  },
  {
   "cell_type": "markdown",
   "metadata": {
    "_uuid": "4b4ff27d58c502b8cd4f8d4603fe3e50ee6d96e9"
   },
   "source": [
    "### 5.2. Model Evaluation for Linear Regression Model"
   ]
  },
  {
   "cell_type": "markdown",
   "metadata": {
    "_uuid": "1721b0b7be38372e0d62a7f06662f630fe7f4370"
   },
   "source": [
    "We are calculating __Linear Regression__ model with same type of data."
   ]
  },
  {
   "cell_type": "code",
   "execution_count": null,
   "metadata": {
    "_uuid": "66497a3172e8d9f7c3be867691d2bbd5c0cc41ca"
   },
   "outputs": [],
   "source": [
    "print(\"Model Evaluation for Linear Regression Model\")\n",
    "\n",
    "print('----------------------------------------------------------------------------------------')\n",
    "\n",
    "yhat = linreg.predict(X_train)\n",
    "SS_Residual = sum((y_train-yhat)**2)\n",
    "SS_Total = sum((y_train-np.mean(y_train))**2)\n",
    "r_squared = 1 - (float(SS_Residual))/SS_Total\n",
    "adjusted_r_squared = 1 - (1-r_squared)*(len(y_train)-1)/(len(y_train)-X_train.shape[1]-1)\n",
    "print(\"r_squared for train data \",r_squared, \" and adjusted_r_squared for train data\",adjusted_r_squared)\n",
    "\n",
    "print('----------------------------------------------------------------------------------------')\n",
    "\n",
    "yhat = linreg.predict(X_test)\n",
    "SS_Residual = sum((y_test-yhat)**2)\n",
    "SS_Total = sum((y_test-np.mean(y_test))**2)\n",
    "r_squared = 1 - (float(SS_Residual))/SS_Total\n",
    "adjusted_r_squared = 1 - (1-r_squared)*(len(y_test)-1)/(len(y_test)-X_test.shape[1]-1)\n",
    "print(\"r_squared for test data \",r_squared, \" and adjusted_r_squared for test data\",adjusted_r_squared)"
   ]
  },
  {
   "cell_type": "markdown",
   "metadata": {
    "_uuid": "c5107f4560ac7f28e1158c4c983f4ffe0fc30d03"
   },
   "source": [
    "### 5.3. Evaluation of Linear Regression Model using different columns"
   ]
  },
  {
   "cell_type": "code",
   "execution_count": null,
   "metadata": {
    "_uuid": "b9b4745a7d2e98bdac3e1c3eb721ca5a7f1da2ab"
   },
   "outputs": [],
   "source": [
    "feature_cols = ['Small', 'SmallBags', 'Type']\n",
    "X1 = data_avocado[feature_cols]  \n",
    "y1 = data_avocado.AveragePrice\n",
    "linreg=linear_reg(X1,y1, gridsearch = True)"
   ]
  },
  {
   "cell_type": "code",
   "execution_count": null,
   "metadata": {
    "_uuid": "046e4a5bad16b77c8311a2c9525e532a2364bc5e"
   },
   "outputs": [],
   "source": [
    "feature_cols = ['Large', 'LargeBags', 'Type']\n",
    "X1 = data_avocado[feature_cols]  \n",
    "y1 = data_avocado.AveragePrice\n",
    "linreg=linear_reg(X1,y1, gridsearch = True)"
   ]
  },
  {
   "cell_type": "code",
   "execution_count": null,
   "metadata": {
    "_uuid": "e610409a726d8e522ca15e6e0ca79ccebc66d901"
   },
   "outputs": [],
   "source": [
    "feature_cols = ['XLarge', 'XLargeBags', 'Type']\n",
    "X1 = data_avocado[feature_cols]  \n",
    "y1 = data_avocado.AveragePrice\n",
    "linreg=linear_reg(X1,y1, gridsearch = True)"
   ]
  },
  {
   "cell_type": "markdown",
   "metadata": {
    "_uuid": "56a18f598d608ec3e2e9ab7c06f279825d7d139f"
   },
   "source": [
    "From the above analysis we can say that __RMSE value 0.6095__ is lower between the three. __Lesser the RMSE value better would be the model.__"
   ]
  },
  {
   "cell_type": "markdown",
   "metadata": {
    "_uuid": "02c98bf6ff2aabb1fee6ba1c331a2a68f60d9314"
   },
   "source": [
    "### 5.4. Using Random Forest Regressor"
   ]
  },
  {
   "cell_type": "code",
   "execution_count": null,
   "metadata": {
    "_uuid": "f1740bd89df8a2482f25de6f2d2e95c90c7e8f99"
   },
   "outputs": [],
   "source": [
    "from sklearn.ensemble import RandomForestRegressor\n",
    "model2 = RandomForestRegressor(random_state = 0)\n",
    "model2.fit(X_train, y_train)\n",
    "y_pred_train = model2.predict(X_train)\n",
    "y_pred_test = model2.predict(X_test) "
   ]
  },
  {
   "cell_type": "markdown",
   "metadata": {
    "_uuid": "c0fb856dbde5c5de82808ef7c99bb134e5718159"
   },
   "source": [
    "### 5.5. Model Evaluation for Random Forest Regressor"
   ]
  },
  {
   "cell_type": "code",
   "execution_count": null,
   "metadata": {
    "_uuid": "d0c59c82edd9fcd93d000faae660551a1f64c919"
   },
   "outputs": [],
   "source": [
    "print(\"Model Evaluation for Random Forest Regressor \")\n",
    "RMSE_train = np.sqrt( metrics.mean_squared_error(y_train, y_pred_train))\n",
    "RMSE_test = np.sqrt(metrics.mean_squared_error(y_test, y_pred_test))\n",
    "\n",
    "print('RMSE for training set is {}'.format(RMSE_train),' and RMSE for test set is {}'.format(RMSE_test))\n",
    "\n",
    "print('----------------------------------------------------------------------------------------')\n",
    "\n",
    "yhat = model2.predict(X_train)\n",
    "SS_Residual = sum((y_train-yhat)**2)\n",
    "SS_Total = sum((y_train-np.mean(y_train))**2)\n",
    "r_squared = 1 - (float(SS_Residual))/SS_Total\n",
    "adjusted_r_squared = 1 - (1-r_squared)*(len(y_train)-1)/(len(y_train)-X_train.shape[1]-1)\n",
    "print(\"r_squared for train data \",r_squared, \" and adjusted_r_squared for train data\",adjusted_r_squared)\n",
    "\n",
    "print('----------------------------------------------------------------------------------------')\n",
    "\n",
    "yhat = model2.predict(X_test)\n",
    "SS_Residual = sum((y_test-yhat)**2)\n",
    "SS_Total = sum((y_test-np.mean(y_test))**2)\n",
    "r_squared = 1 - (float(SS_Residual))/SS_Total\n",
    "adjusted_r_squared = 1 - (1-r_squared)*(len(y_test)-1)/(len(y_test)-X_test.shape[1]-1)\n",
    "print(\"r_squared for test data \",r_squared, \" and adjusted_r_squared for test data\",adjusted_r_squared)"
   ]
  },
  {
   "cell_type": "markdown",
   "metadata": {
    "_uuid": "941049d385089147b2ad4ce7398136f7cf4248cf"
   },
   "source": [
    "### 6. Conclusion"
   ]
  },
  {
   "cell_type": "markdown",
   "metadata": {
    "_uuid": "1067ca5713287bf21297839b1cae5dcc200deffa"
   },
   "source": [
    "* Columns like Type of avocado, size and bags have impact on Average Price, __lesser the RMSE value__ accurate the model is, when we consider Small Hass in Small Bags.\n",
    "* Random forest Classifier has more accuracy than Logistic regression model for this dataset , accuracy is 0.99 it may also denote it is overfitting as it even classifies the outliers perfectly.\n",
    "* Random forest classifier model predicts the __type of Avocado__ more accurately than Logistic regression model. \n",
    "* Random Forest Regressor model predicts the __average price__ more accurately than linear regression model."
   ]
  }
 ],
 "metadata": {
  "kernelspec": {
   "display_name": "Python 3 (ipykernel)",
   "language": "python",
   "name": "python3"
  },
  "language_info": {
   "codemirror_mode": {
    "name": "ipython",
    "version": 3
   },
   "file_extension": ".py",
   "mimetype": "text/x-python",
   "name": "python",
   "nbconvert_exporter": "python",
   "pygments_lexer": "ipython3",
   "version": "3.9.13"
  }
 },
 "nbformat": 4,
 "nbformat_minor": 4
}
