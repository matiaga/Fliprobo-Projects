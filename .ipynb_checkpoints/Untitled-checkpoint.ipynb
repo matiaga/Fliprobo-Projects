{
 "cells": [
  {
   "cell_type": "markdown",
   "id": "c2f8214c",
   "metadata": {},
   "source": [
    "\"For consolidation in the analysis\" (Para consolidar en el análisis).\n",
    "\"To simplify the analysis\" (Para simplificar el análisis).\n",
    "\"To streamline the analysis\" (Para optimizar el análisis).\n",
    "\"For grouping in the analysis\" (Para agrupar en el análisis).\n",
    "\"For the sake of clarity in the analysis\" (Por claridad en el análisis).\n",
    "\"To enhance the analysis's meaningfulness\" (Para mejorar la significación del análisis)."
   ]
  },
  {
   "cell_type": "code",
   "execution_count": 2,
   "id": "c9246299",
   "metadata": {},
   "outputs": [],
   "source": [
    "import pandas as pd\n",
    "import numpy as np\n",
    "import seaborn as sns\n",
    "import matplotlib.pyplot as plt\n",
    "import warnings\n",
    "warnings.filterwarnings('ignore')"
   ]
  },
  {
   "cell_type": "code",
   "execution_count": 3,
   "id": "9d1f9d8c",
   "metadata": {},
   "outputs": [
    {
     "name": "stdout",
     "output_type": "stream",
     "text": [
      "29\n"
     ]
    }
   ],
   "source": [
    "palettes = ['Paired', 'Paired_r', 'Pastel1', 'RdYlBu', 'RdYlBu_r', 'Set1', 'Set2','Set3','Set3_r', 'bwr', 'coolwarm', 'gist_ncar', 'gist_rainbow_r', 'plasma', 'prism', 'prism_r', 'rainbow', 'tab20', 'tab20b', 'tab20c', 'terrain', 'turbo',  'twilight', 'twilight_r', 'twilight_shifted', 'viridis', 'vlag', 'vlag_r', 'winter']\n",
    "\n",
    "print(len(palettes))"
   ]
  },
  {
   "cell_type": "code",
   "execution_count": 4,
   "id": "16049f12",
   "metadata": {},
   "outputs": [],
   "source": [
    "url=\"https://raw.githubusercontent.com/dsrscientist/dataset1/master/census_income.csv\""
   ]
  },
  {
   "cell_type": "code",
   "execution_count": 5,
   "id": "2eb75b15",
   "metadata": {},
   "outputs": [],
   "source": [
    "df = pd.read_csv(url)"
   ]
  },
  {
   "cell_type": "code",
   "execution_count": 6,
   "id": "26267f61",
   "metadata": {},
   "outputs": [
    {
     "data": {
      "text/html": [
       "<div>\n",
       "<style scoped>\n",
       "    .dataframe tbody tr th:only-of-type {\n",
       "        vertical-align: middle;\n",
       "    }\n",
       "\n",
       "    .dataframe tbody tr th {\n",
       "        vertical-align: top;\n",
       "    }\n",
       "\n",
       "    .dataframe thead th {\n",
       "        text-align: right;\n",
       "    }\n",
       "</style>\n",
       "<table border=\"1\" class=\"dataframe\">\n",
       "  <thead>\n",
       "    <tr style=\"text-align: right;\">\n",
       "      <th></th>\n",
       "      <th>Age</th>\n",
       "      <th>Workclass</th>\n",
       "      <th>Fnlwgt</th>\n",
       "      <th>Education</th>\n",
       "      <th>Education_num</th>\n",
       "      <th>Marital_status</th>\n",
       "      <th>Occupation</th>\n",
       "      <th>Relationship</th>\n",
       "      <th>Race</th>\n",
       "      <th>Sex</th>\n",
       "      <th>Capital_gain</th>\n",
       "      <th>Capital_loss</th>\n",
       "      <th>Hours_per_week</th>\n",
       "      <th>Native_country</th>\n",
       "      <th>Income</th>\n",
       "    </tr>\n",
       "  </thead>\n",
       "  <tbody>\n",
       "    <tr>\n",
       "      <th>0</th>\n",
       "      <td>50</td>\n",
       "      <td>Self-emp-not-inc</td>\n",
       "      <td>83311</td>\n",
       "      <td>Bachelors</td>\n",
       "      <td>13</td>\n",
       "      <td>Married-civ-spouse</td>\n",
       "      <td>Exec-managerial</td>\n",
       "      <td>Husband</td>\n",
       "      <td>White</td>\n",
       "      <td>Male</td>\n",
       "      <td>0</td>\n",
       "      <td>0</td>\n",
       "      <td>13</td>\n",
       "      <td>United-States</td>\n",
       "      <td>&lt;=50K</td>\n",
       "    </tr>\n",
       "    <tr>\n",
       "      <th>1</th>\n",
       "      <td>38</td>\n",
       "      <td>Private</td>\n",
       "      <td>215646</td>\n",
       "      <td>HS-grad</td>\n",
       "      <td>9</td>\n",
       "      <td>Divorced</td>\n",
       "      <td>Handlers-cleaners</td>\n",
       "      <td>Not-in-family</td>\n",
       "      <td>White</td>\n",
       "      <td>Male</td>\n",
       "      <td>0</td>\n",
       "      <td>0</td>\n",
       "      <td>40</td>\n",
       "      <td>United-States</td>\n",
       "      <td>&lt;=50K</td>\n",
       "    </tr>\n",
       "    <tr>\n",
       "      <th>2</th>\n",
       "      <td>53</td>\n",
       "      <td>Private</td>\n",
       "      <td>234721</td>\n",
       "      <td>11th</td>\n",
       "      <td>7</td>\n",
       "      <td>Married-civ-spouse</td>\n",
       "      <td>Handlers-cleaners</td>\n",
       "      <td>Husband</td>\n",
       "      <td>Black</td>\n",
       "      <td>Male</td>\n",
       "      <td>0</td>\n",
       "      <td>0</td>\n",
       "      <td>40</td>\n",
       "      <td>United-States</td>\n",
       "      <td>&lt;=50K</td>\n",
       "    </tr>\n",
       "    <tr>\n",
       "      <th>3</th>\n",
       "      <td>28</td>\n",
       "      <td>Private</td>\n",
       "      <td>338409</td>\n",
       "      <td>Bachelors</td>\n",
       "      <td>13</td>\n",
       "      <td>Married-civ-spouse</td>\n",
       "      <td>Prof-specialty</td>\n",
       "      <td>Wife</td>\n",
       "      <td>Black</td>\n",
       "      <td>Female</td>\n",
       "      <td>0</td>\n",
       "      <td>0</td>\n",
       "      <td>40</td>\n",
       "      <td>Cuba</td>\n",
       "      <td>&lt;=50K</td>\n",
       "    </tr>\n",
       "    <tr>\n",
       "      <th>4</th>\n",
       "      <td>37</td>\n",
       "      <td>Private</td>\n",
       "      <td>284582</td>\n",
       "      <td>Masters</td>\n",
       "      <td>14</td>\n",
       "      <td>Married-civ-spouse</td>\n",
       "      <td>Exec-managerial</td>\n",
       "      <td>Wife</td>\n",
       "      <td>White</td>\n",
       "      <td>Female</td>\n",
       "      <td>0</td>\n",
       "      <td>0</td>\n",
       "      <td>40</td>\n",
       "      <td>United-States</td>\n",
       "      <td>&lt;=50K</td>\n",
       "    </tr>\n",
       "    <tr>\n",
       "      <th>...</th>\n",
       "      <td>...</td>\n",
       "      <td>...</td>\n",
       "      <td>...</td>\n",
       "      <td>...</td>\n",
       "      <td>...</td>\n",
       "      <td>...</td>\n",
       "      <td>...</td>\n",
       "      <td>...</td>\n",
       "      <td>...</td>\n",
       "      <td>...</td>\n",
       "      <td>...</td>\n",
       "      <td>...</td>\n",
       "      <td>...</td>\n",
       "      <td>...</td>\n",
       "      <td>...</td>\n",
       "    </tr>\n",
       "    <tr>\n",
       "      <th>32555</th>\n",
       "      <td>27</td>\n",
       "      <td>Private</td>\n",
       "      <td>257302</td>\n",
       "      <td>Assoc-acdm</td>\n",
       "      <td>12</td>\n",
       "      <td>Married-civ-spouse</td>\n",
       "      <td>Tech-support</td>\n",
       "      <td>Wife</td>\n",
       "      <td>White</td>\n",
       "      <td>Female</td>\n",
       "      <td>0</td>\n",
       "      <td>0</td>\n",
       "      <td>38</td>\n",
       "      <td>United-States</td>\n",
       "      <td>&lt;=50K</td>\n",
       "    </tr>\n",
       "    <tr>\n",
       "      <th>32556</th>\n",
       "      <td>40</td>\n",
       "      <td>Private</td>\n",
       "      <td>154374</td>\n",
       "      <td>HS-grad</td>\n",
       "      <td>9</td>\n",
       "      <td>Married-civ-spouse</td>\n",
       "      <td>Machine-op-inspct</td>\n",
       "      <td>Husband</td>\n",
       "      <td>White</td>\n",
       "      <td>Male</td>\n",
       "      <td>0</td>\n",
       "      <td>0</td>\n",
       "      <td>40</td>\n",
       "      <td>United-States</td>\n",
       "      <td>&gt;50K</td>\n",
       "    </tr>\n",
       "    <tr>\n",
       "      <th>32557</th>\n",
       "      <td>58</td>\n",
       "      <td>Private</td>\n",
       "      <td>151910</td>\n",
       "      <td>HS-grad</td>\n",
       "      <td>9</td>\n",
       "      <td>Widowed</td>\n",
       "      <td>Adm-clerical</td>\n",
       "      <td>Unmarried</td>\n",
       "      <td>White</td>\n",
       "      <td>Female</td>\n",
       "      <td>0</td>\n",
       "      <td>0</td>\n",
       "      <td>40</td>\n",
       "      <td>United-States</td>\n",
       "      <td>&lt;=50K</td>\n",
       "    </tr>\n",
       "    <tr>\n",
       "      <th>32558</th>\n",
       "      <td>22</td>\n",
       "      <td>Private</td>\n",
       "      <td>201490</td>\n",
       "      <td>HS-grad</td>\n",
       "      <td>9</td>\n",
       "      <td>Never-married</td>\n",
       "      <td>Adm-clerical</td>\n",
       "      <td>Own-child</td>\n",
       "      <td>White</td>\n",
       "      <td>Male</td>\n",
       "      <td>0</td>\n",
       "      <td>0</td>\n",
       "      <td>20</td>\n",
       "      <td>United-States</td>\n",
       "      <td>&lt;=50K</td>\n",
       "    </tr>\n",
       "    <tr>\n",
       "      <th>32559</th>\n",
       "      <td>52</td>\n",
       "      <td>Self-emp-inc</td>\n",
       "      <td>287927</td>\n",
       "      <td>HS-grad</td>\n",
       "      <td>9</td>\n",
       "      <td>Married-civ-spouse</td>\n",
       "      <td>Exec-managerial</td>\n",
       "      <td>Wife</td>\n",
       "      <td>White</td>\n",
       "      <td>Female</td>\n",
       "      <td>15024</td>\n",
       "      <td>0</td>\n",
       "      <td>40</td>\n",
       "      <td>United-States</td>\n",
       "      <td>&gt;50K</td>\n",
       "    </tr>\n",
       "  </tbody>\n",
       "</table>\n",
       "<p>32560 rows × 15 columns</p>\n",
       "</div>"
      ],
      "text/plain": [
       "       Age          Workclass  Fnlwgt    Education  Education_num  \\\n",
       "0       50   Self-emp-not-inc   83311    Bachelors             13   \n",
       "1       38            Private  215646      HS-grad              9   \n",
       "2       53            Private  234721         11th              7   \n",
       "3       28            Private  338409    Bachelors             13   \n",
       "4       37            Private  284582      Masters             14   \n",
       "...    ...                ...     ...          ...            ...   \n",
       "32555   27            Private  257302   Assoc-acdm             12   \n",
       "32556   40            Private  154374      HS-grad              9   \n",
       "32557   58            Private  151910      HS-grad              9   \n",
       "32558   22            Private  201490      HS-grad              9   \n",
       "32559   52       Self-emp-inc  287927      HS-grad              9   \n",
       "\n",
       "            Marital_status          Occupation    Relationship    Race  \\\n",
       "0       Married-civ-spouse     Exec-managerial         Husband   White   \n",
       "1                 Divorced   Handlers-cleaners   Not-in-family   White   \n",
       "2       Married-civ-spouse   Handlers-cleaners         Husband   Black   \n",
       "3       Married-civ-spouse      Prof-specialty            Wife   Black   \n",
       "4       Married-civ-spouse     Exec-managerial            Wife   White   \n",
       "...                    ...                 ...             ...     ...   \n",
       "32555   Married-civ-spouse        Tech-support            Wife   White   \n",
       "32556   Married-civ-spouse   Machine-op-inspct         Husband   White   \n",
       "32557              Widowed        Adm-clerical       Unmarried   White   \n",
       "32558        Never-married        Adm-clerical       Own-child   White   \n",
       "32559   Married-civ-spouse     Exec-managerial            Wife   White   \n",
       "\n",
       "           Sex  Capital_gain  Capital_loss  Hours_per_week  Native_country  \\\n",
       "0         Male             0             0              13   United-States   \n",
       "1         Male             0             0              40   United-States   \n",
       "2         Male             0             0              40   United-States   \n",
       "3       Female             0             0              40            Cuba   \n",
       "4       Female             0             0              40   United-States   \n",
       "...        ...           ...           ...             ...             ...   \n",
       "32555   Female             0             0              38   United-States   \n",
       "32556     Male             0             0              40   United-States   \n",
       "32557   Female             0             0              40   United-States   \n",
       "32558     Male             0             0              20   United-States   \n",
       "32559   Female         15024             0              40   United-States   \n",
       "\n",
       "       Income  \n",
       "0       <=50K  \n",
       "1       <=50K  \n",
       "2       <=50K  \n",
       "3       <=50K  \n",
       "4       <=50K  \n",
       "...       ...  \n",
       "32555   <=50K  \n",
       "32556    >50K  \n",
       "32557   <=50K  \n",
       "32558   <=50K  \n",
       "32559    >50K  \n",
       "\n",
       "[32560 rows x 15 columns]"
      ]
     },
     "execution_count": 6,
     "metadata": {},
     "output_type": "execute_result"
    }
   ],
   "source": [
    "df"
   ]
  },
  {
   "cell_type": "code",
   "execution_count": 7,
   "id": "20997381",
   "metadata": {},
   "outputs": [
    {
     "data": {
      "text/plain": [
       " Private             22696\n",
       " Self-emp-not-inc     2541\n",
       " Local-gov            2093\n",
       " ?                    1836\n",
       " State-gov            1297\n",
       " Self-emp-inc         1116\n",
       " Federal-gov           960\n",
       " Without-pay            14\n",
       " Never-worked            7\n",
       "Name: Workclass, dtype: int64"
      ]
     },
     "execution_count": 7,
     "metadata": {},
     "output_type": "execute_result"
    }
   ],
   "source": [
    "df.Workclass.value_counts()"
   ]
  },
  {
   "cell_type": "code",
   "execution_count": 7,
   "id": "47431a15",
   "metadata": {},
   "outputs": [
    {
     "data": {
      "text/plain": [
       "array([' <=50K', ' >50K'], dtype=object)"
      ]
     },
     "execution_count": 7,
     "metadata": {},
     "output_type": "execute_result"
    }
   ],
   "source": [
    "df.Income.unique()"
   ]
  },
  {
   "cell_type": "code",
   "execution_count": 8,
   "id": "4d004b1b",
   "metadata": {},
   "outputs": [
    {
     "data": {
      "text/plain": [
       " <=50K    24719\n",
       " >50K      7841\n",
       "Name: Income, dtype: int64"
      ]
     },
     "execution_count": 8,
     "metadata": {},
     "output_type": "execute_result"
    }
   ],
   "source": [
    "df.Income.value_counts(dropna=False)"
   ]
  },
  {
   "cell_type": "code",
   "execution_count": 12,
   "id": "b8f13278",
   "metadata": {},
   "outputs": [
    {
     "data": {
      "text/plain": [
       "(32560, 15)"
      ]
     },
     "execution_count": 12,
     "metadata": {},
     "output_type": "execute_result"
    }
   ],
   "source": [
    "df.shape"
   ]
  },
  {
   "cell_type": "code",
   "execution_count": 10,
   "id": "ed7a2c24",
   "metadata": {
    "scrolled": true
   },
   "outputs": [
    {
     "data": {
      "text/plain": [
       "Age               0\n",
       "Workclass         0\n",
       "Fnlwgt            0\n",
       "Education         0\n",
       "Education_num     0\n",
       "Marital_status    0\n",
       "Occupation        0\n",
       "Relationship      0\n",
       "Race              0\n",
       "Sex               0\n",
       "Capital_gain      0\n",
       "Capital_loss      0\n",
       "Hours_per_week    0\n",
       "Native_country    0\n",
       "Income            0\n",
       "dtype: int64"
      ]
     },
     "execution_count": 10,
     "metadata": {},
     "output_type": "execute_result"
    }
   ],
   "source": [
    "df.isnull().sum()"
   ]
  },
  {
   "cell_type": "code",
   "execution_count": 11,
   "id": "22c8330f",
   "metadata": {},
   "outputs": [
    {
     "data": {
      "text/html": [
       "<div>\n",
       "<style scoped>\n",
       "    .dataframe tbody tr th:only-of-type {\n",
       "        vertical-align: middle;\n",
       "    }\n",
       "\n",
       "    .dataframe tbody tr th {\n",
       "        vertical-align: top;\n",
       "    }\n",
       "\n",
       "    .dataframe thead th {\n",
       "        text-align: right;\n",
       "    }\n",
       "</style>\n",
       "<table border=\"1\" class=\"dataframe\">\n",
       "  <thead>\n",
       "    <tr style=\"text-align: right;\">\n",
       "      <th></th>\n",
       "      <th>Age</th>\n",
       "      <th>Fnlwgt</th>\n",
       "      <th>Education_num</th>\n",
       "      <th>Capital_gain</th>\n",
       "      <th>Capital_loss</th>\n",
       "      <th>Hours_per_week</th>\n",
       "    </tr>\n",
       "  </thead>\n",
       "  <tbody>\n",
       "    <tr>\n",
       "      <th>count</th>\n",
       "      <td>32560.000000</td>\n",
       "      <td>3.256000e+04</td>\n",
       "      <td>32560.000000</td>\n",
       "      <td>32560.000000</td>\n",
       "      <td>32560.000000</td>\n",
       "      <td>32560.000000</td>\n",
       "    </tr>\n",
       "    <tr>\n",
       "      <th>mean</th>\n",
       "      <td>38.581634</td>\n",
       "      <td>1.897818e+05</td>\n",
       "      <td>10.080590</td>\n",
       "      <td>1077.615172</td>\n",
       "      <td>87.306511</td>\n",
       "      <td>40.437469</td>\n",
       "    </tr>\n",
       "    <tr>\n",
       "      <th>std</th>\n",
       "      <td>13.640642</td>\n",
       "      <td>1.055498e+05</td>\n",
       "      <td>2.572709</td>\n",
       "      <td>7385.402999</td>\n",
       "      <td>402.966116</td>\n",
       "      <td>12.347618</td>\n",
       "    </tr>\n",
       "    <tr>\n",
       "      <th>min</th>\n",
       "      <td>17.000000</td>\n",
       "      <td>1.228500e+04</td>\n",
       "      <td>1.000000</td>\n",
       "      <td>0.000000</td>\n",
       "      <td>0.000000</td>\n",
       "      <td>1.000000</td>\n",
       "    </tr>\n",
       "    <tr>\n",
       "      <th>25%</th>\n",
       "      <td>28.000000</td>\n",
       "      <td>1.178315e+05</td>\n",
       "      <td>9.000000</td>\n",
       "      <td>0.000000</td>\n",
       "      <td>0.000000</td>\n",
       "      <td>40.000000</td>\n",
       "    </tr>\n",
       "    <tr>\n",
       "      <th>50%</th>\n",
       "      <td>37.000000</td>\n",
       "      <td>1.783630e+05</td>\n",
       "      <td>10.000000</td>\n",
       "      <td>0.000000</td>\n",
       "      <td>0.000000</td>\n",
       "      <td>40.000000</td>\n",
       "    </tr>\n",
       "    <tr>\n",
       "      <th>75%</th>\n",
       "      <td>48.000000</td>\n",
       "      <td>2.370545e+05</td>\n",
       "      <td>12.000000</td>\n",
       "      <td>0.000000</td>\n",
       "      <td>0.000000</td>\n",
       "      <td>45.000000</td>\n",
       "    </tr>\n",
       "    <tr>\n",
       "      <th>max</th>\n",
       "      <td>90.000000</td>\n",
       "      <td>1.484705e+06</td>\n",
       "      <td>16.000000</td>\n",
       "      <td>99999.000000</td>\n",
       "      <td>4356.000000</td>\n",
       "      <td>99.000000</td>\n",
       "    </tr>\n",
       "  </tbody>\n",
       "</table>\n",
       "</div>"
      ],
      "text/plain": [
       "                Age        Fnlwgt  Education_num  Capital_gain  Capital_loss  \\\n",
       "count  32560.000000  3.256000e+04   32560.000000  32560.000000  32560.000000   \n",
       "mean      38.581634  1.897818e+05      10.080590   1077.615172     87.306511   \n",
       "std       13.640642  1.055498e+05       2.572709   7385.402999    402.966116   \n",
       "min       17.000000  1.228500e+04       1.000000      0.000000      0.000000   \n",
       "25%       28.000000  1.178315e+05       9.000000      0.000000      0.000000   \n",
       "50%       37.000000  1.783630e+05      10.000000      0.000000      0.000000   \n",
       "75%       48.000000  2.370545e+05      12.000000      0.000000      0.000000   \n",
       "max       90.000000  1.484705e+06      16.000000  99999.000000   4356.000000   \n",
       "\n",
       "       Hours_per_week  \n",
       "count    32560.000000  \n",
       "mean        40.437469  \n",
       "std         12.347618  \n",
       "min          1.000000  \n",
       "25%         40.000000  \n",
       "50%         40.000000  \n",
       "75%         45.000000  \n",
       "max         99.000000  "
      ]
     },
     "execution_count": 11,
     "metadata": {},
     "output_type": "execute_result"
    }
   ],
   "source": [
    "df.describe()"
   ]
  },
  {
   "cell_type": "code",
   "execution_count": 14,
   "id": "2d8d0ca0",
   "metadata": {},
   "outputs": [
    {
     "data": {
      "text/html": [
       "<div>\n",
       "<style scoped>\n",
       "    .dataframe tbody tr th:only-of-type {\n",
       "        vertical-align: middle;\n",
       "    }\n",
       "\n",
       "    .dataframe tbody tr th {\n",
       "        vertical-align: top;\n",
       "    }\n",
       "\n",
       "    .dataframe thead th {\n",
       "        text-align: right;\n",
       "    }\n",
       "</style>\n",
       "<table border=\"1\" class=\"dataframe\">\n",
       "  <thead>\n",
       "    <tr style=\"text-align: right;\">\n",
       "      <th></th>\n",
       "      <th>Workclass</th>\n",
       "      <th>Education</th>\n",
       "      <th>Marital_status</th>\n",
       "      <th>Occupation</th>\n",
       "      <th>Relationship</th>\n",
       "      <th>Race</th>\n",
       "      <th>Sex</th>\n",
       "      <th>Native_country</th>\n",
       "      <th>Income</th>\n",
       "    </tr>\n",
       "  </thead>\n",
       "  <tbody>\n",
       "    <tr>\n",
       "      <th>count</th>\n",
       "      <td>32560</td>\n",
       "      <td>32560</td>\n",
       "      <td>32560</td>\n",
       "      <td>32560</td>\n",
       "      <td>32560</td>\n",
       "      <td>32560</td>\n",
       "      <td>32560</td>\n",
       "      <td>32560</td>\n",
       "      <td>32560</td>\n",
       "    </tr>\n",
       "    <tr>\n",
       "      <th>unique</th>\n",
       "      <td>9</td>\n",
       "      <td>16</td>\n",
       "      <td>7</td>\n",
       "      <td>15</td>\n",
       "      <td>6</td>\n",
       "      <td>5</td>\n",
       "      <td>2</td>\n",
       "      <td>42</td>\n",
       "      <td>2</td>\n",
       "    </tr>\n",
       "    <tr>\n",
       "      <th>top</th>\n",
       "      <td>Private</td>\n",
       "      <td>HS-grad</td>\n",
       "      <td>Married-civ-spouse</td>\n",
       "      <td>Prof-specialty</td>\n",
       "      <td>Husband</td>\n",
       "      <td>White</td>\n",
       "      <td>Male</td>\n",
       "      <td>United-States</td>\n",
       "      <td>&lt;=50K</td>\n",
       "    </tr>\n",
       "    <tr>\n",
       "      <th>freq</th>\n",
       "      <td>22696</td>\n",
       "      <td>10501</td>\n",
       "      <td>14976</td>\n",
       "      <td>4140</td>\n",
       "      <td>13193</td>\n",
       "      <td>27815</td>\n",
       "      <td>21789</td>\n",
       "      <td>29169</td>\n",
       "      <td>24719</td>\n",
       "    </tr>\n",
       "  </tbody>\n",
       "</table>\n",
       "</div>"
      ],
      "text/plain": [
       "       Workclass Education       Marital_status       Occupation Relationship  \\\n",
       "count      32560     32560                32560            32560        32560   \n",
       "unique         9        16                    7               15            6   \n",
       "top      Private   HS-grad   Married-civ-spouse   Prof-specialty      Husband   \n",
       "freq       22696     10501                14976             4140        13193   \n",
       "\n",
       "          Race    Sex  Native_country  Income  \n",
       "count    32560  32560           32560   32560  \n",
       "unique       5      2              42       2  \n",
       "top      White   Male   United-States   <=50K  \n",
       "freq     27815  21789           29169   24719  "
      ]
     },
     "execution_count": 14,
     "metadata": {},
     "output_type": "execute_result"
    }
   ],
   "source": [
    "df.describe(exclude=[np.number])"
   ]
  },
  {
   "cell_type": "markdown",
   "id": "96f68ac4",
   "metadata": {},
   "source": [
    "# Encoding methods"
   ]
  },
  {
   "cell_type": "markdown",
   "id": "2ddf9621",
   "metadata": {},
   "source": [
    "### 1. Ordered Categorical Column:\n",
    "If the column is an ordered categorical column (e.g., created using pd.Categorical with a specified order), LabelEncoder will take into account the specified order. It will assign numerical labels according to the order defined in the categorical dtype."
   ]
  },
  {
   "cell_type": "code",
   "execution_count": 1,
   "id": "96d61fb6",
   "metadata": {},
   "outputs": [
    {
     "name": "stdout",
     "output_type": "stream",
     "text": [
      "  ordered_category  encoded\n",
      "0              low        1\n",
      "1           medium        2\n",
      "2             high        0\n"
     ]
    }
   ],
   "source": [
    "import pandas as pd\n",
    "from sklearn.preprocessing import LabelEncoder\n",
    "\n",
    "# Create an ordered categorical column\n",
    "data = {'ordered_category': pd.Categorical(['low', 'medium', 'high'], ordered=True, categories=['low', 'medium', 'high'])}\n",
    "df = pd.DataFrame(data)\n",
    "\n",
    "# Use LabelEncoder\n",
    "label_encoder = LabelEncoder()\n",
    "df['encoded'] = label_encoder.fit_transform(df['ordered_category'])\n",
    "\n",
    "print(df)\n"
   ]
  },
  {
   "cell_type": "markdown",
   "id": "07629f9f",
   "metadata": {},
   "source": [
    "### 2. Regular Categorical Column (Nominal):\n",
    "If the column is a regular categorical column (nominal) without an inherent order, LabelEncoder will still assign numerical labels, but these labels won't necessarily reflect any meaningful order."
   ]
  },
  {
   "cell_type": "code",
   "execution_count": 2,
   "id": "59b49349",
   "metadata": {},
   "outputs": [
    {
     "name": "stdout",
     "output_type": "stream",
     "text": [
      "  category  encoded\n",
      "0    apple        0\n",
      "1   banana        1\n",
      "2   orange        2\n"
     ]
    }
   ],
   "source": [
    "import pandas as pd\n",
    "from sklearn.preprocessing import LabelEncoder\n",
    "\n",
    "# Create a regular categorical column\n",
    "data = {'category': pd.Categorical(['apple', 'banana', 'orange'])}\n",
    "df = pd.DataFrame(data)\n",
    "\n",
    "# Use LabelEncoder\n",
    "label_encoder = LabelEncoder()\n",
    "df['encoded'] = label_encoder.fit_transform(df['category'])\n",
    "\n",
    "print(df)\n"
   ]
  },
  {
   "cell_type": "markdown",
   "id": "1e4592d1",
   "metadata": {},
   "source": [
    "### 3. Object Column:\n",
    "If the column is of the object dtype, LabelEncoder will also assign numerical labels. However, it's generally a good practice to convert object columns to categorical before using LabelEncoder for consistency and better memory usage."
   ]
  },
  {
   "cell_type": "code",
   "execution_count": 3,
   "id": "8e56f234",
   "metadata": {},
   "outputs": [
    {
     "name": "stdout",
     "output_type": "stream",
     "text": [
      "  object_column  encoded\n",
      "0           cat        0\n",
      "1           dog        1\n",
      "2        rabbit        2\n"
     ]
    }
   ],
   "source": [
    "import pandas as pd\n",
    "from sklearn.preprocessing import LabelEncoder\n",
    "\n",
    "# Create an object column\n",
    "data = {'object_column': ['cat', 'dog', 'rabbit']}\n",
    "df = pd.DataFrame(data)\n",
    "\n",
    "# Convert object column to categorical\n",
    "df['object_column'] = pd.Categorical(df['object_column'])\n",
    "\n",
    "# Use LabelEncoder\n",
    "label_encoder = LabelEncoder()\n",
    "df['encoded'] = label_encoder.fit_transform(df['object_column'])\n",
    "\n",
    "print(df)\n"
   ]
  },
  {
   "cell_type": "code",
   "execution_count": 4,
   "id": "5c204485",
   "metadata": {},
   "outputs": [
    {
     "name": "stdout",
     "output_type": "stream",
     "text": [
      "{'apple': 0, 'banana': 1, 'orange': 2}\n",
      "  category  encoded_category recovered_category\n",
      "0    apple                 0              apple\n",
      "1   banana                 1             banana\n",
      "2   orange                 2             orange\n",
      "3   banana                 1             banana\n",
      "4   orange                 2             orange\n",
      "5    apple                 0              apple\n"
     ]
    }
   ],
   "source": [
    "from sklearn.preprocessing import LabelEncoder\n",
    "\n",
    "# Sample data\n",
    "data = {'category': ['apple', 'banana', 'orange', 'banana', 'orange', 'apple']}\n",
    "df = pd.DataFrame(data)\n",
    "\n",
    "# Initialize LabelEncoder\n",
    "label_encoder = LabelEncoder()\n",
    "\n",
    "# Fit and transform the column\n",
    "df['encoded_category'] = label_encoder.fit_transform(df['category'])\n",
    "\n",
    "# Store the mapping in a dictionary\n",
    "category_mapping = dict(zip(label_encoder.classes_, label_encoder.transform(label_encoder.classes_)))\n",
    "\n",
    "# Print the mapping\n",
    "print(category_mapping)\n",
    "\n",
    "# Reverse the mapping to recover original categories\n",
    "df['recovered_category'] = df['encoded_category'].map({v: k for k, v in category_mapping.items()})\n",
    "\n",
    "# Display the DataFrame\n",
    "print(df)\n"
   ]
  },
  {
   "cell_type": "markdown",
   "id": "3b7a942d",
   "metadata": {},
   "source": [
    "### Manual encoding"
   ]
  },
  {
   "cell_type": "code",
   "execution_count": null,
   "id": "9e7bc07a",
   "metadata": {},
   "outputs": [],
   "source": [
    "# Encoding the features manually\n",
    "df['Sex'] = df['Sex'].astype('category')\n",
    "df['Sex'] = df['Sex'].map({'Female': 1, 'Male': 2})"
   ]
  },
  {
   "cell_type": "code",
   "execution_count": null,
   "id": "2a7a24cd",
   "metadata": {},
   "outputs": [],
   "source": []
  },
  {
   "cell_type": "markdown",
   "id": "480c077d",
   "metadata": {},
   "source": [
    "# Binning or Discretization"
   ]
  },
  {
   "cell_type": "markdown",
   "id": "38d47de7",
   "metadata": {},
   "source": [
    "Binning, also known as discretization, involves dividing a continuous variable into discrete intervals or bins. In your case, binning a column with 93% zeros can be a reasonable approach to handle the sparsity in the data. The choice of the right number of bins depends on the distribution of the non-zero values and the specific characteristics of your data.\n",
    "\n",
    "Here are the general steps to apply binning using pandas:"
   ]
  },
  {
   "cell_type": "code",
   "execution_count": null,
   "id": "4195b0da",
   "metadata": {},
   "outputs": [],
   "source": [
    "import pandas as pd\n",
    "\n",
    "# Assuming 'column_to_bin' is the column with 93% zeros\n",
    "df['binned_column'] = pd.cut(df['column_to_bin'], bins=your_chosen_number_of_bins, labels=False, include_lowest=True)\n",
    "\n",
    "# Replace NaN values (corresponding to zeros) with a specific value if needed\n",
    "df['binned_column'].fillna(value=your_fill_value, inplace=True)\n"
   ]
  },
  {
   "cell_type": "markdown",
   "id": "6ba98f71",
   "metadata": {},
   "source": [
    "Now, let's discuss how to determine the right number of bins:\n",
    "\n",
    "### 1. Rule of Thumb:\n",
    "\n",
    "A common rule of thumb is to use the square root of the number of non-zero values. This is a heuristic that can be a starting point."
   ]
  },
  {
   "cell_type": "code",
   "execution_count": null,
   "id": "86cf15a5",
   "metadata": {},
   "outputs": [],
   "source": [
    "import numpy as np\n",
    "\n",
    "num_non_zeros = np.count_nonzero(df['column_to_bin'])\n",
    "suggested_bins = int(np.sqrt(num_non_zeros))\n"
   ]
  },
  {
   "cell_type": "markdown",
   "id": "c99baccb",
   "metadata": {},
   "source": [
    "### 2. Visual Inspection:\n",
    "\n",
    "Plot a histogram of the non-zero values and visually inspect the distribution. Adjust the number of bins to capture the underlying patterns."
   ]
  },
  {
   "cell_type": "code",
   "execution_count": null,
   "id": "826c1464",
   "metadata": {},
   "outputs": [],
   "source": [
    "import matplotlib.pyplot as plt\n",
    "\n",
    "non_zero_values = df['column_to_bin'][df['column_to_bin'] != 0]\n",
    "plt.hist(non_zero_values, bins='auto')  # 'auto' uses a heuristic to determine the number of bins\n",
    "plt.show()\n"
   ]
  },
  {
   "cell_type": "markdown",
   "id": "78d7f3f2",
   "metadata": {},
   "source": [
    "### 3. Domain Knowledge:\n",
    "\n",
    "Consider any domain-specific knowledge you have about the data. For example, if the variable represents a physical quantity, knowledge about the typical ranges might inform your choice of bins.\n",
    "\n",
    "\n",
    "Choose a number of bins that makes sense for your specific dataset and the insights you are looking to gain. After binning, the resulting 'binned_column' will contain integer values representing the bins, and you can treat it as a categorical feature in your analysis. Adjust the parameters and methods based on the specifics of your data and analysis goals."
   ]
  },
  {
   "cell_type": "markdown",
   "id": "bf8ec1af",
   "metadata": {},
   "source": [
    "When you use bins='auto' in the plt.hist function, Matplotlib employs a heuristic algorithm to determine an appropriate number of bins based on the distribution of your data. However, if you want to know the specific number of bins chosen by the 'auto' option, you can retrieve it from the histogram object returned by the plt.hist function.\n",
    "\n",
    "Here's how you can modify your code to obtain the number of bins:"
   ]
  },
  {
   "cell_type": "code",
   "execution_count": null,
   "id": "4768b1e2",
   "metadata": {},
   "outputs": [],
   "source": [
    "import matplotlib.pyplot as plt\n",
    "\n",
    "non_zero_values = df['column_to_bin'][df['column_to_bin'] != 0]\n",
    "hist, bin_edges, _ = plt.hist(non_zero_values, bins='auto')  # 'auto' uses a heuristic to determine the number of bins\n",
    "plt.show()\n",
    "\n",
    "# Get the number of bins chosen by 'auto'\n",
    "num_bins_auto = len(bin_edges) - 1\n",
    "print(f'Number of bins selected by \"auto\": {num_bins_auto}')\n"
   ]
  },
  {
   "cell_type": "markdown",
   "id": "08b4228d",
   "metadata": {},
   "source": [
    "In this modified code, bin_edges is a NumPy array containing the edges of the bins. The number of bins is one less than the length of bin_edges. Therefore, len(bin_edges) - 1 gives you the specific number of bins selected by the 'auto' option."
   ]
  },
  {
   "cell_type": "code",
   "execution_count": null,
   "id": "e625a148",
   "metadata": {},
   "outputs": [],
   "source": []
  },
  {
   "cell_type": "markdown",
   "id": "12357378",
   "metadata": {},
   "source": [
    "# Seaborn "
   ]
  },
  {
   "cell_type": "code",
   "execution_count": 1,
   "id": "03988aa5",
   "metadata": {},
   "outputs": [
    {
     "data": {
      "image/png": "[encoded data removed]",
      "text/plain": [
       "<Figure size 600x100 with 1 Axes>"
      ]
     },
     "metadata": {},
     "output_type": "display_data"
    },
    {
     "name": "stdout",
     "output_type": "stream",
     "text": [
      "#6e90bf\n",
      "#aab8d0\n",
      "#e4e5eb\n",
      "#f2dfdd\n",
      "#d9a6a4\n",
      "#c26f6d\n"
     ]
    }
   ],
   "source": [
    "from matplotlib.colors import to_hex\n",
    "import seaborn as sns\n",
    "import matplotlib.pyplot as plt\n",
    "\n",
    "# Get the \"vlag\" palette\n",
    "vlag_palette = sns.color_palette(\"vlag\", n_colors=6)  # You can adjust the number of colors as needed\n",
    "\n",
    "# Display the colors\n",
    "sns.palplot(vlag_palette)\n",
    "plt.show()\n",
    "\n",
    "# Convert RGB to hexadecimal for each color in the palette\n",
    "hex_palette = [to_hex(color) for color in vlag_palette]\n",
    "\n",
    "# Extract RGB values\n",
    "for color in vlag_palette:\n",
    "    print(to_hex(color))\n"
   ]
  },
  {
   "cell_type": "code",
   "execution_count": 3,
   "id": "df68a701",
   "metadata": {},
   "outputs": [],
   "source": [
    "import pandas as pd\n",
    "import numpy as np\n",
    "import seaborn as sns\n",
    "import matplotlib.pyplot as plt\n",
    "import warnings\n",
    "warnings.filterwarnings('ignore')\n",
    "\n",
    "# Retrive the dataset using the raw address\n",
    "url = \"https://raw.githubusercontent.com/dsrscientist/dataset3/main/weatherAUS.csv\"\n",
    "df = pd.read_csv(url)"
   ]
  },
  {
   "cell_type": "code",
   "execution_count": 8,
   "id": "cb8a6019",
   "metadata": {},
   "outputs": [
    {
     "data": {
      "image/png": "[encoded data removed]",
      "text/plain": [
       "<Figure size 1200x600 with 1 Axes>"
      ]
     },
     "metadata": {},
     "output_type": "display_data"
    }
   ],
   "source": [
    "col = 'Location'\n",
    "plt.figure(figsize=(12, 6))\n",
    "\n",
    "# Stacked bar plot with 'RainTomorrow' as hue\n",
    "ax = sns.countplot(x=col, hue='RainTomorrow', data=df, palette='vlag', order=df[col].value_counts().index)\n",
    "\n",
    "# Function to add percentage annotations on top of the bars\n",
    "def add_percentage_annotations(ax):\n",
    "    total = len(df)\n",
    "    for p in ax.patches:\n",
    "        height = p.get_height()\n",
    "        ax.annotate(f'{height/total:.1%}', (p.get_x() + p.get_width() / 2., height),\n",
    "                    ha='center', va='center', fontsize=8, color='black', xytext=(0, 5),\n",
    "                    textcoords='offset points')\n",
    "\n",
    "add_percentage_annotations(ax)\n",
    "\n",
    "plt.xticks(rotation=45)\n",
    "plt.xlabel('', size=10, labelpad=8)\n",
    "plt.ylabel('', size=10, labelpad=8)\n",
    "plt.title(f\"Frequency of {col} with RainTomorrow\", size=14, y=1.05)\n",
    "\n",
    "# Display the legend outside the plot\n",
    "ax.legend(title='RainTomorrow', loc='upper right', bbox_to_anchor=(1.15, 1))\n",
    "\n",
    "plt.show()\n"
   ]
  },
  {
   "cell_type": "code",
   "execution_count": null,
   "id": "d7bc90b8",
   "metadata": {},
   "outputs": [],
   "source": []
  },
  {
   "cell_type": "markdown",
   "id": "e3ab7bc4",
   "metadata": {},
   "source": [
    "# Correlation Analysis"
   ]
  },
  {
   "cell_type": "markdown",
   "id": "0d537469",
   "metadata": {},
   "source": [
    "The correlation analysis is primarily applicable to numerical variables. Correlation coefficients measure the strength and direction of a linear relationship between two numeric variables. Therefore, it is not directly applicable to categorical variables.\n",
    "\n",
    "When dealing with a mix of numerical and categorical variables, there are other techniques and visualizations more suitable for understanding the relationship between these variable types:\n",
    "\n",
    "#### 1. Correlation between Numerical Variables:\n",
    "Use correlation analysis (e.g., Pearson correlation coefficient) to assess the linear relationships between pairs of numerical variables.\n",
    "\n",
    "##### 2. ANOVA (Analysis of Variance) for Categorical Variables:\n",
    "If you have a categorical target variable (e.g., yes/no), you can use ANOVA or its variants (like the Kruskal-Wallis test for non-parametric data) to assess the association between a categorical variable and a numerical variable.\n",
    "\n",
    "##### 3. Visualization Techniques:\n",
    "Box plots, violin plots, or swarm plots can be used to visualize the distribution of numerical variables across different categories of a categorical variable.\n",
    "\n",
    "##### 4. Categorical Variable Encoding:\n",
    "Before performing certain statistical analyses or machine learning algorithms, you might need to encode categorical variables. One-hot encoding or label encoding are common methods.\n",
    "\n",
    "#### 5. Feature Importance Techniques:\n",
    "For understanding the impact of categorical variables on a predictive model, you can use techniques like feature importance, permutation importance, or information gain.\n",
    "\n",
    "\n",
    "Remember that correlation does not imply causation, and the absence of a strong correlation between numerical variables does not rule out potential relationships. It's essential to choose the appropriate statistical tests and visualizations based on the nature of your data and the goals of your analysis. "
   ]
  },
  {
   "cell_type": "markdown",
   "id": "223d3923",
   "metadata": {},
   "source": [
    "## ANOVA for categorical variables\n",
    "**ANOVA (Analysis of Variance)** is a statistical test used to determine if there are any statistically significant differences between the means of three or more independent (unrelated) groups. In your case, you want to perform ANOVA for categorical variables concerning rainfall and rain tomorrow.\n",
    "\n",
    "Here is an example of how you might perform ANOVA for the categorical variable Location and the numerical variable Rainfall using Python and the scipy.stats library:"
   ]
  },
  {
   "cell_type": "code",
   "execution_count": null,
   "id": "9b3e2cd4",
   "metadata": {},
   "outputs": [],
   "source": [
    "import pandas as pd\n",
    "from scipy.stats import f_oneway\n",
    "\n",
    "# Assuming your dataset is named df\n",
    "# Extracting relevant columns\n",
    "data_for_anova = df[['Location', 'Rainfall']].dropna()\n",
    "\n",
    "# Grouping the data by Location\n",
    "grouped_data = [group['Rainfall'].values for name, group in data_for_anova.groupby('Location')]\n",
    "\n",
    "# Performing ANOVA\n",
    "anova_result = f_oneway(*grouped_data)\n",
    "\n",
    "# Displaying the ANOVA result\n",
    "print(\"ANOVA p-value:\", anova_result.pvalue)\n",
    "\n",
    "# Interpretation:\n",
    "if anova_result.pvalue < 0.05:\n",
    "    print(\"There is a significant difference in rainfall means between at least two locations.\")\n",
    "else:\n",
    "    print(\"There is no significant difference in rainfall means between locations.\")\n"
   ]
  },
  {
   "cell_type": "markdown",
   "id": "01bf2c9b",
   "metadata": {},
   "source": [
    "Explanation and Interpretation:\n",
    "\n",
    "1. Assumption:\n",
    "ANOVA assumes that the populations from which the samples are drawn are normally distributed.\n",
    "\n",
    "2. Null Hypothesis (H0):\n",
    "The null hypothesis assumes that there is no significant difference in the means of rainfall between the different locations.\n",
    "\n",
    "3. Alternative Hypothesis (H1):\n",
    "The alternative hypothesis suggests that there is a significant difference in the means of rainfall between at least two locations.\n",
    "\n",
    "4. P-value:\n",
    "The p-value obtained from the ANOVA test is compared to a significance level (commonly 0.05). If the p-value is less than the significance level, you reject the null hypothesis.\n",
    "\n",
    "5. Conclusion:\n",
    "If the p-value is less than 0.05, you can conclude that there is a significant difference in rainfall means between at least two locations.\n",
    "\n",
    "You can apply a similar approach for other categorical variables. The choice of variables to test with ANOVA depends on your specific analysis goals and hypotheses. Always consider the assumptions of the ANOVA test and interpret the results cautiously."
   ]
  },
  {
   "cell_type": "markdown",
   "id": "1fe1aff1",
   "metadata": {},
   "source": [
    "If the Rainfall variable is not normally distributed, it might violate one of the assumptions of the ANOVA test. ANOVA assumes that the populations from which the samples are drawn follow a normal distribution. When this assumption is violated, the results of the ANOVA test may be less reliable.\n",
    "\n",
    "Here are a few considerations:\n",
    "\n",
    "1. Transformations:\n",
    "If the Rainfall variable is not normally distributed, you might consider applying a transformation to make the data more approximately normal. Common transformations include the logarithmic or square root transformation. Keep in mind that the interpretation of results would need to consider the transformation applied.\n",
    "\n",
    "2. Non-Parametric Alternatives:\n",
    "If the data remains non-normally distributed even after transformations, you might consider non-parametric alternatives to ANOVA. The Kruskal-Wallis test is a non-parametric alternative that does not assume normality. It assesses whether the distributions of all groups are identical without assuming a specific distribution."
   ]
  },
  {
   "cell_type": "code",
   "execution_count": null,
   "id": "20203514",
   "metadata": {},
   "outputs": [],
   "source": [
    "from scipy.stats import kruskal\n",
    "\n",
    "# Assuming your dataset is named df\n",
    "# Extracting relevant columns\n",
    "data_for_kruskal = df[['Location', 'Rainfall']].dropna()\n",
    "\n",
    "# Grouping the data by Location\n",
    "grouped_data = [group['Rainfall'].values for name, group in data_for_kruskal.groupby('Location')]\n",
    "\n",
    "# Performing Kruskal-Wallis test\n",
    "kruskal_result = kruskal(*grouped_data)\n",
    "\n",
    "# Displaying the Kruskal-Wallis result\n",
    "print(\"Kruskal-Wallis p-value:\", kruskal_result.pvalue)\n",
    "\n",
    "# Interpretation:\n",
    "if kruskal_result.pvalue < 0.05:\n",
    "    print(\"There is a significant difference in rainfall medians between at least two locations.\")\n",
    "else:\n",
    "    print(\"There is no significant difference in rainfall medians between locations.\")\n"
   ]
  }
 ],
 "metadata": {
  "kernelspec": {
   "display_name": "Python 3 (ipykernel)",
   "language": "python",
   "name": "python3"
  },
  "language_info": {
   "codemirror_mode": {
    "name": "ipython",
    "version": 3
   },
   "file_extension": ".py",
   "mimetype": "text/x-python",
   "name": "python",
   "nbconvert_exporter": "python",
   "pygments_lexer": "ipython3",
   "version": "3.9.13"
  }
 },
 "nbformat": 4,
 "nbformat_minor": 5
}
