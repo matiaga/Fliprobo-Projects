{
 "cells": [
  {
   "cell_type": "code",
   "execution_count": 10,
   "id": "0328fb3d",
   "metadata": {},
   "outputs": [],
   "source": [
    "import pandas as pd\n",
    "import numpy as np"
   ]
  },
  {
   "cell_type": "code",
   "execution_count": 1,
   "id": "d4a7ccf5",
   "metadata": {},
   "outputs": [
    {
     "ename": "ModuleNotFoundError",
     "evalue": "No module named 'folium'",
     "output_type": "error",
     "traceback": [
      "\u001b[1;31m---------------------------------------------------------------------------\u001b[0m",
      "\u001b[1;31mModuleNotFoundError\u001b[0m                       Traceback (most recent call last)",
      "\u001b[1;32m~\\AppData\\Local\\Temp\\ipykernel_11256\\2461874177.py\u001b[0m in \u001b[0;36m<module>\u001b[1;34m\u001b[0m\n\u001b[1;32m----> 1\u001b[1;33m \u001b[1;32mimport\u001b[0m \u001b[0mfolium\u001b[0m\u001b[1;33m\u001b[0m\u001b[1;33m\u001b[0m\u001b[0m\n\u001b[0m\u001b[0;32m      2\u001b[0m \u001b[1;33m\u001b[0m\u001b[0m\n\u001b[0;32m      3\u001b[0m \u001b[1;31m# Crear un mapa centrado en una ubicación específica\u001b[0m\u001b[1;33m\u001b[0m\u001b[1;33m\u001b[0m\u001b[0m\n\u001b[0;32m      4\u001b[0m \u001b[0mm\u001b[0m \u001b[1;33m=\u001b[0m \u001b[0mfolium\u001b[0m\u001b[1;33m.\u001b[0m\u001b[0mMap\u001b[0m\u001b[1;33m(\u001b[0m\u001b[0mlocation\u001b[0m\u001b[1;33m=\u001b[0m\u001b[1;33m[\u001b[0m\u001b[1;36m34.0522\u001b[0m\u001b[1;33m,\u001b[0m \u001b[1;33m-\u001b[0m\u001b[1;36m118.2437\u001b[0m\u001b[1;33m]\u001b[0m\u001b[1;33m,\u001b[0m \u001b[0mzoom_start\u001b[0m\u001b[1;33m=\u001b[0m\u001b[1;36m10\u001b[0m\u001b[1;33m)\u001b[0m\u001b[1;33m\u001b[0m\u001b[1;33m\u001b[0m\u001b[0m\n\u001b[0;32m      5\u001b[0m \u001b[1;33m\u001b[0m\u001b[0m\n",
      "\u001b[1;31mModuleNotFoundError\u001b[0m: No module named 'folium'"
     ]
    }
   ],
   "source": [
    "import folium\n",
    "\n",
    "# Crear un mapa centrado en una ubicación específica\n",
    "m = folium.Map(location=[34.0522, -118.2437], zoom_start=10)\n",
    "\n",
    "# Agregar un marcador en una ubicación específica\n",
    "folium.Marker([34.0522, -118.2437], popup='Los Angeles').add_to(m)\n",
    "\n",
    "# Agregar más marcadores\n",
    "folium.Marker([40.7128, -74.0060], popup='New York').add_to(m)\n",
    "folium.Marker([51.5074, -0.1278], popup='London').add_to(m)\n",
    "\n",
    "# Guardar el mapa en un archivo HTML\n",
    "m.save('map.html')\n",
    "\n",
    "# Mostrar el mapa en Jupyter Notebook (opcional)\n",
    "m\n"
   ]
  },
  {
   "cell_type": "code",
   "execution_count": 2,
   "id": "dd8c230f",
   "metadata": {},
   "outputs": [
    {
     "ename": "ModuleNotFoundError",
     "evalue": "No module named 'geopandas'",
     "output_type": "error",
     "traceback": [
      "\u001b[1;31m---------------------------------------------------------------------------\u001b[0m",
      "\u001b[1;31mModuleNotFoundError\u001b[0m                       Traceback (most recent call last)",
      "\u001b[1;32m~\\AppData\\Local\\Temp\\ipykernel_11256\\889812335.py\u001b[0m in \u001b[0;36m<module>\u001b[1;34m\u001b[0m\n\u001b[1;32m----> 1\u001b[1;33m \u001b[1;32mimport\u001b[0m \u001b[0mgeopandas\u001b[0m \u001b[1;32mas\u001b[0m \u001b[0mgpd\u001b[0m\u001b[1;33m\u001b[0m\u001b[1;33m\u001b[0m\u001b[0m\n\u001b[0m\u001b[0;32m      2\u001b[0m \u001b[1;32mimport\u001b[0m \u001b[0mmatplotlib\u001b[0m\u001b[1;33m.\u001b[0m\u001b[0mpyplot\u001b[0m \u001b[1;32mas\u001b[0m \u001b[0mplt\u001b[0m\u001b[1;33m\u001b[0m\u001b[1;33m\u001b[0m\u001b[0m\n\u001b[0;32m      3\u001b[0m \u001b[1;32mfrom\u001b[0m \u001b[0mshapely\u001b[0m\u001b[1;33m.\u001b[0m\u001b[0mgeometry\u001b[0m \u001b[1;32mimport\u001b[0m \u001b[0mPoint\u001b[0m\u001b[1;33m\u001b[0m\u001b[1;33m\u001b[0m\u001b[0m\n\u001b[0;32m      4\u001b[0m \u001b[1;33m\u001b[0m\u001b[0m\n\u001b[0;32m      5\u001b[0m \u001b[1;31m# Cargar datos geoespaciales de un archivo shapefile (por ejemplo, las fronteras de los estados)\u001b[0m\u001b[1;33m\u001b[0m\u001b[1;33m\u001b[0m\u001b[0m\n",
      "\u001b[1;31mModuleNotFoundError\u001b[0m: No module named 'geopandas'"
     ]
    }
   ],
   "source": [
    "import geopandas as gpd\n",
    "import matplotlib.pyplot as plt\n",
    "from shapely.geometry import Point\n",
    "\n",
    "# Cargar datos geoespaciales de un archivo shapefile (por ejemplo, las fronteras de los estados)\n",
    "world = gpd.read_file(gpd.datasets.get_path('naturalearth_lowres'))\n",
    "\n",
    "# Crear un DataFrame con datos de ejemplo de latitud y longitud\n",
    "data = {\n",
    "    'latitude': [34.0522, 40.7128, 51.5074],\n",
    "    'longitude': [-118.2437, -74.0060, -0.1278],\n",
    "    'city': ['Los Angeles', 'New York', 'London']\n",
    "}\n",
    "\n",
    "df = pd.DataFrame(data)\n",
    "\n",
    "# Convertir los datos de latitud y longitud en objetos Point\n",
    "geometry = [Point(lon, lat) for lon, lat in zip(df['longitude'], df['latitude'])]\n",
    "\n",
    "# Crear un GeoDataFrame a partir del DataFrame y los objetos Point\n",
    "gdf = gpd.GeoDataFrame(df, geometry=geometry)\n",
    "\n",
    "# Crear el mapa base\n",
    "world.plot()\n",
    "gdf.plot(marker='o', color='red', markersize=5, ax=plt.gca())\n",
    "\n",
    "# Configurar etiquetas de los ejes y título\n",
    "plt.xlabel('Longitude')\n",
    "plt.ylabel('Latitude')\n",
    "plt.title('Mapa de Ciudades')\n",
    "\n",
    "# Mostrar el mapa\n",
    "plt.show()\n"
   ]
  },
  {
   "cell_type": "markdown",
   "id": "e088138f",
   "metadata": {},
   "source": [
    "## Line plot with 4 variables"
   ]
  },
  {
   "cell_type": "code",
   "execution_count": null,
   "id": "e74abe27",
   "metadata": {},
   "outputs": [],
   "source": [
    "# Style settings\n",
    "sns.set_style('whitegrid')\n",
    "plt.figure(figsize=(20,10))\n",
    "\n",
    "sns.lineplot(x='Date', y='LDAPS_PPT1', data=df, label='1st 6-hour split average precipitation (0-5 h)', color='m')\n",
    "sns.lineplot(x='Date', y='LDAPS_PPT2', data=df, label='2nd 6-hour split average precipitation (6-11 h)', color='skyblue')\n",
    "sns.lineplot(x='Date', y='LDAPS_PPT3', data=df, label='3rd 6-hour split average precipitation (12-17 h)', color='green')\n",
    "sns.lineplot(x='Date', y='LDAPS_PPT4', data=df, label='4th 6-hour split average precipitation (18-23 h)', color='pink')\n",
    "\n",
    "# style the plot\n",
    "plt.legend(loc='upper left')\n",
    "plt.xticks(rotation=45)\n",
    "plt.title('Model forecast of next-day 6-hour split average precipitation Over Time')\n",
    "plt.xlabel('Date')\n",
    "plt.ylabel('Precipitation')\n",
    "\n",
    "plt.show()"
   ]
  },
  {
   "cell_type": "markdown",
   "id": "23ba27f8",
   "metadata": {},
   "source": [
    "Si deseas crear gráficos individuales para cuatro variables diferentes en una sola columna con 4 filas y compartir el eje x, puedes hacerlo de la siguiente manera:"
   ]
  },
  {
   "cell_type": "code",
   "execution_count": null,
   "id": "129b44a1",
   "metadata": {},
   "outputs": [],
   "source": [
    "import seaborn as sns\n",
    "import matplotlib.pyplot as plt\n",
    "\n",
    "# Style settings\n",
    "sns.set_style('whitegrid')\n",
    "\n",
    "# Create a FacetGrid with 4 rows\n",
    "g = sns.FacetGrid(df.melt(id_vars='Date'), col='variable', col_wrap=1, height=5, aspect=2)\n",
    "\n",
    "# Map line plots for each variable\n",
    "g.map(sns.lineplot, 'Date', 'value', color='m')\n",
    "\n",
    "# Customize the appearance\n",
    "g.set_axis_labels('Date', 'Precipitation')\n",
    "g.set_titles(col_template=\"{col_name}\")\n",
    "g.set_xticklabels(rotation=45)\n",
    "\n",
    "# Show the plot\n",
    "plt.subplots_adjust(top=0.9)\n",
    "g.fig.suptitle('Model forecast of next-day 6-hour split average precipitation Over Time', fontsize=16)\n",
    "\n",
    "plt.show()\n"
   ]
  },
  {
   "cell_type": "markdown",
   "id": "78399342",
   "metadata": {},
   "source": [
    "En este código, hemos utilizado df.melt(id_vars='Date') para reorganizar el DataFrame y tener una columna 'variable' que contiene los nombres de las cuatro variables diferentes ('LDAPS_PPT1', 'LDAPS_PPT2', 'LDAPS_PPT3', 'LDAPS_PPT4') y una columna 'value' que contiene los valores correspondientes. Luego, creamos un FacetGrid para presentar cada variable en un gráfico individual en una sola columna con 4 filas.\n",
    "\n",
    "Asegúrate de ajustar los tamaños, etiquetas y títulos según tus preferencias."
   ]
  }
 ],
 "metadata": {
  "kernelspec": {
   "display_name": "Python 3 (ipykernel)",
   "language": "python",
   "name": "python3"
  },
  "language_info": {
   "codemirror_mode": {
    "name": "ipython",
    "version": 3
   },
   "file_extension": ".py",
   "mimetype": "text/x-python",
   "name": "python",
   "nbconvert_exporter": "python",
   "pygments_lexer": "ipython3",
   "version": "3.9.13"
  }
 },
 "nbformat": 4,
 "nbformat_minor": 5
}
