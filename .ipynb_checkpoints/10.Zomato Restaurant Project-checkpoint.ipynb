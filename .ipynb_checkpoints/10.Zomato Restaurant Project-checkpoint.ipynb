{
 "cells": [
  {
   "attachments": {
    "zomato.jpg": {
     "image/jpeg": "[encoded data removed]"
    }
   },
   "cell_type": "markdown",
   "id": "719b811c",
   "metadata": {},
   "source": [
    "# Zomato Restaurant Project\n",
    "\n",
    "By Mónica Atiaga\n",
    "\n",
    "Batch - DSNB1222\n",
    "\n",
    "Internship number: 2306\n",
    "![zomato.jpg](attachment:zomato.jpg)"
   ]
  },
  {
   "cell_type": "markdown",
   "id": "07b15c2f",
   "metadata": {},
   "source": [
    "# Project Description\n",
    "Zomato Data Analysis is one of the most useful analysis for foodies who want to taste the best \n",
    "cuisines of every part of the world which lies in their budget. This analysis is also for those who\n",
    "want to find the value for money restaurants in various parts of the country for the cuisines.\n",
    "Additionally, this analysis caters the needs of people who are striving to get the best cuisine of\n",
    "the country and which locality of that country serves that cuisines with maximum number of\n",
    "restaurants.\n",
    "\n",
    "\n",
    "### Data Storage:\n",
    "This problem statement contains two datasets- **Zomato.csv** and **country_code.csv**.\n",
    "\n",
    "**Country_code.csv** contains two variables\n",
    "- Country code\n",
    "- Country name\n",
    "\n",
    "The collected data has been stored in the Comma Separated Value file **Zomato.csv**. \n",
    "\n",
    "Each restaurant in the dataset is uniquely identified by its Restaurant Id. \n",
    "\n",
    "Every Restaurant contains the following variables:\n",
    "- Restaurant Id: Unique id of every restaurant across various cities of the world\n",
    "- Restaurant Name: Name of the restaurant\n",
    "- Country Code: Country in which restaurant is located\n",
    "- City: City in which restaurant is located\n",
    "- Address: Address of the restaurant\n",
    "- Locality: Location in the city\n",
    "- Locality Verbose: Detailed description of the locality\n",
    "- Longitude: Longitude coordinate of the restaurant&#39;s location\n",
    "- Latitude: Latitude coordinate of the restaurant&#39;s location\n",
    "- Cuisines: Cuisines offered by the restaurant\n",
    "- Average Cost for two: Cost for two people in different currencies   \n",
    "- Currency: Currency of the country\n",
    "- Has Table booking: yes/no\n",
    "- Has Online delivery: yes/ no\n",
    "- Is delivering: yes/ no\n",
    "- Switch to order menu: yes/no\n",
    "- Price range: range of price of food\n",
    "- Aggregate Rating: Average rating out of 5\n",
    "- Rating color: depending upon the average rating color\n",
    "- Rating text: text on the basis of rating of rating\n",
    "- Votes: Number of ratings casted by people\n",
    "\n",
    "### Problem statement : \n",
    "In this dataset predict 2 things –\n",
    "1. Average Cost for two\n",
    "2. Price range\n",
    "\n",
    "\n",
    "**Hint :** Use pandas merge operation -- pd.merge (df1,df2) to combine two datasets\n"
   ]
  },
  {
   "cell_type": "markdown",
   "id": "49c56cf1",
   "metadata": {},
   "source": [
    "### Dataset Link\n",
    "* https://github.com/dsrscientist/dataset4/blob/main/Country-Code.xlsx\n",
    "* https://github.com/dsrscientist/dataset4/blob/main/zomato.csv\n",
    "\n",
    "#### Raw files:\n",
    "- https://raw.githubusercontent.com/dsrscientist/dataset4/main/zomato.csv\n",
    "- https://github.com/dsrscientist/dataset4/raw/main/Country-Code.xlsx"
   ]
  },
  {
   "cell_type": "code",
   "execution_count": 3,
   "id": "2be54c26",
   "metadata": {},
   "outputs": [],
   "source": [
    "    import pandas as pd\n",
    "    import numpy as np\n",
    "    import seaborn as sns\n",
    "    import matplotlib.pyplot as plt\n",
    "    import warnings\n",
    "    warnings.filterwarnings('ignore')"
   ]
  },
  {
   "cell_type": "markdown",
   "id": "0a8f449e",
   "metadata": {},
   "source": [
    "### Load the dataset"
   ]
  },
  {
   "cell_type": "code",
   "execution_count": 4,
   "id": "7044face",
   "metadata": {},
   "outputs": [],
   "source": [
    "# Retrive the dataset using the raw address\n",
    "url = \"https://raw.githubusercontent.com/dsrscientist/dataset4/main/zomato.csv\"\n",
    "\n",
    "# Read the CSV file into a DataFrame\n",
    "df_zomato = pd.read_csv(url, encoding='ISO-8859-1')"
   ]
  },
  {
   "cell_type": "code",
   "execution_count": 5,
   "id": "708a5c5a",
   "metadata": {},
   "outputs": [
    {
     "data": {
      "text/html": [
       "<div>\n",
       "<style scoped>\n",
       "    .dataframe tbody tr th:only-of-type {\n",
       "        vertical-align: middle;\n",
       "    }\n",
       "\n",
       "    .dataframe tbody tr th {\n",
       "        vertical-align: top;\n",
       "    }\n",
       "\n",
       "    .dataframe thead th {\n",
       "        text-align: right;\n",
       "    }\n",
       "</style>\n",
       "<table border=\"1\" class=\"dataframe\">\n",
       "  <thead>\n",
       "    <tr style=\"text-align: right;\">\n",
       "      <th></th>\n",
       "      <th>Country Code</th>\n",
       "      <th>Country</th>\n",
       "    </tr>\n",
       "  </thead>\n",
       "  <tbody>\n",
       "    <tr>\n",
       "      <th>0</th>\n",
       "      <td>1</td>\n",
       "      <td>India</td>\n",
       "    </tr>\n",
       "    <tr>\n",
       "      <th>1</th>\n",
       "      <td>14</td>\n",
       "      <td>Australia</td>\n",
       "    </tr>\n",
       "    <tr>\n",
       "      <th>2</th>\n",
       "      <td>30</td>\n",
       "      <td>Brazil</td>\n",
       "    </tr>\n",
       "    <tr>\n",
       "      <th>3</th>\n",
       "      <td>37</td>\n",
       "      <td>Canada</td>\n",
       "    </tr>\n",
       "    <tr>\n",
       "      <th>4</th>\n",
       "      <td>94</td>\n",
       "      <td>Indonesia</td>\n",
       "    </tr>\n",
       "    <tr>\n",
       "      <th>5</th>\n",
       "      <td>148</td>\n",
       "      <td>New Zealand</td>\n",
       "    </tr>\n",
       "    <tr>\n",
       "      <th>6</th>\n",
       "      <td>162</td>\n",
       "      <td>Phillipines</td>\n",
       "    </tr>\n",
       "    <tr>\n",
       "      <th>7</th>\n",
       "      <td>166</td>\n",
       "      <td>Qatar</td>\n",
       "    </tr>\n",
       "    <tr>\n",
       "      <th>8</th>\n",
       "      <td>184</td>\n",
       "      <td>Singapore</td>\n",
       "    </tr>\n",
       "    <tr>\n",
       "      <th>9</th>\n",
       "      <td>189</td>\n",
       "      <td>South Africa</td>\n",
       "    </tr>\n",
       "    <tr>\n",
       "      <th>10</th>\n",
       "      <td>191</td>\n",
       "      <td>Sri Lanka</td>\n",
       "    </tr>\n",
       "    <tr>\n",
       "      <th>11</th>\n",
       "      <td>208</td>\n",
       "      <td>Turkey</td>\n",
       "    </tr>\n",
       "    <tr>\n",
       "      <th>12</th>\n",
       "      <td>214</td>\n",
       "      <td>UAE</td>\n",
       "    </tr>\n",
       "    <tr>\n",
       "      <th>13</th>\n",
       "      <td>215</td>\n",
       "      <td>United Kingdom</td>\n",
       "    </tr>\n",
       "    <tr>\n",
       "      <th>14</th>\n",
       "      <td>216</td>\n",
       "      <td>United States</td>\n",
       "    </tr>\n",
       "  </tbody>\n",
       "</table>\n",
       "</div>"
      ],
      "text/plain": [
       "    Country Code         Country\n",
       "0              1           India\n",
       "1             14       Australia\n",
       "2             30          Brazil\n",
       "3             37          Canada\n",
       "4             94       Indonesia\n",
       "5            148     New Zealand\n",
       "6            162     Phillipines\n",
       "7            166           Qatar\n",
       "8            184       Singapore\n",
       "9            189    South Africa\n",
       "10           191       Sri Lanka\n",
       "11           208          Turkey\n",
       "12           214             UAE\n",
       "13           215  United Kingdom\n",
       "14           216   United States"
      ]
     },
     "execution_count": 5,
     "metadata": {},
     "output_type": "execute_result"
    }
   ],
   "source": [
    "url2 = \"https://github.com/dsrscientist/dataset4/raw/main/Country-Code.xlsx\"\n",
    "df_country = pd.read_excel(url2)\n",
    "df_country"
   ]
  },
  {
   "cell_type": "markdown",
   "id": "074fe048",
   "metadata": {},
   "source": [
    "### Merge the dataframes"
   ]
  },
  {
   "cell_type": "code",
   "execution_count": 6,
   "id": "1fcc8cd1",
   "metadata": {},
   "outputs": [
    {
     "data": {
      "text/html": [
       "<div>\n",
       "<style scoped>\n",
       "    .dataframe tbody tr th:only-of-type {\n",
       "        vertical-align: middle;\n",
       "    }\n",
       "\n",
       "    .dataframe tbody tr th {\n",
       "        vertical-align: top;\n",
       "    }\n",
       "\n",
       "    .dataframe thead th {\n",
       "        text-align: right;\n",
       "    }\n",
       "</style>\n",
       "<table border=\"1\" class=\"dataframe\">\n",
       "  <thead>\n",
       "    <tr style=\"text-align: right;\">\n",
       "      <th></th>\n",
       "      <th>Restaurant ID</th>\n",
       "      <th>Country Code</th>\n",
       "      <th>Country</th>\n",
       "    </tr>\n",
       "  </thead>\n",
       "  <tbody>\n",
       "    <tr>\n",
       "      <th>7023</th>\n",
       "      <td>18261701</td>\n",
       "      <td>1</td>\n",
       "      <td>India</td>\n",
       "    </tr>\n",
       "    <tr>\n",
       "      <th>946</th>\n",
       "      <td>18270895</td>\n",
       "      <td>1</td>\n",
       "      <td>India</td>\n",
       "    </tr>\n",
       "    <tr>\n",
       "      <th>3798</th>\n",
       "      <td>308315</td>\n",
       "      <td>1</td>\n",
       "      <td>India</td>\n",
       "    </tr>\n",
       "    <tr>\n",
       "      <th>5342</th>\n",
       "      <td>2942</td>\n",
       "      <td>1</td>\n",
       "      <td>India</td>\n",
       "    </tr>\n",
       "    <tr>\n",
       "      <th>5797</th>\n",
       "      <td>8718</td>\n",
       "      <td>1</td>\n",
       "      <td>India</td>\n",
       "    </tr>\n",
       "  </tbody>\n",
       "</table>\n",
       "</div>"
      ],
      "text/plain": [
       "      Restaurant ID  Country Code Country\n",
       "7023       18261701             1   India\n",
       "946        18270895             1   India\n",
       "3798         308315             1   India\n",
       "5342           2942             1   India\n",
       "5797           8718             1   India"
      ]
     },
     "execution_count": 6,
     "metadata": {},
     "output_type": "execute_result"
    }
   ],
   "source": [
    "# Merge the dataframes on 'Country Code'\n",
    "df = pd.merge(df_zomato, df_country, on='Country Code', how='left')\n",
    "df[['Restaurant ID','Country Code','Country']].sample(5)"
   ]
  },
  {
   "cell_type": "markdown",
   "id": "8c0e30e7",
   "metadata": {},
   "source": [
    "The information of both, df_zomato and df_country, was merged into one dataset."
   ]
  },
  {
   "cell_type": "markdown",
   "id": "4d976e98",
   "metadata": {},
   "source": [
    "# 1. EDA Exploratory Data Analysis\n",
    "## 1.1 First view "
   ]
  },
  {
   "cell_type": "code",
   "execution_count": 7,
   "id": "14a5fce3",
   "metadata": {},
   "outputs": [
    {
     "data": {
      "text/html": [
       "<div>\n",
       "<style scoped>\n",
       "    .dataframe tbody tr th:only-of-type {\n",
       "        vertical-align: middle;\n",
       "    }\n",
       "\n",
       "    .dataframe tbody tr th {\n",
       "        vertical-align: top;\n",
       "    }\n",
       "\n",
       "    .dataframe thead th {\n",
       "        text-align: right;\n",
       "    }\n",
       "</style>\n",
       "<table border=\"1\" class=\"dataframe\">\n",
       "  <thead>\n",
       "    <tr style=\"text-align: right;\">\n",
       "      <th></th>\n",
       "      <th>Restaurant ID</th>\n",
       "      <th>Restaurant Name</th>\n",
       "      <th>Country Code</th>\n",
       "      <th>City</th>\n",
       "      <th>Address</th>\n",
       "      <th>Locality</th>\n",
       "      <th>Locality Verbose</th>\n",
       "      <th>Longitude</th>\n",
       "      <th>Latitude</th>\n",
       "      <th>Cuisines</th>\n",
       "      <th>...</th>\n",
       "      <th>Has Table booking</th>\n",
       "      <th>Has Online delivery</th>\n",
       "      <th>Is delivering now</th>\n",
       "      <th>Switch to order menu</th>\n",
       "      <th>Price range</th>\n",
       "      <th>Aggregate rating</th>\n",
       "      <th>Rating color</th>\n",
       "      <th>Rating text</th>\n",
       "      <th>Votes</th>\n",
       "      <th>Country</th>\n",
       "    </tr>\n",
       "  </thead>\n",
       "  <tbody>\n",
       "    <tr>\n",
       "      <th>0</th>\n",
       "      <td>6317637</td>\n",
       "      <td>Le Petit Souffle</td>\n",
       "      <td>162</td>\n",
       "      <td>Makati City</td>\n",
       "      <td>Third Floor, Century City Mall, Kalayaan Avenu...</td>\n",
       "      <td>Century City Mall, Poblacion, Makati City</td>\n",
       "      <td>Century City Mall, Poblacion, Makati City, Mak...</td>\n",
       "      <td>121.027535</td>\n",
       "      <td>14.565443</td>\n",
       "      <td>French, Japanese, Desserts</td>\n",
       "      <td>...</td>\n",
       "      <td>Yes</td>\n",
       "      <td>No</td>\n",
       "      <td>No</td>\n",
       "      <td>No</td>\n",
       "      <td>3</td>\n",
       "      <td>4.8</td>\n",
       "      <td>Dark Green</td>\n",
       "      <td>Excellent</td>\n",
       "      <td>314</td>\n",
       "      <td>Phillipines</td>\n",
       "    </tr>\n",
       "    <tr>\n",
       "      <th>1</th>\n",
       "      <td>6304287</td>\n",
       "      <td>Izakaya Kikufuji</td>\n",
       "      <td>162</td>\n",
       "      <td>Makati City</td>\n",
       "      <td>Little Tokyo, 2277 Chino Roces Avenue, Legaspi...</td>\n",
       "      <td>Little Tokyo, Legaspi Village, Makati City</td>\n",
       "      <td>Little Tokyo, Legaspi Village, Makati City, Ma...</td>\n",
       "      <td>121.014101</td>\n",
       "      <td>14.553708</td>\n",
       "      <td>Japanese</td>\n",
       "      <td>...</td>\n",
       "      <td>Yes</td>\n",
       "      <td>No</td>\n",
       "      <td>No</td>\n",
       "      <td>No</td>\n",
       "      <td>3</td>\n",
       "      <td>4.5</td>\n",
       "      <td>Dark Green</td>\n",
       "      <td>Excellent</td>\n",
       "      <td>591</td>\n",
       "      <td>Phillipines</td>\n",
       "    </tr>\n",
       "    <tr>\n",
       "      <th>2</th>\n",
       "      <td>6300002</td>\n",
       "      <td>Heat - Edsa Shangri-La</td>\n",
       "      <td>162</td>\n",
       "      <td>Mandaluyong City</td>\n",
       "      <td>Edsa Shangri-La, 1 Garden Way, Ortigas, Mandal...</td>\n",
       "      <td>Edsa Shangri-La, Ortigas, Mandaluyong City</td>\n",
       "      <td>Edsa Shangri-La, Ortigas, Mandaluyong City, Ma...</td>\n",
       "      <td>121.056831</td>\n",
       "      <td>14.581404</td>\n",
       "      <td>Seafood, Asian, Filipino, Indian</td>\n",
       "      <td>...</td>\n",
       "      <td>Yes</td>\n",
       "      <td>No</td>\n",
       "      <td>No</td>\n",
       "      <td>No</td>\n",
       "      <td>4</td>\n",
       "      <td>4.4</td>\n",
       "      <td>Green</td>\n",
       "      <td>Very Good</td>\n",
       "      <td>270</td>\n",
       "      <td>Phillipines</td>\n",
       "    </tr>\n",
       "    <tr>\n",
       "      <th>3</th>\n",
       "      <td>6318506</td>\n",
       "      <td>Ooma</td>\n",
       "      <td>162</td>\n",
       "      <td>Mandaluyong City</td>\n",
       "      <td>Third Floor, Mega Fashion Hall, SM Megamall, O...</td>\n",
       "      <td>SM Megamall, Ortigas, Mandaluyong City</td>\n",
       "      <td>SM Megamall, Ortigas, Mandaluyong City, Mandal...</td>\n",
       "      <td>121.056475</td>\n",
       "      <td>14.585318</td>\n",
       "      <td>Japanese, Sushi</td>\n",
       "      <td>...</td>\n",
       "      <td>No</td>\n",
       "      <td>No</td>\n",
       "      <td>No</td>\n",
       "      <td>No</td>\n",
       "      <td>4</td>\n",
       "      <td>4.9</td>\n",
       "      <td>Dark Green</td>\n",
       "      <td>Excellent</td>\n",
       "      <td>365</td>\n",
       "      <td>Phillipines</td>\n",
       "    </tr>\n",
       "    <tr>\n",
       "      <th>4</th>\n",
       "      <td>6314302</td>\n",
       "      <td>Sambo Kojin</td>\n",
       "      <td>162</td>\n",
       "      <td>Mandaluyong City</td>\n",
       "      <td>Third Floor, Mega Atrium, SM Megamall, Ortigas...</td>\n",
       "      <td>SM Megamall, Ortigas, Mandaluyong City</td>\n",
       "      <td>SM Megamall, Ortigas, Mandaluyong City, Mandal...</td>\n",
       "      <td>121.057508</td>\n",
       "      <td>14.584450</td>\n",
       "      <td>Japanese, Korean</td>\n",
       "      <td>...</td>\n",
       "      <td>Yes</td>\n",
       "      <td>No</td>\n",
       "      <td>No</td>\n",
       "      <td>No</td>\n",
       "      <td>4</td>\n",
       "      <td>4.8</td>\n",
       "      <td>Dark Green</td>\n",
       "      <td>Excellent</td>\n",
       "      <td>229</td>\n",
       "      <td>Phillipines</td>\n",
       "    </tr>\n",
       "  </tbody>\n",
       "</table>\n",
       "<p>5 rows × 22 columns</p>\n",
       "</div>"
      ],
      "text/plain": [
       "   Restaurant ID         Restaurant Name  Country Code              City  \\\n",
       "0        6317637        Le Petit Souffle           162       Makati City   \n",
       "1        6304287        Izakaya Kikufuji           162       Makati City   \n",
       "2        6300002  Heat - Edsa Shangri-La           162  Mandaluyong City   \n",
       "3        6318506                    Ooma           162  Mandaluyong City   \n",
       "4        6314302             Sambo Kojin           162  Mandaluyong City   \n",
       "\n",
       "                                             Address  \\\n",
       "0  Third Floor, Century City Mall, Kalayaan Avenu...   \n",
       "1  Little Tokyo, 2277 Chino Roces Avenue, Legaspi...   \n",
       "2  Edsa Shangri-La, 1 Garden Way, Ortigas, Mandal...   \n",
       "3  Third Floor, Mega Fashion Hall, SM Megamall, O...   \n",
       "4  Third Floor, Mega Atrium, SM Megamall, Ortigas...   \n",
       "\n",
       "                                     Locality  \\\n",
       "0   Century City Mall, Poblacion, Makati City   \n",
       "1  Little Tokyo, Legaspi Village, Makati City   \n",
       "2  Edsa Shangri-La, Ortigas, Mandaluyong City   \n",
       "3      SM Megamall, Ortigas, Mandaluyong City   \n",
       "4      SM Megamall, Ortigas, Mandaluyong City   \n",
       "\n",
       "                                    Locality Verbose   Longitude   Latitude  \\\n",
       "0  Century City Mall, Poblacion, Makati City, Mak...  121.027535  14.565443   \n",
       "1  Little Tokyo, Legaspi Village, Makati City, Ma...  121.014101  14.553708   \n",
       "2  Edsa Shangri-La, Ortigas, Mandaluyong City, Ma...  121.056831  14.581404   \n",
       "3  SM Megamall, Ortigas, Mandaluyong City, Mandal...  121.056475  14.585318   \n",
       "4  SM Megamall, Ortigas, Mandaluyong City, Mandal...  121.057508  14.584450   \n",
       "\n",
       "                           Cuisines  ...  Has Table booking  \\\n",
       "0        French, Japanese, Desserts  ...                Yes   \n",
       "1                          Japanese  ...                Yes   \n",
       "2  Seafood, Asian, Filipino, Indian  ...                Yes   \n",
       "3                   Japanese, Sushi  ...                 No   \n",
       "4                  Japanese, Korean  ...                Yes   \n",
       "\n",
       "  Has Online delivery Is delivering now Switch to order menu Price range  \\\n",
       "0                  No                No                   No           3   \n",
       "1                  No                No                   No           3   \n",
       "2                  No                No                   No           4   \n",
       "3                  No                No                   No           4   \n",
       "4                  No                No                   No           4   \n",
       "\n",
       "  Aggregate rating  Rating color  Rating text Votes      Country  \n",
       "0              4.8    Dark Green    Excellent   314  Phillipines  \n",
       "1              4.5    Dark Green    Excellent   591  Phillipines  \n",
       "2              4.4         Green    Very Good   270  Phillipines  \n",
       "3              4.9    Dark Green    Excellent   365  Phillipines  \n",
       "4              4.8    Dark Green    Excellent   229  Phillipines  \n",
       "\n",
       "[5 rows x 22 columns]"
      ]
     },
     "execution_count": 7,
     "metadata": {},
     "output_type": "execute_result"
    }
   ],
   "source": [
    "df.head()"
   ]
  },
  {
   "cell_type": "code",
   "execution_count": 8,
   "id": "63c2571b",
   "metadata": {},
   "outputs": [
    {
     "data": {
      "text/html": [
       "<div>\n",
       "<style scoped>\n",
       "    .dataframe tbody tr th:only-of-type {\n",
       "        vertical-align: middle;\n",
       "    }\n",
       "\n",
       "    .dataframe tbody tr th {\n",
       "        vertical-align: top;\n",
       "    }\n",
       "\n",
       "    .dataframe thead th {\n",
       "        text-align: right;\n",
       "    }\n",
       "</style>\n",
       "<table border=\"1\" class=\"dataframe\">\n",
       "  <thead>\n",
       "    <tr style=\"text-align: right;\">\n",
       "      <th></th>\n",
       "      <th>Restaurant ID</th>\n",
       "      <th>Restaurant Name</th>\n",
       "      <th>Country Code</th>\n",
       "      <th>City</th>\n",
       "      <th>Address</th>\n",
       "      <th>Locality</th>\n",
       "      <th>Locality Verbose</th>\n",
       "      <th>Longitude</th>\n",
       "      <th>Latitude</th>\n",
       "      <th>Cuisines</th>\n",
       "      <th>...</th>\n",
       "      <th>Has Table booking</th>\n",
       "      <th>Has Online delivery</th>\n",
       "      <th>Is delivering now</th>\n",
       "      <th>Switch to order menu</th>\n",
       "      <th>Price range</th>\n",
       "      <th>Aggregate rating</th>\n",
       "      <th>Rating color</th>\n",
       "      <th>Rating text</th>\n",
       "      <th>Votes</th>\n",
       "      <th>Country</th>\n",
       "    </tr>\n",
       "  </thead>\n",
       "  <tbody>\n",
       "    <tr>\n",
       "      <th>9546</th>\n",
       "      <td>5915730</td>\n",
       "      <td>NamlÛ± Gurme</td>\n",
       "      <td>208</td>\n",
       "      <td>ÛÁstanbul</td>\n",
       "      <td>Kemankeô Karamustafa Paôa Mahallesi, RÛ±htÛ±...</td>\n",
       "      <td>Karakí_y</td>\n",
       "      <td>Karakí_y, ÛÁstanbul</td>\n",
       "      <td>28.977392</td>\n",
       "      <td>41.022793</td>\n",
       "      <td>Turkish</td>\n",
       "      <td>...</td>\n",
       "      <td>No</td>\n",
       "      <td>No</td>\n",
       "      <td>No</td>\n",
       "      <td>No</td>\n",
       "      <td>3</td>\n",
       "      <td>4.1</td>\n",
       "      <td>Green</td>\n",
       "      <td>Very Good</td>\n",
       "      <td>788</td>\n",
       "      <td>Turkey</td>\n",
       "    </tr>\n",
       "    <tr>\n",
       "      <th>9547</th>\n",
       "      <td>5908749</td>\n",
       "      <td>Ceviz AÛôacÛ±</td>\n",
       "      <td>208</td>\n",
       "      <td>ÛÁstanbul</td>\n",
       "      <td>Koôuyolu Mahallesi, Muhittin íìstí_ndaÛô Cadd...</td>\n",
       "      <td>Koôuyolu</td>\n",
       "      <td>Koôuyolu, ÛÁstanbul</td>\n",
       "      <td>29.041297</td>\n",
       "      <td>41.009847</td>\n",
       "      <td>World Cuisine, Patisserie, Cafe</td>\n",
       "      <td>...</td>\n",
       "      <td>No</td>\n",
       "      <td>No</td>\n",
       "      <td>No</td>\n",
       "      <td>No</td>\n",
       "      <td>3</td>\n",
       "      <td>4.2</td>\n",
       "      <td>Green</td>\n",
       "      <td>Very Good</td>\n",
       "      <td>1034</td>\n",
       "      <td>Turkey</td>\n",
       "    </tr>\n",
       "    <tr>\n",
       "      <th>9548</th>\n",
       "      <td>5915807</td>\n",
       "      <td>Huqqa</td>\n",
       "      <td>208</td>\n",
       "      <td>ÛÁstanbul</td>\n",
       "      <td>Kuruí_eôme Mahallesi, Muallim Naci Caddesi, N...</td>\n",
       "      <td>Kuruí_eôme</td>\n",
       "      <td>Kuruí_eôme, ÛÁstanbul</td>\n",
       "      <td>29.034640</td>\n",
       "      <td>41.055817</td>\n",
       "      <td>Italian, World Cuisine</td>\n",
       "      <td>...</td>\n",
       "      <td>No</td>\n",
       "      <td>No</td>\n",
       "      <td>No</td>\n",
       "      <td>No</td>\n",
       "      <td>4</td>\n",
       "      <td>3.7</td>\n",
       "      <td>Yellow</td>\n",
       "      <td>Good</td>\n",
       "      <td>661</td>\n",
       "      <td>Turkey</td>\n",
       "    </tr>\n",
       "    <tr>\n",
       "      <th>9549</th>\n",
       "      <td>5916112</td>\n",
       "      <td>Aôôk Kahve</td>\n",
       "      <td>208</td>\n",
       "      <td>ÛÁstanbul</td>\n",
       "      <td>Kuruí_eôme Mahallesi, Muallim Naci Caddesi, N...</td>\n",
       "      <td>Kuruí_eôme</td>\n",
       "      <td>Kuruí_eôme, ÛÁstanbul</td>\n",
       "      <td>29.036019</td>\n",
       "      <td>41.057979</td>\n",
       "      <td>Restaurant Cafe</td>\n",
       "      <td>...</td>\n",
       "      <td>No</td>\n",
       "      <td>No</td>\n",
       "      <td>No</td>\n",
       "      <td>No</td>\n",
       "      <td>4</td>\n",
       "      <td>4.0</td>\n",
       "      <td>Green</td>\n",
       "      <td>Very Good</td>\n",
       "      <td>901</td>\n",
       "      <td>Turkey</td>\n",
       "    </tr>\n",
       "    <tr>\n",
       "      <th>9550</th>\n",
       "      <td>5927402</td>\n",
       "      <td>Walter's Coffee Roastery</td>\n",
       "      <td>208</td>\n",
       "      <td>ÛÁstanbul</td>\n",
       "      <td>CafeaÛôa Mahallesi, BademaltÛ± Sokak, No 21/B,...</td>\n",
       "      <td>Moda</td>\n",
       "      <td>Moda, ÛÁstanbul</td>\n",
       "      <td>29.026016</td>\n",
       "      <td>40.984776</td>\n",
       "      <td>Cafe</td>\n",
       "      <td>...</td>\n",
       "      <td>No</td>\n",
       "      <td>No</td>\n",
       "      <td>No</td>\n",
       "      <td>No</td>\n",
       "      <td>2</td>\n",
       "      <td>4.0</td>\n",
       "      <td>Green</td>\n",
       "      <td>Very Good</td>\n",
       "      <td>591</td>\n",
       "      <td>Turkey</td>\n",
       "    </tr>\n",
       "  </tbody>\n",
       "</table>\n",
       "<p>5 rows × 22 columns</p>\n",
       "</div>"
      ],
      "text/plain": [
       "      Restaurant ID           Restaurant Name  Country Code       City  \\\n",
       "9546        5915730              NamlÛ± Gurme           208  ÛÁstanbul   \n",
       "9547        5908749             Ceviz AÛôacÛ±           208  ÛÁstanbul   \n",
       "9548        5915807                     Huqqa           208  ÛÁstanbul   \n",
       "9549        5916112              Aôôk Kahve           208  ÛÁstanbul   \n",
       "9550        5927402  Walter's Coffee Roastery           208  ÛÁstanbul   \n",
       "\n",
       "                                                Address     Locality  \\\n",
       "9546  Kemankeô Karamustafa Paôa Mahallesi, RÛ±htÛ±...     Karakí_y   \n",
       "9547  Koôuyolu Mahallesi, Muhittin íìstí_ndaÛô Cadd...    Koôuyolu   \n",
       "9548  Kuruí_eôme Mahallesi, Muallim Naci Caddesi, N...  Kuruí_eôme   \n",
       "9549  Kuruí_eôme Mahallesi, Muallim Naci Caddesi, N...  Kuruí_eôme   \n",
       "9550  CafeaÛôa Mahallesi, BademaltÛ± Sokak, No 21/B,...         Moda   \n",
       "\n",
       "            Locality Verbose  Longitude   Latitude  \\\n",
       "9546     Karakí_y, ÛÁstanbul  28.977392  41.022793   \n",
       "9547    Koôuyolu, ÛÁstanbul  29.041297  41.009847   \n",
       "9548  Kuruí_eôme, ÛÁstanbul  29.034640  41.055817   \n",
       "9549  Kuruí_eôme, ÛÁstanbul  29.036019  41.057979   \n",
       "9550         Moda, ÛÁstanbul  29.026016  40.984776   \n",
       "\n",
       "                             Cuisines  ...  Has Table booking  \\\n",
       "9546                          Turkish  ...                 No   \n",
       "9547  World Cuisine, Patisserie, Cafe  ...                 No   \n",
       "9548           Italian, World Cuisine  ...                 No   \n",
       "9549                  Restaurant Cafe  ...                 No   \n",
       "9550                             Cafe  ...                 No   \n",
       "\n",
       "     Has Online delivery Is delivering now Switch to order menu Price range  \\\n",
       "9546                  No                No                   No           3   \n",
       "9547                  No                No                   No           3   \n",
       "9548                  No                No                   No           4   \n",
       "9549                  No                No                   No           4   \n",
       "9550                  No                No                   No           2   \n",
       "\n",
       "     Aggregate rating  Rating color  Rating text Votes Country  \n",
       "9546              4.1         Green    Very Good   788  Turkey  \n",
       "9547              4.2         Green    Very Good  1034  Turkey  \n",
       "9548              3.7        Yellow         Good   661  Turkey  \n",
       "9549              4.0         Green    Very Good   901  Turkey  \n",
       "9550              4.0         Green    Very Good   591  Turkey  \n",
       "\n",
       "[5 rows x 22 columns]"
      ]
     },
     "execution_count": 8,
     "metadata": {},
     "output_type": "execute_result"
    }
   ],
   "source": [
    "df.tail()"
   ]
  },
  {
   "cell_type": "code",
   "execution_count": 9,
   "id": "43bd0996",
   "metadata": {},
   "outputs": [
    {
     "name": "stdout",
     "output_type": "stream",
     "text": [
      "The rows and columns in the dataset: (9551, 22)\n",
      "\n",
      "The column headers in the dataset: Index(['Restaurant ID', 'Restaurant Name', 'Country Code', 'City', 'Address',\n",
      "       'Locality', 'Locality Verbose', 'Longitude', 'Latitude', 'Cuisines',\n",
      "       'Average Cost for two', 'Currency', 'Has Table booking',\n",
      "       'Has Online delivery', 'Is delivering now', 'Switch to order menu',\n",
      "       'Price range', 'Aggregate rating', 'Rating color', 'Rating text',\n",
      "       'Votes', 'Country'],\n",
      "      dtype='object')\n"
     ]
    }
   ],
   "source": [
    "# checking the dimension of the dataset\n",
    "df.shape\n",
    "\n",
    "print(f\"The rows and columns in the dataset: {df.shape}\")\n",
    "print(f\"\\nThe column headers in the dataset: {df.columns}\")"
   ]
  },
  {
   "cell_type": "markdown",
   "id": "4580c398",
   "metadata": {},
   "source": [
    "This dataset comprises 9,551 rows and 22 columns. Among these, the variables 'Average Cost for Two' and 'Price Range' are designated as targets for distinct analytical approaches. The remaining 20 variables serve as independent variables, as outlined in the Project Description section.\n",
    "\n",
    "Given the dataset's dual perspectives, we aim to analyze 'Average Cost for Two' as a regression problem and 'Price Range' as a classification problem during the Exploratory Data Analysis (EDA) phase. "
   ]
  },
  {
   "cell_type": "code",
   "execution_count": 10,
   "id": "52fcc837",
   "metadata": {},
   "outputs": [
    {
     "name": "stdout",
     "output_type": "stream",
     "text": [
      "<class 'pandas.core.frame.DataFrame'>\n",
      "Int64Index: 9551 entries, 0 to 9550\n",
      "Data columns (total 22 columns):\n",
      " #   Column                Non-Null Count  Dtype  \n",
      "---  ------                --------------  -----  \n",
      " 0   Restaurant ID         9551 non-null   int64  \n",
      " 1   Restaurant Name       9551 non-null   object \n",
      " 2   Country Code          9551 non-null   int64  \n",
      " 3   City                  9551 non-null   object \n",
      " 4   Address               9551 non-null   object \n",
      " 5   Locality              9551 non-null   object \n",
      " 6   Locality Verbose      9551 non-null   object \n",
      " 7   Longitude             9551 non-null   float64\n",
      " 8   Latitude              9551 non-null   float64\n",
      " 9   Cuisines              9542 non-null   object \n",
      " 10  Average Cost for two  9551 non-null   int64  \n",
      " 11  Currency              9551 non-null   object \n",
      " 12  Has Table booking     9551 non-null   object \n",
      " 13  Has Online delivery   9551 non-null   object \n",
      " 14  Is delivering now     9551 non-null   object \n",
      " 15  Switch to order menu  9551 non-null   object \n",
      " 16  Price range           9551 non-null   int64  \n",
      " 17  Aggregate rating      9551 non-null   float64\n",
      " 18  Rating color          9551 non-null   object \n",
      " 19  Rating text           9551 non-null   object \n",
      " 20  Votes                 9551 non-null   int64  \n",
      " 21  Country               9551 non-null   object \n",
      "dtypes: float64(3), int64(5), object(14)\n",
      "memory usage: 1.7+ MB\n"
     ]
    }
   ],
   "source": [
    "# checking the types of columns\n",
    "df.info()"
   ]
  },
  {
   "cell_type": "markdown",
   "id": "b3949fbe",
   "metadata": {},
   "source": [
    "There are three types of data (float64, int64, and object ) present in the dataset, which corresponding features according to the data type will be listed as follows:"
   ]
  },
  {
   "cell_type": "code",
   "execution_count": 11,
   "id": "60e98aee",
   "metadata": {},
   "outputs": [
    {
     "name": "stdout",
     "output_type": "stream",
     "text": [
      "Object/Categorical variables:\n",
      "['Restaurant Name', 'City', 'Address', 'Locality', 'Locality Verbose', 'Cuisines', 'Currency', 'Has Table booking', 'Has Online delivery', 'Is delivering now', 'Switch to order menu', 'Rating color', 'Rating text', 'Country']\n",
      "14 in total\n",
      "\n",
      "int64 variables:\n",
      "['Restaurant ID', 'Country Code', 'Average Cost for two', 'Price range', 'Votes']\n",
      "5 in total\n",
      "\n",
      "float64 variables:\n",
      "['Longitude', 'Latitude', 'Aggregate rating']\n",
      "3 in total\n",
      "\n"
     ]
    }
   ],
   "source": [
    "# List object variables\n",
    "object_vars = df.select_dtypes(include='object').columns.tolist()\n",
    "print(f\"Object/Categorical variables:\\n{object_vars}\\n{len(object_vars)} in total\\n\")\n",
    "\n",
    "# List int64 variables\n",
    "int_vars = df.select_dtypes(include='int64').columns.tolist()\n",
    "print(f\"int64 variables:\\n{int_vars}\\n{len(int_vars)} in total\\n\")\n",
    "\n",
    "# List float64 variables\n",
    "float_vars = df.select_dtypes(include='float64').columns.tolist()\n",
    "print(f\"float64 variables:\\n{float_vars}\\n{len(float_vars)} in total\\n\")"
   ]
  },
  {
   "cell_type": "markdown",
   "id": "ee7198cd",
   "metadata": {},
   "source": [
    "## 1.2 Missing values\n",
    "### 1.2.1 Inspecting the dataset"
   ]
  },
  {
   "cell_type": "code",
   "execution_count": 12,
   "id": "345e95cf",
   "metadata": {},
   "outputs": [
    {
     "data": {
      "text/html": [
       "<div>\n",
       "<style scoped>\n",
       "    .dataframe tbody tr th:only-of-type {\n",
       "        vertical-align: middle;\n",
       "    }\n",
       "\n",
       "    .dataframe tbody tr th {\n",
       "        vertical-align: top;\n",
       "    }\n",
       "\n",
       "    .dataframe thead th {\n",
       "        text-align: right;\n",
       "    }\n",
       "</style>\n",
       "<table border=\"1\" class=\"dataframe\">\n",
       "  <thead>\n",
       "    <tr style=\"text-align: right;\">\n",
       "      <th></th>\n",
       "      <th>Null values</th>\n",
       "      <th>% of missing</th>\n",
       "    </tr>\n",
       "  </thead>\n",
       "  <tbody>\n",
       "    <tr>\n",
       "      <th>Restaurant ID</th>\n",
       "      <td>0</td>\n",
       "      <td>0.00</td>\n",
       "    </tr>\n",
       "    <tr>\n",
       "      <th>Restaurant Name</th>\n",
       "      <td>0</td>\n",
       "      <td>0.00</td>\n",
       "    </tr>\n",
       "    <tr>\n",
       "      <th>Country Code</th>\n",
       "      <td>0</td>\n",
       "      <td>0.00</td>\n",
       "    </tr>\n",
       "    <tr>\n",
       "      <th>City</th>\n",
       "      <td>0</td>\n",
       "      <td>0.00</td>\n",
       "    </tr>\n",
       "    <tr>\n",
       "      <th>Address</th>\n",
       "      <td>0</td>\n",
       "      <td>0.00</td>\n",
       "    </tr>\n",
       "    <tr>\n",
       "      <th>Locality</th>\n",
       "      <td>0</td>\n",
       "      <td>0.00</td>\n",
       "    </tr>\n",
       "    <tr>\n",
       "      <th>Locality Verbose</th>\n",
       "      <td>0</td>\n",
       "      <td>0.00</td>\n",
       "    </tr>\n",
       "    <tr>\n",
       "      <th>Longitude</th>\n",
       "      <td>0</td>\n",
       "      <td>0.00</td>\n",
       "    </tr>\n",
       "    <tr>\n",
       "      <th>Latitude</th>\n",
       "      <td>0</td>\n",
       "      <td>0.00</td>\n",
       "    </tr>\n",
       "    <tr>\n",
       "      <th>Cuisines</th>\n",
       "      <td>9</td>\n",
       "      <td>0.09</td>\n",
       "    </tr>\n",
       "    <tr>\n",
       "      <th>Average Cost for two</th>\n",
       "      <td>0</td>\n",
       "      <td>0.00</td>\n",
       "    </tr>\n",
       "    <tr>\n",
       "      <th>Currency</th>\n",
       "      <td>0</td>\n",
       "      <td>0.00</td>\n",
       "    </tr>\n",
       "    <tr>\n",
       "      <th>Has Table booking</th>\n",
       "      <td>0</td>\n",
       "      <td>0.00</td>\n",
       "    </tr>\n",
       "    <tr>\n",
       "      <th>Has Online delivery</th>\n",
       "      <td>0</td>\n",
       "      <td>0.00</td>\n",
       "    </tr>\n",
       "    <tr>\n",
       "      <th>Is delivering now</th>\n",
       "      <td>0</td>\n",
       "      <td>0.00</td>\n",
       "    </tr>\n",
       "    <tr>\n",
       "      <th>Switch to order menu</th>\n",
       "      <td>0</td>\n",
       "      <td>0.00</td>\n",
       "    </tr>\n",
       "    <tr>\n",
       "      <th>Price range</th>\n",
       "      <td>0</td>\n",
       "      <td>0.00</td>\n",
       "    </tr>\n",
       "    <tr>\n",
       "      <th>Aggregate rating</th>\n",
       "      <td>0</td>\n",
       "      <td>0.00</td>\n",
       "    </tr>\n",
       "    <tr>\n",
       "      <th>Rating color</th>\n",
       "      <td>0</td>\n",
       "      <td>0.00</td>\n",
       "    </tr>\n",
       "    <tr>\n",
       "      <th>Rating text</th>\n",
       "      <td>0</td>\n",
       "      <td>0.00</td>\n",
       "    </tr>\n",
       "    <tr>\n",
       "      <th>Votes</th>\n",
       "      <td>0</td>\n",
       "      <td>0.00</td>\n",
       "    </tr>\n",
       "    <tr>\n",
       "      <th>Country</th>\n",
       "      <td>0</td>\n",
       "      <td>0.00</td>\n",
       "    </tr>\n",
       "  </tbody>\n",
       "</table>\n",
       "</div>"
      ],
      "text/plain": [
       "                      Null values  % of missing\n",
       "Restaurant ID                   0          0.00\n",
       "Restaurant Name                 0          0.00\n",
       "Country Code                    0          0.00\n",
       "City                            0          0.00\n",
       "Address                         0          0.00\n",
       "Locality                        0          0.00\n",
       "Locality Verbose                0          0.00\n",
       "Longitude                       0          0.00\n",
       "Latitude                        0          0.00\n",
       "Cuisines                        9          0.09\n",
       "Average Cost for two            0          0.00\n",
       "Currency                        0          0.00\n",
       "Has Table booking               0          0.00\n",
       "Has Online delivery             0          0.00\n",
       "Is delivering now               0          0.00\n",
       "Switch to order menu            0          0.00\n",
       "Price range                     0          0.00\n",
       "Aggregate rating                0          0.00\n",
       "Rating color                    0          0.00\n",
       "Rating text                     0          0.00\n",
       "Votes                           0          0.00\n",
       "Country                         0          0.00"
      ]
     },
     "execution_count": 12,
     "metadata": {},
     "output_type": "execute_result"
    }
   ],
   "source": [
    "# checking the null values\n",
    "missing_val = df.isnull().sum().to_frame(\"Null values\")\n",
    "\n",
    "# Calculate the % of the null values\n",
    "missing_val[\"% of missing\"] = round(missing_val['Null values'] / len(df) * 100,2)\n",
    "\n",
    "missing_val"
   ]
  },
  {
   "cell_type": "code",
   "execution_count": 13,
   "id": "1feed46d",
   "metadata": {},
   "outputs": [
    {
     "name": "stdout",
     "output_type": "stream",
     "text": [
      "The dataset presents 9 missing values.\n"
     ]
    }
   ],
   "source": [
    "print(f\"The dataset presents {df.isnull().sum().sum()} missing values.\")"
   ]
  },
  {
   "cell_type": "markdown",
   "id": "932a09eb",
   "metadata": {},
   "source": [
    "Upon initial inspection, the dataset appears to be free of missing values, with the exception of the 'Cuisines' feature, which contains 9 instances of missing data.\n",
    "\n",
    " The missing values will be treated in further sections, but first, we will do EDA."
   ]
  },
  {
   "cell_type": "markdown",
   "id": "1155d587",
   "metadata": {},
   "source": [
    "### 1.2.2 Heatmap with missing values"
   ]
  },
  {
   "cell_type": "code",
   "execution_count": 14,
   "id": "0ed97cef",
   "metadata": {
    "scrolled": true
   },
   "outputs": [
    {
     "data": {
      "image/png": "[encoded data removed]",
      "text/plain": [
       "<Figure size 1600x300 with 1 Axes>"
      ]
     },
     "metadata": {},
     "output_type": "display_data"
    }
   ],
   "source": [
    "# Let's visualize it using heatmap\n",
    "plt.figure(figsize=(16,3))\n",
    "sns.heatmap(df.isnull(), yticklabels=False, cmap='coolwarm', cbar=False)\n",
    "plt.title('Missing values in the dataset', fontsize=10);"
   ]
  },
  {
   "cell_type": "markdown",
   "id": "44611b5c",
   "metadata": {},
   "source": [
    "## 1.3 Features Analysis\n",
    "### 1.3.1 Unique values"
   ]
  },
  {
   "cell_type": "code",
   "execution_count": 15,
   "id": "9af36cef",
   "metadata": {},
   "outputs": [
    {
     "data": {
      "text/html": [
       "<div>\n",
       "<style scoped>\n",
       "    .dataframe tbody tr th:only-of-type {\n",
       "        vertical-align: middle;\n",
       "    }\n",
       "\n",
       "    .dataframe tbody tr th {\n",
       "        vertical-align: top;\n",
       "    }\n",
       "\n",
       "    .dataframe thead th {\n",
       "        text-align: right;\n",
       "    }\n",
       "</style>\n",
       "<table border=\"1\" class=\"dataframe\">\n",
       "  <thead>\n",
       "    <tr style=\"text-align: right;\">\n",
       "      <th></th>\n",
       "      <th>No. of unique values</th>\n",
       "      <th>type</th>\n",
       "    </tr>\n",
       "  </thead>\n",
       "  <tbody>\n",
       "    <tr>\n",
       "      <th>Restaurant Name</th>\n",
       "      <td>7446</td>\n",
       "      <td>object</td>\n",
       "    </tr>\n",
       "    <tr>\n",
       "      <th>City</th>\n",
       "      <td>141</td>\n",
       "      <td>object</td>\n",
       "    </tr>\n",
       "    <tr>\n",
       "      <th>Address</th>\n",
       "      <td>8918</td>\n",
       "      <td>object</td>\n",
       "    </tr>\n",
       "    <tr>\n",
       "      <th>Locality</th>\n",
       "      <td>1208</td>\n",
       "      <td>object</td>\n",
       "    </tr>\n",
       "    <tr>\n",
       "      <th>Locality Verbose</th>\n",
       "      <td>1265</td>\n",
       "      <td>object</td>\n",
       "    </tr>\n",
       "    <tr>\n",
       "      <th>Cuisines</th>\n",
       "      <td>1825</td>\n",
       "      <td>object</td>\n",
       "    </tr>\n",
       "    <tr>\n",
       "      <th>Currency</th>\n",
       "      <td>12</td>\n",
       "      <td>object</td>\n",
       "    </tr>\n",
       "    <tr>\n",
       "      <th>Has Table booking</th>\n",
       "      <td>2</td>\n",
       "      <td>object</td>\n",
       "    </tr>\n",
       "    <tr>\n",
       "      <th>Has Online delivery</th>\n",
       "      <td>2</td>\n",
       "      <td>object</td>\n",
       "    </tr>\n",
       "    <tr>\n",
       "      <th>Is delivering now</th>\n",
       "      <td>2</td>\n",
       "      <td>object</td>\n",
       "    </tr>\n",
       "    <tr>\n",
       "      <th>Switch to order menu</th>\n",
       "      <td>1</td>\n",
       "      <td>object</td>\n",
       "    </tr>\n",
       "    <tr>\n",
       "      <th>Rating color</th>\n",
       "      <td>6</td>\n",
       "      <td>object</td>\n",
       "    </tr>\n",
       "    <tr>\n",
       "      <th>Rating text</th>\n",
       "      <td>6</td>\n",
       "      <td>object</td>\n",
       "    </tr>\n",
       "    <tr>\n",
       "      <th>Country</th>\n",
       "      <td>15</td>\n",
       "      <td>object</td>\n",
       "    </tr>\n",
       "  </tbody>\n",
       "</table>\n",
       "</div>"
      ],
      "text/plain": [
       "                      No. of unique values    type\n",
       "Restaurant Name                       7446  object\n",
       "City                                   141  object\n",
       "Address                               8918  object\n",
       "Locality                              1208  object\n",
       "Locality Verbose                      1265  object\n",
       "Cuisines                              1825  object\n",
       "Currency                                12  object\n",
       "Has Table booking                        2  object\n",
       "Has Online delivery                      2  object\n",
       "Is delivering now                        2  object\n",
       "Switch to order menu                     1  object\n",
       "Rating color                             6  object\n",
       "Rating text                              6  object\n",
       "Country                                 15  object"
      ]
     },
     "metadata": {},
     "output_type": "display_data"
    },
    {
     "data": {
      "text/html": [
       "<div>\n",
       "<style scoped>\n",
       "    .dataframe tbody tr th:only-of-type {\n",
       "        vertical-align: middle;\n",
       "    }\n",
       "\n",
       "    .dataframe tbody tr th {\n",
       "        vertical-align: top;\n",
       "    }\n",
       "\n",
       "    .dataframe thead th {\n",
       "        text-align: right;\n",
       "    }\n",
       "</style>\n",
       "<table border=\"1\" class=\"dataframe\">\n",
       "  <thead>\n",
       "    <tr style=\"text-align: right;\">\n",
       "      <th></th>\n",
       "      <th>No. of unique values</th>\n",
       "      <th>type</th>\n",
       "    </tr>\n",
       "  </thead>\n",
       "  <tbody>\n",
       "    <tr>\n",
       "      <th>Restaurant ID</th>\n",
       "      <td>9551</td>\n",
       "      <td>int64</td>\n",
       "    </tr>\n",
       "    <tr>\n",
       "      <th>Country Code</th>\n",
       "      <td>15</td>\n",
       "      <td>int64</td>\n",
       "    </tr>\n",
       "    <tr>\n",
       "      <th>Longitude</th>\n",
       "      <td>8120</td>\n",
       "      <td>float64</td>\n",
       "    </tr>\n",
       "    <tr>\n",
       "      <th>Latitude</th>\n",
       "      <td>8677</td>\n",
       "      <td>float64</td>\n",
       "    </tr>\n",
       "    <tr>\n",
       "      <th>Average Cost for two</th>\n",
       "      <td>140</td>\n",
       "      <td>int64</td>\n",
       "    </tr>\n",
       "    <tr>\n",
       "      <th>Price range</th>\n",
       "      <td>4</td>\n",
       "      <td>int64</td>\n",
       "    </tr>\n",
       "    <tr>\n",
       "      <th>Aggregate rating</th>\n",
       "      <td>33</td>\n",
       "      <td>float64</td>\n",
       "    </tr>\n",
       "    <tr>\n",
       "      <th>Votes</th>\n",
       "      <td>1012</td>\n",
       "      <td>int64</td>\n",
       "    </tr>\n",
       "  </tbody>\n",
       "</table>\n",
       "</div>"
      ],
      "text/plain": [
       "                      No. of unique values     type\n",
       "Restaurant ID                         9551    int64\n",
       "Country Code                            15    int64\n",
       "Longitude                             8120  float64\n",
       "Latitude                              8677  float64\n",
       "Average Cost for two                   140    int64\n",
       "Price range                              4    int64\n",
       "Aggregate rating                        33  float64\n",
       "Votes                                 1012    int64"
      ]
     },
     "metadata": {},
     "output_type": "display_data"
    }
   ],
   "source": [
    "# Reviewing the number of unique values in each feature and the target\n",
    "info_df = df.nunique().to_frame('No. of unique values')\n",
    "info_df['type'] = df.dtypes.values\n",
    "\n",
    "# List of categorical variables\n",
    "display(info_df[(info_df['type'] == 'object')])\n",
    "display(info_df[(info_df['type'] != 'object')])\n"
   ]
  },
  {
   "cell_type": "markdown",
   "id": "98e332bb",
   "metadata": {},
   "source": [
    "Regarding the number of unique values in the dataset:\n",
    "\n",
    "- The 'Restaurant ID' column contains unique values identical to the dataset's total rows. This column serves solely for record identification and does not influence the target variable. Therefore, it can be safely dropped.\n",
    "\n",
    "- The 'Address' column displays high cardinality with 8,918 unique values out of a total of 9,551 rows, constituting approximately 93.4% of the data. Considering that 'Country', 'City', 'Longitude', and 'Latitude' already provide location information, retaining the 'Address' column may not contribute significantly to the model. Consequently, it is advisable to consider dropping this feature to streamline the dataset.\n",
    "\n",
    "- The column 'Switch to order menu' consists of only a single unique value. As it does not contribute any additional valuable information for the predictive model, it is advisable to drop this column.\n",
    "\n",
    "- The 'Latitud' and 'Longitud' columns will undergo further analysis due to their high cardinality and conceptual connection, potentially carrying meaningful information when considered together.\n",
    "\n",
    "- Despite the 'Restaurant Name' presenting high cardinality, a count of unique values reveals instances where multiple restaurants share the same name. Further analysis is necessary to determine whether encoding based on characteristics can be applied.\n",
    "\n",
    "- **'Average Cost for Two' - Regression Problem:** 'Average Cost for Two' is the target variable with 140 unique values out of 9,551 total in the dataset. This indicates a regression problem since the target variable is continuous and numerical.\n",
    "\n",
    "- **'Price Range' - Classification Problem:** 'Price Range' is another target variable with four unique values (3, 4, 2, 1) out of 9,551 total in the dataset. This confirms that we are dealing with a classification problem.\n",
    "\n",
    "- **Numerical Columns as Categorical:** Columns such as 'Country Code' (15) and 'Aggregate Rating' (33), while numerical, seem to represent categorical information. These columns will be treated as categorical during EDA."
   ]
  },
  {
   "cell_type": "markdown",
   "id": "dda55e80",
   "metadata": {},
   "source": [
    "Next, we will remove the columns 'Restaurant ID', 'Address' for the reasons explained previously."
   ]
  },
  {
   "cell_type": "code",
   "execution_count": 16,
   "id": "f296ad0b",
   "metadata": {},
   "outputs": [
    {
     "data": {
      "text/html": [
       "<div>\n",
       "<style scoped>\n",
       "    .dataframe tbody tr th:only-of-type {\n",
       "        vertical-align: middle;\n",
       "    }\n",
       "\n",
       "    .dataframe tbody tr th {\n",
       "        vertical-align: top;\n",
       "    }\n",
       "\n",
       "    .dataframe thead th {\n",
       "        text-align: right;\n",
       "    }\n",
       "</style>\n",
       "<table border=\"1\" class=\"dataframe\">\n",
       "  <thead>\n",
       "    <tr style=\"text-align: right;\">\n",
       "      <th></th>\n",
       "      <th>Restaurant Name</th>\n",
       "      <th>Country Code</th>\n",
       "      <th>City</th>\n",
       "      <th>Locality</th>\n",
       "      <th>Locality Verbose</th>\n",
       "      <th>Longitude</th>\n",
       "      <th>Latitude</th>\n",
       "      <th>Cuisines</th>\n",
       "      <th>Average Cost for two</th>\n",
       "      <th>Currency</th>\n",
       "      <th>Has Table booking</th>\n",
       "      <th>Has Online delivery</th>\n",
       "      <th>Is delivering now</th>\n",
       "      <th>Price range</th>\n",
       "      <th>Aggregate rating</th>\n",
       "      <th>Rating color</th>\n",
       "      <th>Rating text</th>\n",
       "      <th>Votes</th>\n",
       "      <th>Country</th>\n",
       "    </tr>\n",
       "  </thead>\n",
       "  <tbody>\n",
       "    <tr>\n",
       "      <th>7984</th>\n",
       "      <td>Asia Seven Express</td>\n",
       "      <td>1</td>\n",
       "      <td>New Delhi</td>\n",
       "      <td>Worldmark 1, Aerocity</td>\n",
       "      <td>Worldmark 1, Aerocity, New Delhi</td>\n",
       "      <td>77.121785</td>\n",
       "      <td>28.550413</td>\n",
       "      <td>Chinese</td>\n",
       "      <td>500</td>\n",
       "      <td>Indian Rupees(Rs.)</td>\n",
       "      <td>No</td>\n",
       "      <td>No</td>\n",
       "      <td>No</td>\n",
       "      <td>2</td>\n",
       "      <td>0.0</td>\n",
       "      <td>White</td>\n",
       "      <td>Not rated</td>\n",
       "      <td>3</td>\n",
       "      <td>India</td>\n",
       "    </tr>\n",
       "    <tr>\n",
       "      <th>8724</th>\n",
       "      <td>Cafe Coffee Day</td>\n",
       "      <td>1</td>\n",
       "      <td>Noida</td>\n",
       "      <td>Sector 50</td>\n",
       "      <td>Sector 50, Noida</td>\n",
       "      <td>77.361918</td>\n",
       "      <td>28.570513</td>\n",
       "      <td>Cafe</td>\n",
       "      <td>450</td>\n",
       "      <td>Indian Rupees(Rs.)</td>\n",
       "      <td>No</td>\n",
       "      <td>No</td>\n",
       "      <td>No</td>\n",
       "      <td>1</td>\n",
       "      <td>2.7</td>\n",
       "      <td>Orange</td>\n",
       "      <td>Average</td>\n",
       "      <td>42</td>\n",
       "      <td>India</td>\n",
       "    </tr>\n",
       "    <tr>\n",
       "      <th>3966</th>\n",
       "      <td>Gupta's Vegetarian Paradise</td>\n",
       "      <td>1</td>\n",
       "      <td>New Delhi</td>\n",
       "      <td>Hauz Khas</td>\n",
       "      <td>Hauz Khas, New Delhi</td>\n",
       "      <td>77.211648</td>\n",
       "      <td>28.563631</td>\n",
       "      <td>North Indian</td>\n",
       "      <td>500</td>\n",
       "      <td>Indian Rupees(Rs.)</td>\n",
       "      <td>No</td>\n",
       "      <td>No</td>\n",
       "      <td>No</td>\n",
       "      <td>2</td>\n",
       "      <td>0.0</td>\n",
       "      <td>White</td>\n",
       "      <td>Not rated</td>\n",
       "      <td>1</td>\n",
       "      <td>India</td>\n",
       "    </tr>\n",
       "    <tr>\n",
       "      <th>1916</th>\n",
       "      <td>Costa Coffee</td>\n",
       "      <td>1</td>\n",
       "      <td>Gurgaon</td>\n",
       "      <td>Sector 39</td>\n",
       "      <td>Sector 39, Gurgaon</td>\n",
       "      <td>77.040797</td>\n",
       "      <td>28.439548</td>\n",
       "      <td>Cafe</td>\n",
       "      <td>600</td>\n",
       "      <td>Indian Rupees(Rs.)</td>\n",
       "      <td>No</td>\n",
       "      <td>No</td>\n",
       "      <td>No</td>\n",
       "      <td>2</td>\n",
       "      <td>0.0</td>\n",
       "      <td>White</td>\n",
       "      <td>Not rated</td>\n",
       "      <td>0</td>\n",
       "      <td>India</td>\n",
       "    </tr>\n",
       "    <tr>\n",
       "      <th>7440</th>\n",
       "      <td>Gyan Di Hatti</td>\n",
       "      <td>1</td>\n",
       "      <td>New Delhi</td>\n",
       "      <td>Tagore Garden</td>\n",
       "      <td>Tagore Garden, New Delhi</td>\n",
       "      <td>77.114641</td>\n",
       "      <td>28.653589</td>\n",
       "      <td>North Indian</td>\n",
       "      <td>200</td>\n",
       "      <td>Indian Rupees(Rs.)</td>\n",
       "      <td>No</td>\n",
       "      <td>No</td>\n",
       "      <td>No</td>\n",
       "      <td>1</td>\n",
       "      <td>2.9</td>\n",
       "      <td>Orange</td>\n",
       "      <td>Average</td>\n",
       "      <td>5</td>\n",
       "      <td>India</td>\n",
       "    </tr>\n",
       "  </tbody>\n",
       "</table>\n",
       "</div>"
      ],
      "text/plain": [
       "                  Restaurant Name  Country Code       City  \\\n",
       "7984           Asia Seven Express             1  New Delhi   \n",
       "8724              Cafe Coffee Day             1      Noida   \n",
       "3966  Gupta's Vegetarian Paradise             1  New Delhi   \n",
       "1916                 Costa Coffee             1    Gurgaon   \n",
       "7440                Gyan Di Hatti             1  New Delhi   \n",
       "\n",
       "                   Locality                  Locality Verbose  Longitude  \\\n",
       "7984  Worldmark 1, Aerocity  Worldmark 1, Aerocity, New Delhi  77.121785   \n",
       "8724              Sector 50                  Sector 50, Noida  77.361918   \n",
       "3966              Hauz Khas              Hauz Khas, New Delhi  77.211648   \n",
       "1916              Sector 39                Sector 39, Gurgaon  77.040797   \n",
       "7440          Tagore Garden          Tagore Garden, New Delhi  77.114641   \n",
       "\n",
       "       Latitude      Cuisines  Average Cost for two            Currency  \\\n",
       "7984  28.550413       Chinese                   500  Indian Rupees(Rs.)   \n",
       "8724  28.570513          Cafe                   450  Indian Rupees(Rs.)   \n",
       "3966  28.563631  North Indian                   500  Indian Rupees(Rs.)   \n",
       "1916  28.439548          Cafe                   600  Indian Rupees(Rs.)   \n",
       "7440  28.653589  North Indian                   200  Indian Rupees(Rs.)   \n",
       "\n",
       "     Has Table booking Has Online delivery Is delivering now  Price range  \\\n",
       "7984                No                  No                No            2   \n",
       "8724                No                  No                No            1   \n",
       "3966                No                  No                No            2   \n",
       "1916                No                  No                No            2   \n",
       "7440                No                  No                No            1   \n",
       "\n",
       "      Aggregate rating Rating color Rating text  Votes Country  \n",
       "7984               0.0        White   Not rated      3   India  \n",
       "8724               2.7       Orange     Average     42   India  \n",
       "3966               0.0        White   Not rated      1   India  \n",
       "1916               0.0        White   Not rated      0   India  \n",
       "7440               2.9       Orange     Average      5   India  "
      ]
     },
     "metadata": {},
     "output_type": "display_data"
    }
   ],
   "source": [
    "# Dropping the columns 'Restaurant ID' and 'Address'\n",
    "df.drop(['Restaurant ID', 'Address', 'Switch to order menu' ], axis=1, inplace=True)\n",
    "display(df.sample(5))"
   ]
  },
  {
   "cell_type": "code",
   "execution_count": 17,
   "id": "0650a226",
   "metadata": {},
   "outputs": [
    {
     "name": "stdout",
     "output_type": "stream",
     "text": [
      "The rows and columns in the dataset: (9551, 19)\n"
     ]
    }
   ],
   "source": [
    "print(f\"The rows and columns in the dataset: {df.shape}\")"
   ]
  },
  {
   "cell_type": "markdown",
   "id": "8ea62d46",
   "metadata": {},
   "source": [
    "Now the dataset contains 9951 rows and 19 columns. The target variables and  independent variables."
   ]
  },
  {
   "cell_type": "markdown",
   "id": "91f62b69",
   "metadata": {},
   "source": [
    "#### 1.3.1.1 Average Cost for two unique values"
   ]
  },
  {
   "cell_type": "code",
   "execution_count": 18,
   "id": "9fd935f5",
   "metadata": {
    "scrolled": true
   },
   "outputs": [
    {
     "name": "stdout",
     "output_type": "stream",
     "text": [
      "Feature Average Cost for two:\n",
      "500       900\n",
      "300       897\n",
      "400       857\n",
      "200       687\n",
      "600       652\n",
      "         ... \n",
      "8000        1\n",
      "2350        1\n",
      "150000      1\n",
      "70000       1\n",
      "545         1\n",
      "Name: Average Cost for two, Length: 140, dtype: int64\n",
      "Unique values: [0, 7, 10, 15, 20, 25, 30, 35, 40, 45, 50, 55, 60, 65, 70, 75, 80, 85, 90, 95, 100, 105, 110, 120, 125, 130, 140, 150, 160, 170, 180, 190, 200, 220, 230, 240, 250, 260, 270, 280, 285, 290, 294, 300, 315, 320, 330, 350, 360, 390, 400, 410, 430, 445, 450, 500, 515, 535, 545, 550, 570, 600, 650, 700, 720, 750, 800, 850, 900, 950, 955, 1000, 1050, 1100, 1150, 1200, 1250, 1300, 1350, 1400, 1450, 1500, 1540, 1550, 1600, 1650, 1700, 1750, 1800, 1850, 1900, 1950, 2000, 2100, 2200, 2300, 2350, 2400, 2500, 2600, 2650, 2700, 2800, 2900, 3000, 3200, 3210, 3300, 3500, 3600, 3650, 3700, 3800, 4000, 4100, 4200, 4300, 4400, 4500, 4700, 4800, 5000, 5100, 5500, 6000, 6500, 7000, 8000, 70000, 100000, 120000, 150000, 165000, 200000, 250000, 300000, 350000, 450000, 500000, 800000]\n"
     ]
    }
   ],
   "source": [
    "# Inspect the unique values of the target variable\n",
    "column = 'Average Cost for two'\n",
    "print(f\"Feature {column}:\\n{df[column].value_counts(dropna=False)}\")\n",
    "print(f\"Unique values: {sorted(df[column].unique())}\")"
   ]
  },
  {
   "cell_type": "markdown",
   "id": "7b8a6184",
   "metadata": {},
   "source": [
    "The target variable 'Average Cost for two' has 140 unique values of the 9551 rows in the dataset. In order to predict this feature we need to build a regression model."
   ]
  },
  {
   "cell_type": "markdown",
   "id": "3400fc9e",
   "metadata": {},
   "source": [
    "#### 1.3.1.2 Price range unique values"
   ]
  },
  {
   "cell_type": "code",
   "execution_count": 19,
   "id": "0b550c90",
   "metadata": {},
   "outputs": [
    {
     "name": "stdout",
     "output_type": "stream",
     "text": [
      "Feature Price range:\n",
      "1    4444\n",
      "2    3113\n",
      "3    1408\n",
      "4     586\n",
      "Name: Price range, dtype: int64\n",
      "Unique values: [3 4 2 1]\n",
      "# unique values: 4\n"
     ]
    }
   ],
   "source": [
    "# Inspect the unique values of the target variable\n",
    "column = 'Price range'\n",
    "print(f\"Feature {column}:\\n{df[column].value_counts()}\")\n",
    "print(f\"Unique values: {df[column].unique()}\")\n",
    "print(f\"# unique values: {df[column].nunique()}\")"
   ]
  },
  {
   "cell_type": "markdown",
   "id": "8f255991",
   "metadata": {},
   "source": [
    "The target variable 'Price range' has 4 unique values of the 9551 rows in the dataset. In order to predict this feature we will build a classification model since the variable is categorical."
   ]
  },
  {
   "cell_type": "markdown",
   "id": "f5a0a9cc",
   "metadata": {},
   "source": [
    "#### 1.3.1.3 Independent variables unique values"
   ]
  },
  {
   "cell_type": "markdown",
   "id": "26196717",
   "metadata": {},
   "source": [
    "We will separate the numerical discrete variables from the continuous."
   ]
  },
  {
   "cell_type": "code",
   "execution_count": 20,
   "id": "cd983e73",
   "metadata": {},
   "outputs": [
    {
     "name": "stdout",
     "output_type": "stream",
     "text": [
      "Categorical Columns:\n",
      " ['Restaurant Name', 'City', 'Locality', 'Locality Verbose', 'Cuisines', 'Currency', 'Has Table booking', 'Has Online delivery', 'Is delivering now', 'Rating color', 'Rating text', 'Country']\n",
      "\n",
      "Numerical Columns that represent a category:\n",
      " ['Country Code', 'Aggregate rating']\n",
      "\n",
      "Numerical Columns:\n",
      " ['Longitude', 'Latitude', 'Votes']\n",
      "\n"
     ]
    }
   ],
   "source": [
    "# Separating Numerical and Categorical columns\n",
    "categorical_col =  df.select_dtypes(include='object').columns.tolist()\n",
    "num_cat_col = ['Country Code', 'Aggregate rating']\n",
    "numerical_col =  [col for col in df.select_dtypes(include=np.number).columns.tolist() if col not in num_cat_col]\n",
    "\n",
    "# Remove the target variables since they will be analyzed separately\n",
    "numerical_col.remove('Average Cost for two')\n",
    "numerical_col.remove('Price range')\n",
    "\n",
    "#  Numerical and Categorical columns\n",
    "print(f\"Categorical Columns:\\n {categorical_col}\\n\")\n",
    "print(f\"Numerical Columns that represent a category:\\n {num_cat_col}\\n\")\n",
    "print(f\"Numerical Columns:\\n {numerical_col}\\n\")"
   ]
  },
  {
   "cell_type": "markdown",
   "id": "12edc575",
   "metadata": {},
   "source": [
    "#### Categorical columns"
   ]
  },
  {
   "cell_type": "code",
   "execution_count": 21,
   "id": "d34af69c",
   "metadata": {},
   "outputs": [
    {
     "name": "stdout",
     "output_type": "stream",
     "text": [
      "1.Feature Restaurant Name:\n",
      "Cafe Coffee Day             83\n",
      "Domino's Pizza              79\n",
      "Subway                      63\n",
      "Green Chick Chop            51\n",
      "McDonald's                  48\n",
      "                            ..\n",
      "Odeon Social                 1\n",
      "Johnny Rockets               1\n",
      "House of Commons             1\n",
      "HotMess                      1\n",
      "Walter's Coffee Roastery     1\n",
      "Name: Restaurant Name, Length: 7446, dtype: int64\n",
      "# unique values: 7446\n",
      "\n",
      "2.Feature City:\n",
      "New Delhi           5473\n",
      "Gurgaon             1118\n",
      "Noida               1080\n",
      "Faridabad            251\n",
      "Ghaziabad             25\n",
      "                    ... \n",
      "Panchkula              1\n",
      "Mc Millan              1\n",
      "Mayfield               1\n",
      "Macedon                1\n",
      "Vineland Station       1\n",
      "Name: City, Length: 141, dtype: int64\n",
      "# unique values: 141\n",
      "\n",
      "3.Feature Locality:\n",
      "Connaught Place                                122\n",
      "Rajouri Garden                                  99\n",
      "Shahdara                                        87\n",
      "Defence Colony                                  86\n",
      "Malviya Nagar                                   85\n",
      "                                              ... \n",
      "Lemon Tree Premier, Sector 29                    1\n",
      "Omaxe Celebration Mall, Sohna Road, Gurgaon      1\n",
      "Park Inn, Sector 15, Gurgaon                     1\n",
      "Plaza Mall, MG Road                              1\n",
      "Moda                                             1\n",
      "Name: Locality, Length: 1208, dtype: int64\n",
      "# unique values: 1208\n",
      "\n",
      "4.Feature Locality Verbose:\n",
      "Connaught Place, New Delhi                    122\n",
      "Rajouri Garden, New Delhi                      99\n",
      "Shahdara, New Delhi                            87\n",
      "Defence Colony, New Delhi                      86\n",
      "Pitampura, New Delhi                           85\n",
      "                                             ... \n",
      "Ramada Gurgaon Central, Sector 44, Gurgaon      1\n",
      "Sector 5, Gurgaon                               1\n",
      "Sector 53, Gurgaon                              1\n",
      "The Claremont, MG Road, Gurgaon                 1\n",
      "Moda, ÛÁstanbul                                 1\n",
      "Name: Locality Verbose, Length: 1265, dtype: int64\n",
      "# unique values: 1265\n",
      "\n",
      "5.Feature Cuisines:\n",
      "North Indian                                             936\n",
      "North Indian, Chinese                                    511\n",
      "Chinese                                                  354\n",
      "Fast Food                                                354\n",
      "North Indian, Mughlai                                    334\n",
      "                                                        ... \n",
      "Bengali, Fast Food                                         1\n",
      "North Indian, Rajasthani, Asian                            1\n",
      "Chinese, Thai, Malaysian, Indonesian                       1\n",
      "Bakery, Desserts, North Indian, Bengali, South Indian      1\n",
      "Italian, World Cuisine                                     1\n",
      "Name: Cuisines, Length: 1826, dtype: int64\n",
      "# unique values: 1825\n",
      "\n",
      "6.Feature Currency:\n",
      "Indian Rupees(Rs.)        8652\n",
      "Dollar($)                  482\n",
      "Pounds(£)                  80\n",
      "Brazilian Real(R$)          60\n",
      "Emirati Diram(AED)          60\n",
      "Rand(R)                     60\n",
      "NewZealand($)               40\n",
      "Turkish Lira(TL)            34\n",
      "Botswana Pula(P)            22\n",
      "Indonesian Rupiah(IDR)      21\n",
      "Qatari Rial(QR)             20\n",
      "Sri Lankan Rupee(LKR)       20\n",
      "Name: Currency, dtype: int64\n",
      "# unique values: 12\n",
      "\n",
      "7.Feature Has Table booking:\n",
      "No     8393\n",
      "Yes    1158\n",
      "Name: Has Table booking, dtype: int64\n",
      "# unique values: 2\n",
      "\n",
      "8.Feature Has Online delivery:\n",
      "No     7100\n",
      "Yes    2451\n",
      "Name: Has Online delivery, dtype: int64\n",
      "# unique values: 2\n",
      "\n",
      "9.Feature Is delivering now:\n",
      "No     9517\n",
      "Yes      34\n",
      "Name: Is delivering now, dtype: int64\n",
      "# unique values: 2\n",
      "\n",
      "10.Feature Rating color:\n",
      "Orange        3737\n",
      "White         2148\n",
      "Yellow        2100\n",
      "Green         1079\n",
      "Dark Green     301\n",
      "Red            186\n",
      "Name: Rating color, dtype: int64\n",
      "# unique values: 6\n",
      "\n",
      "11.Feature Rating text:\n",
      "Average      3737\n",
      "Not rated    2148\n",
      "Good         2100\n",
      "Very Good    1079\n",
      "Excellent     301\n",
      "Poor          186\n",
      "Name: Rating text, dtype: int64\n",
      "# unique values: 6\n",
      "\n",
      "12.Feature Country:\n",
      "India             8652\n",
      "United States      434\n",
      "United Kingdom      80\n",
      "Brazil              60\n",
      "UAE                 60\n",
      "South Africa        60\n",
      "New Zealand         40\n",
      "Turkey              34\n",
      "Australia           24\n",
      "Phillipines         22\n",
      "Indonesia           21\n",
      "Singapore           20\n",
      "Qatar               20\n",
      "Sri Lanka           20\n",
      "Canada               4\n",
      "Name: Country, dtype: int64\n",
      "# unique values: 15\n",
      "\n"
     ]
    }
   ],
   "source": [
    "for i, column in enumerate(categorical_col):\n",
    "    print(f\"{i+1}.Feature {column}:\\n{df[column].value_counts(dropna=False)}\")\n",
    "    print(f\"# unique values: {df[column].nunique()}\\n\")"
   ]
  },
  {
   "cell_type": "markdown",
   "id": "416402f6",
   "metadata": {},
   "source": [
    "#### Numerical columns"
   ]
  },
  {
   "cell_type": "code",
   "execution_count": 22,
   "id": "4deb0e9d",
   "metadata": {},
   "outputs": [
    {
     "name": "stdout",
     "output_type": "stream",
     "text": [
      "1.Feature Longitude:\n",
      "0.000000     498\n",
      "77.353663     19\n",
      "77.230412     12\n",
      "77.088688     10\n",
      "77.251426      9\n",
      "            ... \n",
      "77.227294      1\n",
      "77.225420      1\n",
      "77.230347      1\n",
      "77.230578      1\n",
      "29.026016      1\n",
      "Name: Longitude, Length: 8120, dtype: int64\n",
      "# unique values: 8120\n",
      "\n",
      "2.Feature Latitude:\n",
      "0.000000     498\n",
      "28.574309     16\n",
      "28.551456      9\n",
      "28.574300      9\n",
      "28.597103      8\n",
      "            ... \n",
      "28.645175      1\n",
      "28.646194      1\n",
      "28.648280      1\n",
      "28.643514      1\n",
      "40.984776      1\n",
      "Name: Latitude, Length: 8677, dtype: int64\n",
      "# unique values: 8677\n",
      "\n",
      "3.Feature Votes:\n",
      "0      1094\n",
      "1       483\n",
      "2       327\n",
      "3       244\n",
      "4       207\n",
      "       ... \n",
      "615       1\n",
      "538       1\n",
      "823       1\n",
      "650       1\n",
      "901       1\n",
      "Name: Votes, Length: 1012, dtype: int64\n",
      "# unique values: 1012\n",
      "\n",
      "4.Feature Country Code:\n",
      "1      8652\n",
      "216     434\n",
      "215      80\n",
      "30       60\n",
      "214      60\n",
      "189      60\n",
      "148      40\n",
      "208      34\n",
      "14       24\n",
      "162      22\n",
      "94       21\n",
      "184      20\n",
      "166      20\n",
      "191      20\n",
      "37        4\n",
      "Name: Country Code, dtype: int64\n",
      "# unique values: 15\n",
      "\n",
      "5.Feature Aggregate rating:\n",
      "0.0    2148\n",
      "3.2     522\n",
      "3.1     519\n",
      "3.4     498\n",
      "3.3     483\n",
      "3.5     480\n",
      "3.0     468\n",
      "3.6     458\n",
      "3.7     427\n",
      "3.8     400\n",
      "2.9     381\n",
      "3.9     335\n",
      "2.8     315\n",
      "4.1     274\n",
      "4.0     266\n",
      "2.7     250\n",
      "4.2     221\n",
      "2.6     191\n",
      "4.3     174\n",
      "4.4     144\n",
      "2.5     110\n",
      "4.5      95\n",
      "2.4      87\n",
      "4.6      78\n",
      "4.9      61\n",
      "2.3      47\n",
      "4.7      42\n",
      "2.2      27\n",
      "4.8      25\n",
      "2.1      15\n",
      "2.0       7\n",
      "1.9       2\n",
      "1.8       1\n",
      "Name: Aggregate rating, dtype: int64\n",
      "# unique values: 33\n",
      "\n"
     ]
    }
   ],
   "source": [
    "for i, column in enumerate(numerical_col + num_cat_col):\n",
    "    print(f\"{i+1}.Feature {column}:\\n{df[column].value_counts()}\")\n",
    "    print(f\"# unique values: {df[column].nunique()}\\n\")"
   ]
  },
  {
   "cell_type": "markdown",
   "id": "10ace821",
   "metadata": {},
   "source": [
    "Although the above columns are numerical, some of them will be analyzed as categorical since they are discrete, as is the case of 'Country Code' and 'Aggregate rating'."
   ]
  },
  {
   "cell_type": "markdown",
   "id": "bd435bf6",
   "metadata": {},
   "source": [
    "### 1.3.3 Summary statistics of the numerical and non-numerical variables"
   ]
  },
  {
   "cell_type": "code",
   "execution_count": 23,
   "id": "57f3b96b",
   "metadata": {},
   "outputs": [
    {
     "data": {
      "text/html": [
       "<div>\n",
       "<style scoped>\n",
       "    .dataframe tbody tr th:only-of-type {\n",
       "        vertical-align: middle;\n",
       "    }\n",
       "\n",
       "    .dataframe tbody tr th {\n",
       "        vertical-align: top;\n",
       "    }\n",
       "\n",
       "    .dataframe thead th {\n",
       "        text-align: right;\n",
       "    }\n",
       "</style>\n",
       "<table border=\"1\" class=\"dataframe\">\n",
       "  <thead>\n",
       "    <tr style=\"text-align: right;\">\n",
       "      <th></th>\n",
       "      <th>Country Code</th>\n",
       "      <th>Longitude</th>\n",
       "      <th>Latitude</th>\n",
       "      <th>Average Cost for two</th>\n",
       "      <th>Price range</th>\n",
       "      <th>Aggregate rating</th>\n",
       "      <th>Votes</th>\n",
       "    </tr>\n",
       "  </thead>\n",
       "  <tbody>\n",
       "    <tr>\n",
       "      <th>count</th>\n",
       "      <td>9551.000000</td>\n",
       "      <td>9551.000000</td>\n",
       "      <td>9551.000000</td>\n",
       "      <td>9551.000000</td>\n",
       "      <td>9551.000000</td>\n",
       "      <td>9551.000000</td>\n",
       "      <td>9551.000000</td>\n",
       "    </tr>\n",
       "    <tr>\n",
       "      <th>mean</th>\n",
       "      <td>18.365616</td>\n",
       "      <td>64.126574</td>\n",
       "      <td>25.854381</td>\n",
       "      <td>1199.210763</td>\n",
       "      <td>1.804837</td>\n",
       "      <td>2.666370</td>\n",
       "      <td>156.909748</td>\n",
       "    </tr>\n",
       "    <tr>\n",
       "      <th>std</th>\n",
       "      <td>56.750546</td>\n",
       "      <td>41.467058</td>\n",
       "      <td>11.007935</td>\n",
       "      <td>16121.183073</td>\n",
       "      <td>0.905609</td>\n",
       "      <td>1.516378</td>\n",
       "      <td>430.169145</td>\n",
       "    </tr>\n",
       "    <tr>\n",
       "      <th>min</th>\n",
       "      <td>1.000000</td>\n",
       "      <td>-157.948486</td>\n",
       "      <td>-41.330428</td>\n",
       "      <td>0.000000</td>\n",
       "      <td>1.000000</td>\n",
       "      <td>0.000000</td>\n",
       "      <td>0.000000</td>\n",
       "    </tr>\n",
       "    <tr>\n",
       "      <th>25%</th>\n",
       "      <td>1.000000</td>\n",
       "      <td>77.081343</td>\n",
       "      <td>28.478713</td>\n",
       "      <td>250.000000</td>\n",
       "      <td>1.000000</td>\n",
       "      <td>2.500000</td>\n",
       "      <td>5.000000</td>\n",
       "    </tr>\n",
       "    <tr>\n",
       "      <th>50%</th>\n",
       "      <td>1.000000</td>\n",
       "      <td>77.191964</td>\n",
       "      <td>28.570469</td>\n",
       "      <td>400.000000</td>\n",
       "      <td>2.000000</td>\n",
       "      <td>3.200000</td>\n",
       "      <td>31.000000</td>\n",
       "    </tr>\n",
       "    <tr>\n",
       "      <th>75%</th>\n",
       "      <td>1.000000</td>\n",
       "      <td>77.282006</td>\n",
       "      <td>28.642758</td>\n",
       "      <td>700.000000</td>\n",
       "      <td>2.000000</td>\n",
       "      <td>3.700000</td>\n",
       "      <td>131.000000</td>\n",
       "    </tr>\n",
       "    <tr>\n",
       "      <th>max</th>\n",
       "      <td>216.000000</td>\n",
       "      <td>174.832089</td>\n",
       "      <td>55.976980</td>\n",
       "      <td>800000.000000</td>\n",
       "      <td>4.000000</td>\n",
       "      <td>4.900000</td>\n",
       "      <td>10934.000000</td>\n",
       "    </tr>\n",
       "  </tbody>\n",
       "</table>\n",
       "</div>"
      ],
      "text/plain": [
       "       Country Code    Longitude     Latitude  Average Cost for two  \\\n",
       "count   9551.000000  9551.000000  9551.000000           9551.000000   \n",
       "mean      18.365616    64.126574    25.854381           1199.210763   \n",
       "std       56.750546    41.467058    11.007935          16121.183073   \n",
       "min        1.000000  -157.948486   -41.330428              0.000000   \n",
       "25%        1.000000    77.081343    28.478713            250.000000   \n",
       "50%        1.000000    77.191964    28.570469            400.000000   \n",
       "75%        1.000000    77.282006    28.642758            700.000000   \n",
       "max      216.000000   174.832089    55.976980         800000.000000   \n",
       "\n",
       "       Price range  Aggregate rating         Votes  \n",
       "count  9551.000000       9551.000000   9551.000000  \n",
       "mean      1.804837          2.666370    156.909748  \n",
       "std       0.905609          1.516378    430.169145  \n",
       "min       1.000000          0.000000      0.000000  \n",
       "25%       1.000000          2.500000      5.000000  \n",
       "50%       2.000000          3.200000     31.000000  \n",
       "75%       2.000000          3.700000    131.000000  \n",
       "max       4.000000          4.900000  10934.000000  "
      ]
     },
     "execution_count": 23,
     "metadata": {},
     "output_type": "execute_result"
    }
   ],
   "source": [
    "# Summary statistics of numerical columns\n",
    "stats = df.describe()\n",
    "stats"
   ]
  },
  {
   "cell_type": "code",
   "execution_count": 24,
   "id": "9bd0012c",
   "metadata": {},
   "outputs": [
    {
     "data": {
      "text/html": [
       "<div>\n",
       "<style scoped>\n",
       "    .dataframe tbody tr th:only-of-type {\n",
       "        vertical-align: middle;\n",
       "    }\n",
       "\n",
       "    .dataframe tbody tr th {\n",
       "        vertical-align: top;\n",
       "    }\n",
       "\n",
       "    .dataframe thead th {\n",
       "        text-align: right;\n",
       "    }\n",
       "</style>\n",
       "<table border=\"1\" class=\"dataframe\">\n",
       "  <thead>\n",
       "    <tr style=\"text-align: right;\">\n",
       "      <th></th>\n",
       "      <th>Restaurant Name</th>\n",
       "      <th>City</th>\n",
       "      <th>Locality</th>\n",
       "      <th>Locality Verbose</th>\n",
       "      <th>Cuisines</th>\n",
       "      <th>Currency</th>\n",
       "      <th>Has Table booking</th>\n",
       "      <th>Has Online delivery</th>\n",
       "      <th>Is delivering now</th>\n",
       "      <th>Rating color</th>\n",
       "      <th>Rating text</th>\n",
       "      <th>Country</th>\n",
       "    </tr>\n",
       "  </thead>\n",
       "  <tbody>\n",
       "    <tr>\n",
       "      <th>count</th>\n",
       "      <td>9551</td>\n",
       "      <td>9551</td>\n",
       "      <td>9551</td>\n",
       "      <td>9551</td>\n",
       "      <td>9542</td>\n",
       "      <td>9551</td>\n",
       "      <td>9551</td>\n",
       "      <td>9551</td>\n",
       "      <td>9551</td>\n",
       "      <td>9551</td>\n",
       "      <td>9551</td>\n",
       "      <td>9551</td>\n",
       "    </tr>\n",
       "    <tr>\n",
       "      <th>unique</th>\n",
       "      <td>7446</td>\n",
       "      <td>141</td>\n",
       "      <td>1208</td>\n",
       "      <td>1265</td>\n",
       "      <td>1825</td>\n",
       "      <td>12</td>\n",
       "      <td>2</td>\n",
       "      <td>2</td>\n",
       "      <td>2</td>\n",
       "      <td>6</td>\n",
       "      <td>6</td>\n",
       "      <td>15</td>\n",
       "    </tr>\n",
       "    <tr>\n",
       "      <th>top</th>\n",
       "      <td>Cafe Coffee Day</td>\n",
       "      <td>New Delhi</td>\n",
       "      <td>Connaught Place</td>\n",
       "      <td>Connaught Place, New Delhi</td>\n",
       "      <td>North Indian</td>\n",
       "      <td>Indian Rupees(Rs.)</td>\n",
       "      <td>No</td>\n",
       "      <td>No</td>\n",
       "      <td>No</td>\n",
       "      <td>Orange</td>\n",
       "      <td>Average</td>\n",
       "      <td>India</td>\n",
       "    </tr>\n",
       "    <tr>\n",
       "      <th>freq</th>\n",
       "      <td>83</td>\n",
       "      <td>5473</td>\n",
       "      <td>122</td>\n",
       "      <td>122</td>\n",
       "      <td>936</td>\n",
       "      <td>8652</td>\n",
       "      <td>8393</td>\n",
       "      <td>7100</td>\n",
       "      <td>9517</td>\n",
       "      <td>3737</td>\n",
       "      <td>3737</td>\n",
       "      <td>8652</td>\n",
       "    </tr>\n",
       "  </tbody>\n",
       "</table>\n",
       "</div>"
      ],
      "text/plain": [
       "        Restaurant Name       City         Locality  \\\n",
       "count              9551       9551             9551   \n",
       "unique             7446        141             1208   \n",
       "top     Cafe Coffee Day  New Delhi  Connaught Place   \n",
       "freq                 83       5473              122   \n",
       "\n",
       "                  Locality Verbose      Cuisines            Currency  \\\n",
       "count                         9551          9542                9551   \n",
       "unique                        1265          1825                  12   \n",
       "top     Connaught Place, New Delhi  North Indian  Indian Rupees(Rs.)   \n",
       "freq                           122           936                8652   \n",
       "\n",
       "       Has Table booking Has Online delivery Is delivering now Rating color  \\\n",
       "count               9551                9551              9551         9551   \n",
       "unique                 2                   2                 2            6   \n",
       "top                   No                  No                No       Orange   \n",
       "freq                8393                7100              9517         3737   \n",
       "\n",
       "       Rating text Country  \n",
       "count         9551    9551  \n",
       "unique           6      15  \n",
       "top        Average   India  \n",
       "freq          3737    8652  "
      ]
     },
     "execution_count": 24,
     "metadata": {},
     "output_type": "execute_result"
    }
   ],
   "source": [
    "# Look at the non numeric columns\n",
    "df.describe(exclude=[np.number])"
   ]
  },
  {
   "cell_type": "markdown",
   "id": "bef9ab68",
   "metadata": {},
   "source": [
    "**Observations**\n",
    "- The summary of the dataset looks perfect since there are no negative/invalid values present.\n",
    "- However, The counts of 'Cuisines' have a difference from the total of rows which means there are missing values in this column as we mentioned in previous sections.\n",
    "\n",
    "Next, we will analyze the skewness present in the columns, and infer the present of outliers."
   ]
  },
  {
   "cell_type": "code",
   "execution_count": 25,
   "id": "8c43a24c",
   "metadata": {},
   "outputs": [
    {
     "data": {
      "text/plain": [
       "Average Cost for two    799.210763\n",
       "Votes                   125.909748\n",
       "Country Code             17.365616\n",
       "Price range              -0.195163\n",
       "Aggregate rating         -0.533630\n",
       "Latitude                 -2.716088\n",
       "Longitude               -13.065390\n",
       "dtype: float64"
      ]
     },
     "execution_count": 25,
     "metadata": {},
     "output_type": "execute_result"
    }
   ],
   "source": [
    "# Contrast the mean with the 50th percentile\n",
    "(stats.loc['mean',:] - stats.loc['50%',:]).sort_values(ascending=False)"
   ]
  },
  {
   "cell_type": "markdown",
   "id": "abf87f4e",
   "metadata": {},
   "source": [
    "The mean value is larger than the median(50%) in columns 'Average Cost for two' and 'Votes'columns. Therefore, the data could be skewed to the right.  'Country Code' is categorical despite of being numeric.\n",
    "In the columns 'Longitud' and 'Latitude' the median(50%) is larger than the mean, then the data could be skewed to the left."
   ]
  },
  {
   "cell_type": "code",
   "execution_count": 26,
   "id": "c60bb9d6",
   "metadata": {
    "scrolled": true
   },
   "outputs": [
    {
     "data": {
      "text/plain": [
       "Average Cost for two    766558.423090\n",
       "Votes                     9916.751962\n",
       "Country Code                84.133293\n",
       "Longitude                   27.771399\n",
       "Latitude                     8.106729\n",
       "Price range                  0.383945\n",
       "Aggregate rating            -0.799125\n",
       "dtype: float64"
      ]
     },
     "execution_count": 26,
     "metadata": {},
     "output_type": "execute_result"
    }
   ],
   "source": [
    "# Contrast the maximum value in each colum with 2 times the std plus the mean \n",
    "(stats.loc['max',:] - (stats.loc['mean',:] + 2 * stats.loc['std',:] ) ).sort_values(ascending=False)"
   ]
  },
  {
   "cell_type": "markdown",
   "id": "c1df2165",
   "metadata": {},
   "source": [
    "Since the max value is greater than two standard deviations plus the mean in the features 'Average Cost for two' and 'Votes'columns listed above, there could be outliers in the data. "
   ]
  },
  {
   "cell_type": "markdown",
   "id": "a83a7cce",
   "metadata": {},
   "source": [
    "### 1.3.3 Duplicates"
   ]
  },
  {
   "cell_type": "code",
   "execution_count": 27,
   "id": "b879dcdf",
   "metadata": {
    "scrolled": true
   },
   "outputs": [
    {
     "name": "stdout",
     "output_type": "stream",
     "text": [
      "There are 0 duplicate rows, which represent 0.000% of the data.\n"
     ]
    }
   ],
   "source": [
    "# Searching for duplicated values\n",
    "duplicated_rows = df[df.duplicated()].shape[0]\n",
    "\n",
    "print(f\"There are {duplicated_rows} duplicate rows, which represent {duplicated_rows/ df.shape[0] * 100:.3f}% of the data.\")"
   ]
  },
  {
   "cell_type": "markdown",
   "id": "99872982",
   "metadata": {},
   "source": [
    "There are no duplicate records in the dataset."
   ]
  },
  {
   "cell_type": "markdown",
   "id": "3b9e0bba",
   "metadata": {},
   "source": [
    "## 1.4 Data Visualization\n",
    "### 1.4.1 Univariate Analysis\n",
    "#### 1.4.1.1 Average Cost for two feature"
   ]
  },
  {
   "cell_type": "code",
   "execution_count": 28,
   "id": "0929bcdd",
   "metadata": {},
   "outputs": [
    {
     "data": {
      "image/png": "[encoded data removed]",
      "text/plain": [
       "<Figure size 1200x400 with 2 Axes>"
      ]
     },
     "metadata": {},
     "output_type": "display_data"
    },
    {
     "name": "stdout",
     "output_type": "stream",
     "text": [
      "Skewness of Average Cost for two : 35.477914900871276\n"
     ]
    }
   ],
   "source": [
    "#Visualize target distribution\n",
    "col = 'Average Cost for two'\n",
    "fig, axes = plt.subplots(1, 2, figsize=(12, 4))\n",
    "\n",
    "sns.set_palette('coolwarm')\n",
    "sns.histplot(df[col], kde=True , bins=20, ax=axes[0])\n",
    "sns.boxplot(df[col], ax=axes[1])\n",
    "\n",
    "axes[0].set_title(f'{col} Distribution', size=12, y=1.05)\n",
    "axes[0].set_ylabel('', size=10, labelpad=8)\n",
    "axes[0].tick_params(axis='x', rotation=90)  \n",
    "axes[1].set_title(f'{col} Box Plot', size=12, y=1.05)\n",
    "axes[1].tick_params(axis='x', rotation=90)  \n",
    "\n",
    "plt.show()\n",
    "\n",
    "# Show the skewness \n",
    "print(f\"Skewness of {col} : {df[col].skew()}\")"
   ]
  },
  {
   "cell_type": "markdown",
   "id": "981c1031",
   "metadata": {},
   "source": [
    "The distribution of 'Average Cost for two' is skewed to the right and presents outliers in the Box plot."
   ]
  },
  {
   "cell_type": "markdown",
   "id": "a8f989b5",
   "metadata": {},
   "source": [
    "#### 1.4.1.2 Price range feature"
   ]
  },
  {
   "cell_type": "code",
   "execution_count": 29,
   "id": "68267b5d",
   "metadata": {},
   "outputs": [],
   "source": [
    "def show_percentage(ax, total):\n",
    "    ''' Shows the representative percentage in each bar in a countplot.'''\n",
    "    for p in ax.patches:\n",
    "        percentage = f\"{100 * p.get_height()/total:.1f} %\"\n",
    "        x = p.get_x() + p.get_width() / 2 - 0.02\n",
    "        y = p.get_height()\n",
    "        ax.annotate(percentage, (x, y), fontsize=10, ha='center')"
   ]
  },
  {
   "cell_type": "code",
   "execution_count": 30,
   "id": "521f5877",
   "metadata": {},
   "outputs": [
    {
     "data": {
      "text/html": [
       "<div>\n",
       "<style scoped>\n",
       "    .dataframe tbody tr th:only-of-type {\n",
       "        vertical-align: middle;\n",
       "    }\n",
       "\n",
       "    .dataframe tbody tr th {\n",
       "        vertical-align: top;\n",
       "    }\n",
       "\n",
       "    .dataframe thead th {\n",
       "        text-align: right;\n",
       "    }\n",
       "</style>\n",
       "<table border=\"1\" class=\"dataframe\">\n",
       "  <thead>\n",
       "    <tr style=\"text-align: right;\">\n",
       "      <th></th>\n",
       "      <th>Price range</th>\n",
       "    </tr>\n",
       "  </thead>\n",
       "  <tbody>\n",
       "    <tr>\n",
       "      <th>1</th>\n",
       "      <td>4444</td>\n",
       "    </tr>\n",
       "    <tr>\n",
       "      <th>2</th>\n",
       "      <td>3113</td>\n",
       "    </tr>\n",
       "    <tr>\n",
       "      <th>3</th>\n",
       "      <td>1408</td>\n",
       "    </tr>\n",
       "    <tr>\n",
       "      <th>4</th>\n",
       "      <td>586</td>\n",
       "    </tr>\n",
       "  </tbody>\n",
       "</table>\n",
       "</div>"
      ],
      "text/plain": [
       "   Price range\n",
       "1         4444\n",
       "2         3113\n",
       "3         1408\n",
       "4          586"
      ]
     },
     "execution_count": 30,
     "metadata": {},
     "output_type": "execute_result"
    }
   ],
   "source": [
    "# Distribution of Price range\n",
    "df['Price range'].value_counts().to_frame()"
   ]
  },
  {
   "cell_type": "code",
   "execution_count": 31,
   "id": "a5b02a7a",
   "metadata": {},
   "outputs": [
    {
     "data": {
      "image/png": "[encoded data removed]",
      "text/plain": [
       "<Figure size 500x300 with 1 Axes>"
      ]
     },
     "metadata": {},
     "output_type": "display_data"
    }
   ],
   "source": [
    "# Set the custom palette\n",
    "sns.set_palette('vlag')\n",
    "\n",
    "# Visualize the frequency of RainTomorrow\n",
    "col = 'Price range'\n",
    "plt.figure(figsize=(5, 3))\n",
    "ax = sns.countplot(x=col, data=df)\n",
    "show_percentage(ax, len(df)) \n",
    "\n",
    "plt.xlabel(col, size=10, labelpad=8)\n",
    "plt.ylabel('', size=10, labelpad=8)\n",
    "plt.title(f\"Frequency of {col}\", size=14, y=1.05);"
   ]
  },
  {
   "cell_type": "markdown",
   "id": "702182e1",
   "metadata": {},
   "source": [
    "Out of the total dataset, 4,444 entries (46.5%) fall within price range 1, followed by 3,113 entries (32.6%) in range 2, 1,408 entries (14.7%) in range 3, and 586 entries (6.1%) in range 4. It's worth noting that the distribution of the target variable, representing the price ranges, is imbalanced."
   ]
  },
  {
   "cell_type": "markdown",
   "id": "e03a639e",
   "metadata": {},
   "source": [
    "#### 1.4.1.3 Independent variables "
   ]
  },
  {
   "cell_type": "markdown",
   "id": "ae894937",
   "metadata": {},
   "source": [
    "##### Categorical columns"
   ]
  },
  {
   "cell_type": "code",
   "execution_count": 32,
   "id": "c5440b88",
   "metadata": {
    "scrolled": true
   },
   "outputs": [
    {
     "name": "stdout",
     "output_type": "stream",
     "text": [
      "1. Restaurant Name:   7446 unique values\n",
      "2. City:   141 unique values\n",
      "3. Locality:   1208 unique values\n",
      "4. Locality Verbose:   1265 unique values\n",
      "5. Cuisines:   1825 unique values\n",
      "6. Currency:   12 unique values\n",
      "7. Has Table booking:   2 unique values\n",
      "8. Has Online delivery:   2 unique values\n",
      "9. Is delivering now:   2 unique values\n",
      "10. Rating color:   6 unique values\n",
      "11. Rating text:   6 unique values\n"
     ]
    }
   ],
   "source": [
    "# List of categorical columns that look like categories\n",
    "for i,col in enumerate(categorical_col[:-1]):\n",
    "    print(f\"{i+1}. {col}:   {df[col].nunique()} unique values\")"
   ]
  },
  {
   "cell_type": "markdown",
   "id": "bdd1a2b0",
   "metadata": {},
   "source": [
    "The columns 'Restaurant Name,' 'Locality,' 'Locality Verbose,' and 'Cuisines' exhibit high cardinality issues, despite being categorical variables. Consequently, these features will not be subjected to data visualizations. Instead, feature engineering and other strategies will be employed to address the high cardinality in subsequent sections."
   ]
  },
  {
   "cell_type": "markdown",
   "id": "d24d1587",
   "metadata": {},
   "source": [
    "#### City (2)\n",
    "\n",
    "This column also exhibits high cardinality. To address this, we plan to visualize the counts for the top 10 most representative cities and list the counts for the remaining 131 cities. This approach aims to provide a concise representation of the data while highlighting the prevalence of the most frequent cities."
   ]
  },
  {
   "cell_type": "code",
   "execution_count": 33,
   "id": "aa8dde53",
   "metadata": {
    "scrolled": true
   },
   "outputs": [
    {
     "data": {
      "image/png": "[encoded data removed]",
      "text/plain": [
       "<Figure size 1200x400 with 1 Axes>"
      ]
     },
     "metadata": {},
     "output_type": "display_data"
    }
   ],
   "source": [
    "# Visualize the frequency of City(2)\n",
    "col = 'City'\n",
    "plt.figure(figsize=(12, 4))\n",
    "df_counts = df[col].value_counts()\n",
    "ax = sns.barplot(x=df_counts[:10].index, y=df_counts[:10].values, palette='vlag')\n",
    "show_percentage(ax, len(df)) \n",
    "\n",
    "plt.xticks(rotation=45)\n",
    "plt.xlabel('', size=10, labelpad=8)\n",
    "plt.ylabel('', size=10, labelpad=8)\n",
    "plt.title(f\"Frequency of {col}\", size=14, y=1.05);"
   ]
  },
  {
   "cell_type": "code",
   "execution_count": 34,
   "id": "431868d7",
   "metadata": {},
   "outputs": [
    {
     "data": {
      "text/plain": [
       "Rest of Hawaii      20\n",
       "Kochi               20\n",
       "Kolkata             20\n",
       "Pocatello           20\n",
       "Pensacola           20\n",
       "                    ..\n",
       "Panchkula            1\n",
       "Mc Millan            1\n",
       "Mayfield             1\n",
       "Macedon              1\n",
       "Vineland Station     1\n",
       "Name: City, Length: 130, dtype: int64"
      ]
     },
     "metadata": {},
     "output_type": "display_data"
    }
   ],
   "source": [
    "# List the rest of the cities.\n",
    "display(df_counts[11:])"
   ]
  },
  {
   "cell_type": "markdown",
   "id": "da103559",
   "metadata": {},
   "source": [
    "The dataset comprises observations for 141 cities, with the majority being in New Delhi (57.3%). Following New Delhi, the distribution includes Gurgaon (11.7%), Noida (11.3%), Faridabad (2.6%), and other cities with smaller proportions. For Guwahati, Ludknow, Ahmedabad, Amritsar, and Bhubaneshwar, there are additional observations, each representing 0.2% or less in the aforementioned list."
   ]
  },
  {
   "cell_type": "markdown",
   "id": "9658870d",
   "metadata": {},
   "source": [
    "#### Currency (6)"
   ]
  },
  {
   "cell_type": "code",
   "execution_count": 35,
   "id": "d4811171",
   "metadata": {
    "scrolled": true
   },
   "outputs": [
    {
     "data": {
      "image/png": "[encoded data removed]",
      "text/plain": [
       "<Figure size 1200x300 with 1 Axes>"
      ]
     },
     "metadata": {},
     "output_type": "display_data"
    }
   ],
   "source": [
    "# Visualize the frequency of Currency(6)\n",
    "col = 'Currency'\n",
    "plt.figure(figsize=(12, 3))\n",
    "df_counts = df[col].value_counts()\n",
    "\n",
    "ax = sns.barplot(x=df_counts.index, y=df_counts.values, palette='vlag')\n",
    "show_percentage(ax, len(df)) \n",
    "\n",
    "plt.xticks(rotation=45)\n",
    "plt.xlabel('', size=10, labelpad=8)\n",
    "plt.ylabel('', size=10, labelpad=8)\n",
    "plt.title(f\"Frequency of {col}\", size=14, y=1.05);"
   ]
  },
  {
   "cell_type": "markdown",
   "id": "cce80aaa",
   "metadata": {},
   "source": [
    "The dominant currency is the Indian Rupee (Rs.), accounting for 90.6% of occurrences, followed by the US Dollar ($'$) at 5.0%, the British Pound at 0.8%, and so forth. The least represented currencies are the Botswana Pula (P), Indonesian Rupiah (IDR), Qatari Rial (QR), and Sri Lankan Rupee (LKR) at 0.2%"
   ]
  },
  {
   "cell_type": "markdown",
   "id": "196456da",
   "metadata": {},
   "source": [
    "#### Has Table booking (7)"
   ]
  },
  {
   "cell_type": "code",
   "execution_count": 36,
   "id": "6aee58bd",
   "metadata": {
    "scrolled": true
   },
   "outputs": [
    {
     "data": {
      "image/png": "[encoded data removed]",
      "text/plain": [
       "<Figure size 600x300 with 1 Axes>"
      ]
     },
     "metadata": {},
     "output_type": "display_data"
    }
   ],
   "source": [
    "# Visualize the frequency of Has Table booking(7)\n",
    "col = 'Has Table booking'\n",
    "plt.figure(figsize=(6, 3))\n",
    "df_counts = df[col].value_counts()\n",
    "\n",
    "ax = sns.barplot(x=df_counts.index, y=df_counts.values, palette='vlag')\n",
    "show_percentage(ax, len(df)) \n",
    "\n",
    "plt.xticks(rotation=0)\n",
    "plt.xlabel('', size=10, labelpad=8)\n",
    "plt.ylabel('', size=10, labelpad=8)\n",
    "plt.title(f\"Frequency of {col}\", size=14, y=1.05);"
   ]
  },
  {
   "cell_type": "markdown",
   "id": "9962f650",
   "metadata": {},
   "source": [
    "Of the total observations, 87.9% indicate the absence of table bookings, while 12.1% indicate the presence of a booking."
   ]
  },
  {
   "cell_type": "markdown",
   "id": "fd3c45a0",
   "metadata": {},
   "source": [
    "#### Has Online delivery (8)"
   ]
  },
  {
   "cell_type": "code",
   "execution_count": 37,
   "id": "2470c92b",
   "metadata": {
    "scrolled": false
   },
   "outputs": [
    {
     "data": {
      "image/png": "[encoded data removed]",
      "text/plain": [
       "<Figure size 600x300 with 1 Axes>"
      ]
     },
     "metadata": {},
     "output_type": "display_data"
    }
   ],
   "source": [
    "# Visualize the frequency of Has Online delivery(8)\n",
    "col = 'Has Online delivery'\n",
    "plt.figure(figsize=(6, 3))\n",
    "df_counts = df[col].value_counts()\n",
    "\n",
    "ax = sns.barplot(x=df_counts.index, y=df_counts.values, palette='vlag')\n",
    "show_percentage(ax, len(df)) \n",
    "\n",
    "plt.xticks(rotation=0)\n",
    "plt.xlabel('', size=10, labelpad=8)\n",
    "plt.ylabel('', size=10, labelpad=8)\n",
    "plt.title(f\"Frequency of {col}\", size=14, y=1.05);"
   ]
  },
  {
   "cell_type": "markdown",
   "id": "d3d2113f",
   "metadata": {},
   "source": [
    "Out of the total observations, 74.3% indicate the absence of online delivery, while 25.7% indicate the presence of online delivery."
   ]
  },
  {
   "cell_type": "markdown",
   "id": "dcf8d837",
   "metadata": {},
   "source": [
    "#### Is delivering now (9)"
   ]
  },
  {
   "cell_type": "code",
   "execution_count": 38,
   "id": "42270a31",
   "metadata": {
    "scrolled": false
   },
   "outputs": [
    {
     "data": {
      "image/png": "[encoded data removed]",
      "text/plain": [
       "<Figure size 600x300 with 1 Axes>"
      ]
     },
     "metadata": {},
     "output_type": "display_data"
    }
   ],
   "source": [
    "# Visualize the frequency of Is delivering now(9)\n",
    "col = 'Is delivering now'\n",
    "plt.figure(figsize=(6, 3))\n",
    "df_counts = df[col].value_counts()\n",
    "\n",
    "ax = sns.barplot(x=df_counts.index, y=df_counts.values, palette='vlag')\n",
    "show_percentage(ax, len(df)) \n",
    "\n",
    "plt.xticks(rotation=0)\n",
    "plt.xlabel('', size=10, labelpad=8)\n",
    "plt.ylabel('', size=10, labelpad=8)\n",
    "plt.title(f\"Frequency of {col}\", size=14, y=1.05);"
   ]
  },
  {
   "cell_type": "markdown",
   "id": "6427addf",
   "metadata": {},
   "source": [
    "Out of the total observations, 99.6% indicate No for is delivering now, while 0.4% indicate Yes for is delivering now."
   ]
  },
  {
   "cell_type": "markdown",
   "id": "546a2220",
   "metadata": {},
   "source": [
    "1. Restaurant Name:   7446 unique values\n",
    "2. City:   141 unique values\n",
    "3. Locality:   1208 unique values\n",
    "4. Locality Verbose:   1265 unique values\n",
    "5. Cuisines:   1825 unique values\n",
    "6. Currency:   12 unique values\n",
    "7. Has Table booking:   2 unique values\n",
    "8. Has Online delivery:   2 unique values\n",
    "9. Is delivering now:   2 unique values\n",
    "10. Rating color:   6 unique values\n",
    "11. Rating text:   6 unique values"
   ]
  },
  {
   "cell_type": "markdown",
   "id": "3d097ff5",
   "metadata": {},
   "source": [
    "#### Rating color (10)"
   ]
  },
  {
   "cell_type": "code",
   "execution_count": 39,
   "id": "c65f966e",
   "metadata": {
    "scrolled": true
   },
   "outputs": [
    {
     "data": {
      "image/png": "[encoded data removed]",
      "text/plain": [
       "<Figure size 600x300 with 1 Axes>"
      ]
     },
     "metadata": {},
     "output_type": "display_data"
    }
   ],
   "source": [
    "# Visualize the frequency of Rating color(10)\n",
    "col = 'Rating color'\n",
    "plt.figure(figsize=(6, 3))\n",
    "df_counts = df[col].value_counts()\n",
    "\n",
    "ax = sns.barplot(x=df_counts.index, y=df_counts.values, palette='vlag')\n",
    "show_percentage(ax, len(df)) \n",
    "\n",
    "plt.xticks(rotation=90)\n",
    "plt.xlabel('', size=10, labelpad=8)\n",
    "plt.ylabel('', size=10, labelpad=8)\n",
    "plt.title(f\"Frequency of {col}\", size=14, y=1.05);"
   ]
  },
  {
   "cell_type": "markdown",
   "id": "6f71048c",
   "metadata": {},
   "source": [
    "In terms of rating color distribution, the dataset shows that 39.1% of the entries are labeled as Orange, 22.5% as White, 22% as Yellow, 11.3% as Green, 3.2% as Dark Green, and 1.9% as Red."
   ]
  },
  {
   "cell_type": "markdown",
   "id": "701d235a",
   "metadata": {},
   "source": [
    "#### Numerical columns"
   ]
  },
  {
   "cell_type": "code",
   "execution_count": 42,
   "id": "16f5bbc1",
   "metadata": {},
   "outputs": [
    {
     "name": "stdout",
     "output_type": "stream",
     "text": [
      "1. Longitude\n",
      "2. Latitude\n",
      "3. Votes\n"
     ]
    }
   ],
   "source": [
    "# List of numerical columns in the dataset\n",
    "for i,col in enumerate(numerical_col):\n",
    "    print(f\"{i+1}. {col}\")"
   ]
  },
  {
   "cell_type": "code",
   "execution_count": 43,
   "id": "fe76e44c",
   "metadata": {},
   "outputs": [
    {
     "data": {
      "image/png": "[encoded data removed]",
      "text/plain": [
       "<Figure size 1200x400 with 2 Axes>"
      ]
     },
     "metadata": {},
     "output_type": "display_data"
    },
    {
     "name": "stdout",
     "output_type": "stream",
     "text": [
      "Skewness of Votes : 8.807636687709472\n"
     ]
    }
   ],
   "source": [
    "#Visualize (3) Votes\n",
    "col = 'Votes'\n",
    "fig, axes = plt.subplots(1, 2, figsize=(12, 4))\n",
    "sns.color_palette(\"vlag\", as_cmap=True)\n",
    "\n",
    "sns.histplot(df[col], kde=True , bins=20, ax=axes[0], color='#6e90bf')\n",
    "sns.boxplot(df[col], ax=axes[1], color='#6e90bf')\n",
    "\n",
    "axes[0].set_title(f'{col} Distribution', size=12, y=1.05)\n",
    "axes[0].set_ylabel('', size=10, labelpad=8)\n",
    "\n",
    "axes[1].set_title(f'{col} Box Plot', size=12, y=1.05)\n",
    "\n",
    "plt.show()\n",
    "\n",
    "# Show the skewness of MinTemp\n",
    "print(f\"Skewness of {col} : {df[col].skew()}\")"
   ]
  },
  {
   "cell_type": "markdown",
   "id": "6d506996",
   "metadata": {},
   "source": [
    "The distribution of 'Votes' is skewed to the left. There are outliers present in the Box plot."
   ]
  },
  {
   "cell_type": "markdown",
   "id": "23b74df9",
   "metadata": {},
   "source": [
    "#### 1.4.1.4 Univariate Boxplot"
   ]
  },
  {
   "cell_type": "code",
   "execution_count": 44,
   "id": "8a4c4ca1",
   "metadata": {},
   "outputs": [
    {
     "data": {
      "image/png": "[encoded data removed]",
      "text/plain": [
       "<Figure size 2000x1200 with 1 Axes>"
      ]
     },
     "metadata": {},
     "output_type": "display_data"
    }
   ],
   "source": [
    "# Draw a boxplot for each independent variable \n",
    "df.boxplot(figsize=(20,12), color='#c26f6d')\n",
    "plt.xticks(rotation=45)\n",
    "plt.show()"
   ]
  },
  {
   "cell_type": "markdown",
   "id": "2d95ae30",
   "metadata": {},
   "source": [
    "### 1.4.2  Bivariate Analysis"
   ]
  },
  {
   "cell_type": "markdown",
   "id": "0e3a674e",
   "metadata": {},
   "source": [
    "**Notes:**\n",
    "- In order to do a better data analysis I investigated other approaches from different sources. These references as inspiration help me with the EDA process. But not in order to make an exact copy of the analysis or the code.\n",
    "- All functions used in this project are my own. As we have progressed in the assignments, I have been improving the code so that they are more general and can be applied in different scenarios. I decided to do it this way to improve and progress my knowledge of python. \n",
    "\n",
    "By Monica Atiaga"
   ]
  }
 ],
 "metadata": {
  "kernelspec": {
   "display_name": "Python 3 (ipykernel)",
   "language": "python",
   "name": "python3"
  },
  "language_info": {
   "codemirror_mode": {
    "name": "ipython",
    "version": 3
   },
   "file_extension": ".py",
   "mimetype": "text/x-python",
   "name": "python",
   "nbconvert_exporter": "python",
   "pygments_lexer": "ipython3",
   "version": "3.9.13"
  }
 },
 "nbformat": 4,
 "nbformat_minor": 5
}
